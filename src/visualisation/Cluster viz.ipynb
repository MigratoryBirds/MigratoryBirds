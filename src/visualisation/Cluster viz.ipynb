{
 "cells": [
  {
   "cell_type": "markdown",
   "id": "c3ca9da3",
   "metadata": {},
   "source": [
    "# Data and Map visualisation"
   ]
  },
  {
   "cell_type": "code",
   "execution_count": null,
   "id": "ee3e2ec1",
   "metadata": {},
   "outputs": [],
   "source": [
    "import numpy as np\n",
    "import pandas as pd\n",
    "import plotly.express as px\n",
    "import matplotlib.pyplot as plt"
   ]
  },
  {
   "cell_type": "markdown",
   "id": "a8c411e8",
   "metadata": {},
   "source": [
    "First necessary data is read into the dataframes."
   ]
  },
  {
   "cell_type": "code",
   "execution_count": null,
   "id": "3154d4a8",
   "metadata": {},
   "outputs": [],
   "source": [
    "dataframe_location_2019_2020 = pd.read_csv(\"../../resources/original_data/FinlandNestDatafile.csv\")\n",
    "dataframe_location_2021 = pd.read_csv(\"../../resources/original_data/Finland_nestdata2021_mod.csv\")\n",
    "dataframe_mobbing_2019_2020 = pd.read_csv(\"../../resources/original_data/FinlandMobbingDatafile.csv\")\n",
    "dataframe_mobbing_2021 = pd.read_csv(\"../../resources/original_data/Finland_ExperimentData2021_mod.csv\")\n",
    "\n",
    "# combine mobbing dataframes:\n",
    "dataframe_mobbing = pd.concat([dataframe_mobbing_2021,dataframe_mobbing_2019_2020], axis=0, ignore_index=True)\n",
    "# combine locations:\n",
    "dataframe_location_2021['Year'] = np.repeat(2021, dataframe_location_2021.shape[0])\n",
    "dataframe_location = pd.concat([dataframe_location_2019_2020,dataframe_location_2021], axis=0, ignore_index=True)\n",
    "\n",
    "dataframe_mobbing = dataframe_mobbing.drop(\n",
    "    columns=['Site', 'Year', 'lat', 'long', 'Cuckoo_perch', 'New_rebuild', 'Rebuild_original']\n",
    ")\n",
    "\n",
    "data = pd.merge(dataframe_location, dataframe_mobbing, left_on='NestID', right_on='NestID', how = 'left')"
   ]
  },
  {
   "cell_type": "markdown",
   "id": "3132fb45",
   "metadata": {},
   "source": [
    "#### Site Data\n",
    "First a new column *mobbing* is added into the dataframe in order to create plots by the propensity values."
   ]
  },
  {
   "cell_type": "code",
   "execution_count": null,
   "id": "157acd52",
   "metadata": {},
   "outputs": [],
   "source": [
    "for i in range(data.shape[0]):\n",
    "    if data['Propensity'][i] == 0:\n",
    "        data.loc[i, 'Mobbing'] = 'Shy'\n",
    "    elif data['Propensity'][i] == 1:\n",
    "        data.loc[i, 'Mobbing'] = 'Aggressive'\n",
    "    else:\n",
    "        data.loc[i, 'Mobbing'] = 'No info'\n",
    "for i in range(data.shape[0]):\n",
    "    if data['Year'][i] == 2019:\n",
    "        data.loc[i, 'Years'] = '2019'\n",
    "    elif data['Year'][i] == 2020:\n",
    "        data.loc[i, 'Years'] = '2020'\n",
    "    else:\n",
    "        data.loc[i, 'Years'] = '2021'"
   ]
  },
  {
   "cell_type": "markdown",
   "id": "7632791f",
   "metadata": {},
   "source": [
    "The following code blocks generates lists of the sites. For each year only sites related to them are listed."
   ]
  },
  {
   "cell_type": "code",
   "execution_count": null,
   "id": "189b69f4",
   "metadata": {},
   "outputs": [],
   "source": [
    "data[data.Year == 2021].Site.str.strip().value_counts()"
   ]
  },
  {
   "cell_type": "code",
   "execution_count": null,
   "id": "1f75af55",
   "metadata": {},
   "outputs": [],
   "source": [
    "data[data.Year == 2020].Site.str.strip().value_counts()"
   ]
  },
  {
   "cell_type": "code",
   "execution_count": null,
   "id": "d534e184",
   "metadata": {},
   "outputs": [],
   "source": [
    "data[data.Year == 2019].Site.str.strip().value_counts()\n",
    "print(len(data[data.Year == 2019]))\n",
    "print(len(data[data.Year == 2020]))\n",
    "print(len(data[data.Year == 2021]))"
   ]
  },
  {
   "cell_type": "markdown",
   "id": "8562881f",
   "metadata": {},
   "source": [
    "#### Stacked Bar Charts for Sites\n",
    "Following code blocks generates stacked bar charts for each year. Only the sites relevant for the year are shown in the charts."
   ]
  },
  {
   "cell_type": "code",
   "execution_count": null,
   "id": "4d93df7a",
   "metadata": {},
   "outputs": [],
   "source": [
    "def create_stacked_bar_chart(data, year):\n",
    "    unique_sites = data[data.Year == year].Site.str.strip().unique()\n",
    "    a = []\n",
    "    \n",
    "    for i in range(len(unique_sites)):\n",
    "        #print([unique_sites[i]] + plot_one_year(data, year, unique_sites[i]))\n",
    "        a.append([unique_sites[i]] + plot_one_year(data, year, unique_sites[i]))\n",
    "    \n",
    "    a = pd.DataFrame(a, columns=['Site', 'No_test', 'N_shy', 'N_aggressive'])\n",
    "\n",
    "    \n",
    "    a.plot(\n",
    "        x = 'Site',\n",
    "        kind = 'barh',\n",
    "        stacked = True,\n",
    "        title = 'Stacked Bar Graph',\n",
    "        mark_right = True)\n",
    "\n",
    "def plot_one_year(data, year, site, plot = False):\n",
    "    tmp = data[(data.Year == year) & (data.Site == site)]\n",
    "    \n",
    "    if plot:\n",
    "        fig = px.scatter_mapbox(tmp, lat=\"lat\", lon=\"long\", hover_name=\"NestID\", hover_data=[\"Site\", \"Propensity\"], \n",
    "                            height = 300, color = \"Mobbing\", \n",
    "                            color_discrete_map={ 'Shy': 'blue', 'Aggressive': 'red', 'No info': 'grey'},\n",
    "                            width = 500, zoom = 13, title = site + ', Year: ' + str(year),\n",
    "                            category_orders={\"Mobbing\":[\"Shy\",\"Aggressive\",\"No info\"]})\n",
    "        fig.update_layout(mapbox_style=\"open-street-map\")\n",
    "        fig.update_layout(margin={\"r\":0,\"t\":50,\"l\":0,\"b\":0})\n",
    "        fig.show()\n",
    "    \n",
    "    n_no_test = np.sum(pd.isnull(tmp.Propensity))\n",
    "    n_shy = np.sum(tmp.Propensity == 0)\n",
    "    n_aggressive = np.sum(tmp.Propensity == 1)\n",
    "    \n",
    "    return [n_no_test, n_shy, n_aggressive]"
   ]
  },
  {
   "cell_type": "code",
   "execution_count": null,
   "id": "bd34b9c3",
   "metadata": {},
   "outputs": [],
   "source": [
    "create_stacked_bar_chart(data, 2019)"
   ]
  },
  {
   "cell_type": "code",
   "execution_count": null,
   "id": "e46401b1",
   "metadata": {},
   "outputs": [],
   "source": [
    "create_stacked_bar_chart(data, 2020)"
   ]
  },
  {
   "cell_type": "code",
   "execution_count": null,
   "id": "afc63207",
   "metadata": {},
   "outputs": [],
   "source": [
    "create_stacked_bar_chart(data, 2021)"
   ]
  },
  {
   "cell_type": "markdown",
   "id": "2c46effe",
   "metadata": {},
   "source": [
    "#### Plot Mobbing Data by Site\n",
    "In the following code block are the helper functions for map plotting by a site both for each year separately and for all year"
   ]
  },
  {
   "cell_type": "code",
   "execution_count": null,
   "id": "91a59575",
   "metadata": {},
   "outputs": [],
   "source": [
    "def plot_all_years(data, site):\n",
    "    tmp = data[(data.Site == site)]\n",
    "    \n",
    "    \n",
    "    fig = px.scatter_mapbox(tmp, lat=\"lat\", lon=\"long\", hover_name=\"NestID\", hover_data=[\"Site\", \"Propensity\"], \n",
    "                        height = 300, color = 'Years',\n",
    "                        color_discrete_map={'2019': '#a4054f', '2020': '#4c339f', '2021': '#fab82f'},\n",
    "                        width = 500, zoom = 13, title = site)\n",
    "    fig.update_layout(mapbox_style=\"open-street-map\")\n",
    "    fig.update_layout(margin={\"r\":0,\"t\":50,\"l\":0,\"b\":0})\n",
    "    fig.show()"
   ]
  },
  {
   "cell_type": "markdown",
   "id": "cfab9143",
   "metadata": {},
   "source": [
    "\n",
    "Assign the wanted site for the variable `site`. The possible choises can be checkec from the generated site lists above. Default value '' (empty string)."
   ]
  },
  {
   "cell_type": "code",
   "execution_count": null,
   "id": "72afbe30",
   "metadata": {
    "scrolled": false
   },
   "outputs": [],
   "source": [
    "site = 'Smedjeviken'\n",
    "\n",
    "plot_one_year(data, 2019, site, True)\n",
    "plot_one_year(data, 2020, site, True)\n",
    "plot_one_year(data, 2021, site, True)\n",
    "\n",
    "plot_all_years(data, site)"
   ]
  },
  {
   "cell_type": "markdown",
   "id": "4b26ebbc",
   "metadata": {},
   "source": [
    "All nests plotted by a given year. Assign the wanted year (2019,2020 or 2021) into variable `year`. Default is 2021."
   ]
  },
  {
   "cell_type": "code",
   "execution_count": null,
   "id": "bba05e0c",
   "metadata": {},
   "outputs": [],
   "source": [
    "\n",
    "year = 2021\n",
    "fig = px.scatter_mapbox(data[data.Year == year], lat=\"lat\", lon=\"long\", hover_name=\"NestID\",\n",
    "  hover_data=[\"Site\"], color=\"Site\", zoom=13, height=600)\n",
    "fig.update_layout(mapbox_style=\"open-street-map\")\n",
    "fig.update_layout(margin={\"r\":0,\"t\":0,\"l\":0,\"b\":0})\n",
    "fig.show()"
   ]
  },
  {
   "cell_type": "markdown",
   "id": "cce5389f",
   "metadata": {},
   "source": [
    "#### Scatterplots from Sites and Propensity Data\n",
    "The code snippet below creates a scatterplot for each year. The plot present the number of nests witout data, with aggressive nests (Porpensity 1) and shy birds (Propensity 0).   \n",
    "Each plot contains all the sites seen in data.\n",
    "                                                                                         "
   ]
  },
  {
   "cell_type": "code",
   "execution_count": null,
   "id": "5671f684",
   "metadata": {},
   "outputs": [],
   "source": [
    "from utils.site_differences import create_site_diffs_data\n",
    "\n",
    "def create_stacked_bar_chart_all_sites(data, year):\n",
    "    df = pd.DataFrame({'Site': data.index.values, 'Shy': data[f'Shy{year}'],\n",
    "        'Aggressive': data[f'Aggressive{year}'], 'No data': data[f'No_data{year}']})\n",
    "\n",
    "    df.plot(\n",
    "        x = 'Site',\n",
    "        kind = 'barh',\n",
    "        stacked = True,\n",
    "        title = f'Site data {year}',\n",
    "        xlim=(0,25),\n",
    "        mark_right = True,\n",
    "        figsize=(10,12),\n",
    "        fontsize=14\n",
    "        )\n",
    "    plt.legend(['Shy', 'Aggressive', 'No data'], prop={'size': 16})\n",
    "df = create_site_diffs_data()\n",
    "create_stacked_bar_chart_all_sites(df, 2019)\n",
    "create_stacked_bar_chart_all_sites(df, 2020)\n",
    "create_stacked_bar_chart_all_sites(df, 2021)"
   ]
  }
 ],
 "metadata": {
  "kernelspec": {
   "display_name": "Python 3",
   "language": "python",
   "name": "python3"
  },
  "language_info": {
   "codemirror_mode": {
    "name": "ipython",
    "version": 3
   },
   "file_extension": ".py",
   "mimetype": "text/x-python",
   "name": "python",
   "nbconvert_exporter": "python",
   "pygments_lexer": "ipython3",
   "version": "3.9.10"
  }
 },
 "nbformat": 4,
 "nbformat_minor": 5
}
