{
 "cells": [
  {
   "cell_type": "code",
   "execution_count": 21,
   "id": "ee3e2ec1",
   "metadata": {},
   "outputs": [],
   "source": [
    "import numpy as np\n",
    "import pandas as pd\n",
    "import plotly.express as px\n",
    "import seaborn as sns\n",
    "import matplotlib.pyplot as plt"
   ]
  },
  {
   "cell_type": "code",
   "execution_count": 2,
   "id": "3154d4a8",
   "metadata": {},
   "outputs": [],
   "source": [
    "dataframe_location_2019_2020 = pd.read_csv(\"MigratoryBirds/resources/original_data/FinlandNestDatafile.csv\")\n",
    "dataframe_location_2021 = pd.read_csv(\"MigratoryBirds/resources/original_data/Finland_nestdata2021_mod.csv\")\n",
    "dataframe_mobbing_2019_2020 = pd.read_csv(\"MigratoryBirds/resources/original_data/FinlandMobbingDatafile.csv\")\n",
    "dataframe_mobbing_2021 = pd.read_csv(\"MigratoryBirds/resources/original_data/Finland_ExperimentData2021_mod.csv\")\n",
    "\n",
    "# combine mobbing dataframes:\n",
    "dataframe_mobbing = pd.concat([dataframe_mobbing_2021,dataframe_mobbing_2019_2020], axis=0, ignore_index=True)\n",
    "# combine locations:\n",
    "dataframe_location_2021['Year'] = np.repeat(2021, dataframe_location_2021.shape[0])\n",
    "dataframe_location = pd.concat([dataframe_location_2019_2020,dataframe_location_2021], axis=0, ignore_index=True)\n",
    "\n",
    "dataframe_mobbing = dataframe_mobbing.drop(\n",
    "    columns=['Site', 'Year', 'lat', 'long', 'Cuckoo_perch', 'New_rebuild', 'Rebuild_original']\n",
    ")\n",
    "\n",
    "data = pd.merge(dataframe_location, dataframe_mobbing, left_on='NestID', right_on='NestID', how = 'left')"
   ]
  },
  {
   "cell_type": "code",
   "execution_count": 3,
   "id": "157acd52",
   "metadata": {},
   "outputs": [],
   "source": [
    "for i in range(data.shape[0]):\n",
    "    if data['Propensity'][i] == 0:\n",
    "        data.loc[i, 'mobbing'] = 'shy'\n",
    "    elif data['Propensity'][i] == 1:\n",
    "        data.loc[i, 'mobbing'] = 'aggressive'\n",
    "    else:\n",
    "        data.loc[i, 'mobbing'] = 'no info'"
   ]
  },
  {
   "cell_type": "code",
   "execution_count": 4,
   "id": "76568162",
   "metadata": {
    "scrolled": false
   },
   "outputs": [
    {
     "data": {
      "text/html": [
       "<div>\n",
       "<style scoped>\n",
       "    .dataframe tbody tr th:only-of-type {\n",
       "        vertical-align: middle;\n",
       "    }\n",
       "\n",
       "    .dataframe tbody tr th {\n",
       "        vertical-align: top;\n",
       "    }\n",
       "\n",
       "    .dataframe thead th {\n",
       "        text-align: right;\n",
       "    }\n",
       "</style>\n",
       "<table border=\"1\" class=\"dataframe\">\n",
       "  <thead>\n",
       "    <tr style=\"text-align: right;\">\n",
       "      <th></th>\n",
       "      <th>NestID</th>\n",
       "      <th>Site</th>\n",
       "      <th>lat</th>\n",
       "      <th>long</th>\n",
       "      <th>Year</th>\n",
       "      <th>Date_nest_found</th>\n",
       "      <th>Cuckoo_perch</th>\n",
       "      <th>New_rebuild</th>\n",
       "      <th>Rebuild_original</th>\n",
       "      <th>Model</th>\n",
       "      <th>Date_trial</th>\n",
       "      <th>Rasps</th>\n",
       "      <th>Bill_snaps</th>\n",
       "      <th>SnapsRasps</th>\n",
       "      <th>Propensity</th>\n",
       "      <th>Laydate_first_egg</th>\n",
       "      <th>Days_from_LD</th>\n",
       "      <th>mobbing</th>\n",
       "    </tr>\n",
       "  </thead>\n",
       "  <tbody>\n",
       "    <tr>\n",
       "      <th>0</th>\n",
       "      <td>19KR1</td>\n",
       "      <td>Kodderviken</td>\n",
       "      <td>60.34265</td>\n",
       "      <td>25.60605</td>\n",
       "      <td>2019</td>\n",
       "      <td>19.5.2019</td>\n",
       "      <td>24.0</td>\n",
       "      <td>0.0</td>\n",
       "      <td>NaN</td>\n",
       "      <td>NaN</td>\n",
       "      <td>NaN</td>\n",
       "      <td>NaN</td>\n",
       "      <td>NaN</td>\n",
       "      <td>NaN</td>\n",
       "      <td>NaN</td>\n",
       "      <td>NaN</td>\n",
       "      <td>NaN</td>\n",
       "      <td>no info</td>\n",
       "    </tr>\n",
       "    <tr>\n",
       "      <th>1</th>\n",
       "      <td>19EK1</td>\n",
       "      <td>Hyljelahti</td>\n",
       "      <td>60.14196</td>\n",
       "      <td>24.69826</td>\n",
       "      <td>2019</td>\n",
       "      <td>27.5.2019</td>\n",
       "      <td>70.0</td>\n",
       "      <td>0.0</td>\n",
       "      <td>NaN</td>\n",
       "      <td>Cuckoo</td>\n",
       "      <td>6/6/2019</td>\n",
       "      <td>0.0</td>\n",
       "      <td>0.0</td>\n",
       "      <td>0.0</td>\n",
       "      <td>0.0</td>\n",
       "      <td>6/3/2019</td>\n",
       "      <td>3.0</td>\n",
       "      <td>shy</td>\n",
       "    </tr>\n",
       "    <tr>\n",
       "      <th>2</th>\n",
       "      <td>19EK2</td>\n",
       "      <td>Myrans</td>\n",
       "      <td>60.19962</td>\n",
       "      <td>24.07649</td>\n",
       "      <td>2019</td>\n",
       "      <td>29.5.2019</td>\n",
       "      <td>5.0</td>\n",
       "      <td>0.0</td>\n",
       "      <td>NaN</td>\n",
       "      <td>Cuckoo</td>\n",
       "      <td>5/31/2019</td>\n",
       "      <td>0.0</td>\n",
       "      <td>0.0</td>\n",
       "      <td>0.0</td>\n",
       "      <td>0.0</td>\n",
       "      <td>5/28/2019</td>\n",
       "      <td>3.0</td>\n",
       "      <td>shy</td>\n",
       "    </tr>\n",
       "    <tr>\n",
       "      <th>3</th>\n",
       "      <td>19EK3</td>\n",
       "      <td>Myrans</td>\n",
       "      <td>60.19983</td>\n",
       "      <td>24.07585</td>\n",
       "      <td>2019</td>\n",
       "      <td>29.5.2019</td>\n",
       "      <td>15.0</td>\n",
       "      <td>0.0</td>\n",
       "      <td>NaN</td>\n",
       "      <td>Cuckoo</td>\n",
       "      <td>6/6/2019</td>\n",
       "      <td>0.0</td>\n",
       "      <td>0.0</td>\n",
       "      <td>0.0</td>\n",
       "      <td>0.0</td>\n",
       "      <td>6/3/2019</td>\n",
       "      <td>3.0</td>\n",
       "      <td>shy</td>\n",
       "    </tr>\n",
       "    <tr>\n",
       "      <th>4</th>\n",
       "      <td>19EK4</td>\n",
       "      <td>Mataskärsviken</td>\n",
       "      <td>60.13318</td>\n",
       "      <td>24.69677</td>\n",
       "      <td>2019</td>\n",
       "      <td>30.5.2019</td>\n",
       "      <td>23.0</td>\n",
       "      <td>0.0</td>\n",
       "      <td>NaN</td>\n",
       "      <td>Cuckoo</td>\n",
       "      <td>6/7/2019</td>\n",
       "      <td>111.0</td>\n",
       "      <td>21.0</td>\n",
       "      <td>132.0</td>\n",
       "      <td>1.0</td>\n",
       "      <td>6/4/2019</td>\n",
       "      <td>3.0</td>\n",
       "      <td>aggressive</td>\n",
       "    </tr>\n",
       "    <tr>\n",
       "      <th>...</th>\n",
       "      <td>...</td>\n",
       "      <td>...</td>\n",
       "      <td>...</td>\n",
       "      <td>...</td>\n",
       "      <td>...</td>\n",
       "      <td>...</td>\n",
       "      <td>...</td>\n",
       "      <td>...</td>\n",
       "      <td>...</td>\n",
       "      <td>...</td>\n",
       "      <td>...</td>\n",
       "      <td>...</td>\n",
       "      <td>...</td>\n",
       "      <td>...</td>\n",
       "      <td>...</td>\n",
       "      <td>...</td>\n",
       "      <td>...</td>\n",
       "      <td>...</td>\n",
       "    </tr>\n",
       "    <tr>\n",
       "      <th>413</th>\n",
       "      <td>21NB33</td>\n",
       "      <td>Källsund</td>\n",
       "      <td>60.33639</td>\n",
       "      <td>25.69819</td>\n",
       "      <td>2021</td>\n",
       "      <td>NaN</td>\n",
       "      <td>28.0</td>\n",
       "      <td>NaN</td>\n",
       "      <td>NaN</td>\n",
       "      <td>NaN</td>\n",
       "      <td>NaN</td>\n",
       "      <td>NaN</td>\n",
       "      <td>NaN</td>\n",
       "      <td>NaN</td>\n",
       "      <td>NaN</td>\n",
       "      <td>NaN</td>\n",
       "      <td>NaN</td>\n",
       "      <td>no info</td>\n",
       "    </tr>\n",
       "    <tr>\n",
       "      <th>414</th>\n",
       "      <td>21KR49</td>\n",
       "      <td>Bjurvik</td>\n",
       "      <td>60.33979</td>\n",
       "      <td>25.71288</td>\n",
       "      <td>2021</td>\n",
       "      <td>NaN</td>\n",
       "      <td>74.0</td>\n",
       "      <td>NaN</td>\n",
       "      <td>NaN</td>\n",
       "      <td>NaN</td>\n",
       "      <td>NaN</td>\n",
       "      <td>NaN</td>\n",
       "      <td>NaN</td>\n",
       "      <td>NaN</td>\n",
       "      <td>NaN</td>\n",
       "      <td>NaN</td>\n",
       "      <td>NaN</td>\n",
       "      <td>no info</td>\n",
       "    </tr>\n",
       "    <tr>\n",
       "      <th>415</th>\n",
       "      <td>21KR50</td>\n",
       "      <td>Bjurvik</td>\n",
       "      <td>60.34053</td>\n",
       "      <td>25.71125</td>\n",
       "      <td>2021</td>\n",
       "      <td>NaN</td>\n",
       "      <td>75.0</td>\n",
       "      <td>NaN</td>\n",
       "      <td>NaN</td>\n",
       "      <td>NaN</td>\n",
       "      <td>NaN</td>\n",
       "      <td>NaN</td>\n",
       "      <td>NaN</td>\n",
       "      <td>NaN</td>\n",
       "      <td>NaN</td>\n",
       "      <td>NaN</td>\n",
       "      <td>NaN</td>\n",
       "      <td>no info</td>\n",
       "    </tr>\n",
       "    <tr>\n",
       "      <th>416</th>\n",
       "      <td>21KR51</td>\n",
       "      <td>Källsund</td>\n",
       "      <td>60.33584</td>\n",
       "      <td>25.69848</td>\n",
       "      <td>2021</td>\n",
       "      <td>NaN</td>\n",
       "      <td>34.0</td>\n",
       "      <td>NaN</td>\n",
       "      <td>NaN</td>\n",
       "      <td>NaN</td>\n",
       "      <td>NaN</td>\n",
       "      <td>NaN</td>\n",
       "      <td>NaN</td>\n",
       "      <td>NaN</td>\n",
       "      <td>NaN</td>\n",
       "      <td>NaN</td>\n",
       "      <td>NaN</td>\n",
       "      <td>no info</td>\n",
       "    </tr>\n",
       "    <tr>\n",
       "      <th>417</th>\n",
       "      <td>21KR52</td>\n",
       "      <td>Kråkö</td>\n",
       "      <td>60.33861</td>\n",
       "      <td>25.69281</td>\n",
       "      <td>2021</td>\n",
       "      <td>NaN</td>\n",
       "      <td>68.0</td>\n",
       "      <td>NaN</td>\n",
       "      <td>NaN</td>\n",
       "      <td>NaN</td>\n",
       "      <td>NaN</td>\n",
       "      <td>NaN</td>\n",
       "      <td>NaN</td>\n",
       "      <td>NaN</td>\n",
       "      <td>NaN</td>\n",
       "      <td>NaN</td>\n",
       "      <td>NaN</td>\n",
       "      <td>no info</td>\n",
       "    </tr>\n",
       "  </tbody>\n",
       "</table>\n",
       "<p>418 rows × 18 columns</p>\n",
       "</div>"
      ],
      "text/plain": [
       "     NestID            Site       lat      long  Year Date_nest_found  \\\n",
       "0     19KR1     Kodderviken  60.34265  25.60605  2019       19.5.2019   \n",
       "1     19EK1      Hyljelahti  60.14196  24.69826  2019       27.5.2019   \n",
       "2     19EK2          Myrans  60.19962  24.07649  2019       29.5.2019   \n",
       "3     19EK3          Myrans  60.19983  24.07585  2019       29.5.2019   \n",
       "4     19EK4  Mataskärsviken  60.13318  24.69677  2019       30.5.2019   \n",
       "..      ...             ...       ...       ...   ...             ...   \n",
       "413  21NB33        Källsund  60.33639  25.69819  2021             NaN   \n",
       "414  21KR49         Bjurvik  60.33979  25.71288  2021             NaN   \n",
       "415  21KR50         Bjurvik  60.34053  25.71125  2021             NaN   \n",
       "416  21KR51        Källsund  60.33584  25.69848  2021             NaN   \n",
       "417  21KR52           Kråkö  60.33861  25.69281  2021             NaN   \n",
       "\n",
       "     Cuckoo_perch  New_rebuild Rebuild_original   Model Date_trial  Rasps  \\\n",
       "0            24.0          0.0              NaN     NaN        NaN    NaN   \n",
       "1            70.0          0.0              NaN  Cuckoo   6/6/2019    0.0   \n",
       "2             5.0          0.0              NaN  Cuckoo  5/31/2019    0.0   \n",
       "3            15.0          0.0              NaN  Cuckoo   6/6/2019    0.0   \n",
       "4            23.0          0.0              NaN  Cuckoo   6/7/2019  111.0   \n",
       "..            ...          ...              ...     ...        ...    ...   \n",
       "413          28.0          NaN              NaN     NaN        NaN    NaN   \n",
       "414          74.0          NaN              NaN     NaN        NaN    NaN   \n",
       "415          75.0          NaN              NaN     NaN        NaN    NaN   \n",
       "416          34.0          NaN              NaN     NaN        NaN    NaN   \n",
       "417          68.0          NaN              NaN     NaN        NaN    NaN   \n",
       "\n",
       "     Bill_snaps  SnapsRasps  Propensity Laydate_first_egg  Days_from_LD  \\\n",
       "0           NaN         NaN         NaN               NaN           NaN   \n",
       "1           0.0         0.0         0.0          6/3/2019           3.0   \n",
       "2           0.0         0.0         0.0         5/28/2019           3.0   \n",
       "3           0.0         0.0         0.0          6/3/2019           3.0   \n",
       "4          21.0       132.0         1.0          6/4/2019           3.0   \n",
       "..          ...         ...         ...               ...           ...   \n",
       "413         NaN         NaN         NaN               NaN           NaN   \n",
       "414         NaN         NaN         NaN               NaN           NaN   \n",
       "415         NaN         NaN         NaN               NaN           NaN   \n",
       "416         NaN         NaN         NaN               NaN           NaN   \n",
       "417         NaN         NaN         NaN               NaN           NaN   \n",
       "\n",
       "        mobbing  \n",
       "0       no info  \n",
       "1           shy  \n",
       "2           shy  \n",
       "3           shy  \n",
       "4    aggressive  \n",
       "..          ...  \n",
       "413     no info  \n",
       "414     no info  \n",
       "415     no info  \n",
       "416     no info  \n",
       "417     no info  \n",
       "\n",
       "[418 rows x 18 columns]"
      ]
     },
     "execution_count": 4,
     "metadata": {},
     "output_type": "execute_result"
    }
   ],
   "source": [
    "data"
   ]
  },
  {
   "cell_type": "code",
   "execution_count": 5,
   "id": "189b69f4",
   "metadata": {},
   "outputs": [
    {
     "data": {
      "text/plain": [
       "Kodderviken         19\n",
       "Otaniemi            17\n",
       "Smedjeviken         11\n",
       "Soukanlahti         10\n",
       "Vuosaari             9\n",
       "Suomenoja            8\n",
       "Sperringssund        8\n",
       "Kotilahti            7\n",
       "Sipoonranta          6\n",
       "Kaitalahti           6\n",
       "Nätholmen            5\n",
       "Leposaari            5\n",
       "Pikku-Huopalahti     5\n",
       "Mataskärsviken       5\n",
       "Fågelvik             4\n",
       "Otaniemi             4\n",
       "Bjurvik              4\n",
       "Puotila              3\n",
       "Kaitalahti N         3\n",
       "Hyljelahti           3\n",
       "Storminnet           3\n",
       "Kodderviken          3\n",
       "Nuottalahti          2\n",
       "Smedjeviken BT       2\n",
       "Källsund             2\n",
       "Lemislahti           2\n",
       "Talinranta           2\n",
       "Lemislahti           1\n",
       "Nätholmen            1\n",
       "Yliskylä             1\n",
       "Vikkulla             1\n",
       "Tullisaari           1\n",
       "Korsnäs              1\n",
       "Yliskylä             1\n",
       "Kråkö                1\n",
       "Leposaari            1\n",
       "Matasaarentie        1\n",
       "Jollas               1\n",
       "Suomenoja            1\n",
       "Kaitalahti           1\n",
       "Name: Site, dtype: int64"
      ]
     },
     "execution_count": 5,
     "metadata": {},
     "output_type": "execute_result"
    }
   ],
   "source": [
    "data[data.Year == 2021].Site.value_counts()"
   ]
  },
  {
   "cell_type": "code",
   "execution_count": 6,
   "id": "1f75af55",
   "metadata": {},
   "outputs": [
    {
     "data": {
      "text/plain": [
       "Kodderviken              24\n",
       "Otaniemi                 16\n",
       "Vuosaari                  9\n",
       "Mataskärsviken            8\n",
       "Soukanlahti               7\n",
       "Storminnet                7\n",
       "Talinranta                6\n",
       "Sipoonranta               6\n",
       "Norra Fladet              5\n",
       "Kaitalahti                5\n",
       "Hyljelahti                5\n",
       "Nuottalahti               5\n",
       "Suomenoja                 5\n",
       "Kotilahti                 4\n",
       "Nätholmen                 4\n",
       "Fiskarviken               4\n",
       "Pikku-Huopalahti          4\n",
       "Rantakylä                 4\n",
       "Medvast                   4\n",
       "Vikkulla                  4\n",
       "Yliskylä                  4\n",
       "Rulludd                   2\n",
       "Fladet Morsfjärdintie     2\n",
       "Smedjeviken               2\n",
       "Tullisaari                2\n",
       "Sperringssund             2\n",
       "Matasaarentie             2\n",
       "Ramsaynranta              1\n",
       "Koivusaari                1\n",
       "Fågelvik                  1\n",
       "Name: Site, dtype: int64"
      ]
     },
     "execution_count": 6,
     "metadata": {},
     "output_type": "execute_result"
    }
   ],
   "source": [
    "data[data.Year == 2020].Site.value_counts()"
   ]
  },
  {
   "cell_type": "code",
   "execution_count": 7,
   "id": "d534e184",
   "metadata": {},
   "outputs": [
    {
     "data": {
      "text/plain": [
       "Kodderviken         11\n",
       "Vuosaari             8\n",
       "Hyljelahti           8\n",
       "Soukanlahti          8\n",
       "Mataskärsviken       7\n",
       "Smedjeviken          6\n",
       "Fiskarviken          6\n",
       "Norra Fladet         5\n",
       "Myrans               4\n",
       "Suomenoja            4\n",
       "Nuottalahti          3\n",
       "Matasaarentie        3\n",
       "Sperringssund        3\n",
       "Dyviken              2\n",
       "Rulludd              2\n",
       "Pikku-Huopalahti     2\n",
       "Storminnet           2\n",
       "Kaitalahti           2\n",
       "Porvoo               2\n",
       "Ramsaynranta         1\n",
       "Linlo                1\n",
       "Fågelvik             1\n",
       "Bjurvik              1\n",
       "Name: Site, dtype: int64"
      ]
     },
     "execution_count": 7,
     "metadata": {},
     "output_type": "execute_result"
    }
   ],
   "source": [
    "data[data.Year == 2019].Site.value_counts()"
   ]
  },
  {
   "cell_type": "code",
   "execution_count": 16,
   "id": "d6bc4bad",
   "metadata": {},
   "outputs": [],
   "source": [
    "from plotly.subplots import make_subplots\n",
    "import plotly.graph_objects as go\n",
    "\n",
    "def plot_one_year(data, year, site, plot = False):\n",
    "    tmp = data[(data.Year == year) & (data.Site == site)]\n",
    "    \n",
    "    if plot:\n",
    "        fig = px.scatter_mapbox(tmp, lat=\"lat\", lon=\"long\", hover_name=\"NestID\", hover_data=[\"Site\", \"Propensity\"], \n",
    "                            height = 300, color = \"mobbing\", \n",
    "                            color_discrete_map={ 'shy': 'blue', 'aggressive': 'red', 'no info': 'grey'},\n",
    "                            width = 500, zoom = 13, title = site + ', Year: ' + str(year))\n",
    "        fig.update_layout(mapbox_style=\"open-street-map\")\n",
    "        fig.update_layout(margin={\"r\":0,\"t\":50,\"l\":0,\"b\":0})\n",
    "        fig.show()\n",
    "    \n",
    "    n_no_test = np.sum(pd.isnull(tmp.Propensity))\n",
    "    n_shy = np.sum(tmp.Propensity == 0)\n",
    "    n_aggressive = np.sum(tmp.Propensity == 1)\n",
    "    \n",
    "    return [n_no_test, n_shy, n_aggressive]\n",
    "\n",
    "def plot_all_years(data, site):\n",
    "    tmp = data[(data.Site == site)]\n",
    "    \n",
    "    fig = px.scatter_mapbox(tmp, lat=\"lat\", lon=\"long\", hover_name=\"NestID\", hover_data=[\"Site\", \"Propensity\"], \n",
    "                        height = 300, color = tmp.Year.astype(str), \n",
    "                        width = 500, zoom = 13, title = site)\n",
    "    fig.update_layout(mapbox_style=\"open-street-map\")\n",
    "    fig.update_layout(margin={\"r\":0,\"t\":50,\"l\":0,\"b\":0})\n",
    "    fig.show()"
   ]
  },
  {
   "cell_type": "code",
   "execution_count": 26,
   "id": "bed6200e",
   "metadata": {},
   "outputs": [],
   "source": [
    "from matplotlib.pyplot import figure\n",
    "import plotly.express as px\n",
    "\n",
    "def create_stacked_bar_chart(data, year):\n",
    "    unique_sites = data[data.Year == year].Site.unique()\n",
    "    a = []\n",
    "    \n",
    "    for i in range(len(unique_sites)):\n",
    "        #print([unique_sites[i]] + plot_one_year(data, year, unique_sites[i]))\n",
    "        a.append([unique_sites[i]] + plot_one_year(data, year, unique_sites[i]))\n",
    "    \n",
    "    a = pd.DataFrame(a, columns=['Site', 'No_test', 'N_shy', 'N_aggressive'])\n",
    "\n",
    "    \n",
    "    a.plot(\n",
    "        x = 'Site',\n",
    "        kind = 'barh',\n",
    "        stacked = True,\n",
    "        title = 'Stacked Bar Graph',\n",
    "        mark_right = True)"
   ]
  },
  {
   "cell_type": "code",
   "execution_count": 27,
   "id": "bd34b9c3",
   "metadata": {},
   "outputs": [
    {
     "data": {
      "image/png": "[encoded data removed]",
      "text/plain": [
       "<Figure size 432x288 with 1 Axes>"
      ]
     },
     "metadata": {
      "needs_background": "light"
     },
     "output_type": "display_data"
    }
   ],
   "source": [
    "create_stacked_bar_chart(data, 2019)"
   ]
  },
  {
   "cell_type": "code",
   "execution_count": 28,
   "id": "e46401b1",
   "metadata": {},
   "outputs": [
    {
     "data": {
      "image/png": "[encoded data removed]",
      "text/plain": [
       "<Figure size 432x288 with 1 Axes>"
      ]
     },
     "metadata": {
      "needs_background": "light"
     },
     "output_type": "display_data"
    }
   ],
   "source": [
    "create_stacked_bar_chart(data, 2020)"
   ]
  },
  {
   "cell_type": "code",
   "execution_count": 29,
   "id": "afc63207",
   "metadata": {},
   "outputs": [
    {
     "data": {
      "image/png": "[encoded data removed]",
      "text/plain": [
       "<Figure size 432x288 with 1 Axes>"
      ]
     },
     "metadata": {
      "needs_background": "light"
     },
     "output_type": "display_data"
    }
   ],
   "source": [
    "create_stacked_bar_chart(data, 2021)"
   ]
  },
  {
   "cell_type": "code",
   "execution_count": 20,
   "id": "aed342a2",
   "metadata": {},
   "outputs": [
    {
     "data": {
      "application/vnd.plotly.v1+json": {
       "config": {
        "plotlyServerURL": "https://plot.ly"
       },
       "data": [
        {
         "customdata": [
          [
           "Matasaarentie",
           null
          ],
          [
           "Matasaarentie",
           null
          ],
          [
           "Matasaarentie",
           0
          ]
         ],
         "hovertemplate": "<b>%{hovertext}</b><br><br>color=2019<br>lat=%{lat}<br>long=%{lon}<br>Site=%{customdata[0]}<br>Propensity=%{customdata[1]}<extra></extra>",
         "hovertext": [
          "19AV2",
          "19KR27",
          "19KR28"
         ],
         "lat": [
          60.13073,
          60.13061,
          60.13092
         ],
         "legendgroup": "2019",
         "lon": [
          24.70092,
          24.70096,
          24.70075
         ],
         "marker": {
          "color": "#636efa"
         },
         "mode": "markers",
         "name": "2019",
         "showlegend": true,
         "subplot": "mapbox",
         "type": "scattermapbox"
        },
        {
         "customdata": [
          [
           "Matasaarentie",
           null
          ],
          [
           "Matasaarentie",
           null
          ]
         ],
         "hovertemplate": "<b>%{hovertext}</b><br><br>color=2020<br>lat=%{lat}<br>long=%{lon}<br>Site=%{customdata[0]}<br>Propensity=%{customdata[1]}<extra></extra>",
         "hovertext": [
          "20EK31",
          "20EK39"
         ],
         "lat": [
          60.13068,
          60.13061
         ],
         "legendgroup": "2020",
         "lon": [
          24.7013,
          24.70109
         ],
         "marker": {
          "color": "#EF553B"
         },
         "mode": "markers",
         "name": "2020",
         "showlegend": true,
         "subplot": "mapbox",
         "type": "scattermapbox"
        },
        {
         "customdata": [
          [
           "Matasaarentie",
           0
          ]
         ],
         "hovertemplate": "<b>%{hovertext}</b><br><br>color=2021<br>lat=%{lat}<br>long=%{lon}<br>Site=%{customdata[0]}<br>Propensity=%{customdata[1]}<extra></extra>",
         "hovertext": [
          "21NB7"
         ],
         "lat": [
          60.13073
         ],
         "legendgroup": "2021",
         "lon": [
          24.7009
         ],
         "marker": {
          "color": "#00cc96"
         },
         "mode": "markers",
         "name": "2021",
         "showlegend": true,
         "subplot": "mapbox",
         "type": "scattermapbox"
        }
       ],
       "layout": {
        "height": 300,
        "legend": {
         "title": {
          "text": "color"
         },
         "tracegroupgap": 0
        },
        "mapbox": {
         "center": {
          "lat": 60.130713333333325,
          "lon": 24.700986666666665
         },
         "domain": {
          "x": [
           0,
           1
          ],
          "y": [
           0,
           1
          ]
         },
         "style": "open-street-map",
         "zoom": 13
        },
        "margin": {
         "b": 0,
         "l": 0,
         "r": 0,
         "t": 50
        },
        "template": {
         "data": {
          "bar": [
           {
            "error_x": {
             "color": "#2a3f5f"
            },
            "error_y": {
             "color": "#2a3f5f"
            },
            "marker": {
             "line": {
              "color": "#E5ECF6",
              "width": 0.5
             },
             "pattern": {
              "fillmode": "overlay",
              "size": 10,
              "solidity": 0.2
             }
            },
            "type": "bar"
           }
          ],
          "barpolar": [
           {
            "marker": {
             "line": {
              "color": "#E5ECF6",
              "width": 0.5
             },
             "pattern": {
              "fillmode": "overlay",
              "size": 10,
              "solidity": 0.2
             }
            },
            "type": "barpolar"
           }
          ],
          "carpet": [
           {
            "aaxis": {
             "endlinecolor": "#2a3f5f",
             "gridcolor": "white",
             "linecolor": "white",
             "minorgridcolor": "white",
             "startlinecolor": "#2a3f5f"
            },
            "baxis": {
             "endlinecolor": "#2a3f5f",
             "gridcolor": "white",
             "linecolor": "white",
             "minorgridcolor": "white",
             "startlinecolor": "#2a3f5f"
            },
            "type": "carpet"
           }
          ],
          "choropleth": [
           {
            "colorbar": {
             "outlinewidth": 0,
             "ticks": ""
            },
            "type": "choropleth"
           }
          ],
          "contour": [
           {
            "colorbar": {
             "outlinewidth": 0,
             "ticks": ""
            },
            "colorscale": [
             [
              0,
              "#0d0887"
             ],
             [
              0.1111111111111111,
              "#46039f"
             ],
             [
              0.2222222222222222,
              "#7201a8"
             ],
             [
              0.3333333333333333,
              "#9c179e"
             ],
             [
              0.4444444444444444,
              "#bd3786"
             ],
             [
              0.5555555555555556,
              "#d8576b"
             ],
             [
              0.6666666666666666,
              "#ed7953"
             ],
             [
              0.7777777777777778,
              "#fb9f3a"
             ],
             [
              0.8888888888888888,
              "#fdca26"
             ],
             [
              1,
              "#f0f921"
             ]
            ],
            "type": "contour"
           }
          ],
          "contourcarpet": [
           {
            "colorbar": {
             "outlinewidth": 0,
             "ticks": ""
            },
            "type": "contourcarpet"
           }
          ],
          "heatmap": [
           {
            "colorbar": {
             "outlinewidth": 0,
             "ticks": ""
            },
            "colorscale": [
             [
              0,
              "#0d0887"
             ],
             [
              0.1111111111111111,
              "#46039f"
             ],
             [
              0.2222222222222222,
              "#7201a8"
             ],
             [
              0.3333333333333333,
              "#9c179e"
             ],
             [
              0.4444444444444444,
              "#bd3786"
             ],
             [
              0.5555555555555556,
              "#d8576b"
             ],
             [
              0.6666666666666666,
              "#ed7953"
             ],
             [
              0.7777777777777778,
              "#fb9f3a"
             ],
             [
              0.8888888888888888,
              "#fdca26"
             ],
             [
              1,
              "#f0f921"
             ]
            ],
            "type": "heatmap"
           }
          ],
          "heatmapgl": [
           {
            "colorbar": {
             "outlinewidth": 0,
             "ticks": ""
            },
            "colorscale": [
             [
              0,
              "#0d0887"
             ],
             [
              0.1111111111111111,
              "#46039f"
             ],
             [
              0.2222222222222222,
              "#7201a8"
             ],
             [
              0.3333333333333333,
              "#9c179e"
             ],
             [
              0.4444444444444444,
              "#bd3786"
             ],
             [
              0.5555555555555556,
              "#d8576b"
             ],
             [
              0.6666666666666666,
              "#ed7953"
             ],
             [
              0.7777777777777778,
              "#fb9f3a"
             ],
             [
              0.8888888888888888,
              "#fdca26"
             ],
             [
              1,
              "#f0f921"
             ]
            ],
            "type": "heatmapgl"
           }
          ],
          "histogram": [
           {
            "marker": {
             "pattern": {
              "fillmode": "overlay",
              "size": 10,
              "solidity": 0.2
             }
            },
            "type": "histogram"
           }
          ],
          "histogram2d": [
           {
            "colorbar": {
             "outlinewidth": 0,
             "ticks": ""
            },
            "colorscale": [
             [
              0,
              "#0d0887"
             ],
             [
              0.1111111111111111,
              "#46039f"
             ],
             [
              0.2222222222222222,
              "#7201a8"
             ],
             [
              0.3333333333333333,
              "#9c179e"
             ],
             [
              0.4444444444444444,
              "#bd3786"
             ],
             [
              0.5555555555555556,
              "#d8576b"
             ],
             [
              0.6666666666666666,
              "#ed7953"
             ],
             [
              0.7777777777777778,
              "#fb9f3a"
             ],
             [
              0.8888888888888888,
              "#fdca26"
             ],
             [
              1,
              "#f0f921"
             ]
            ],
            "type": "histogram2d"
           }
          ],
          "histogram2dcontour": [
           {
            "colorbar": {
             "outlinewidth": 0,
             "ticks": ""
            },
            "colorscale": [
             [
              0,
              "#0d0887"
             ],
             [
              0.1111111111111111,
              "#46039f"
             ],
             [
              0.2222222222222222,
              "#7201a8"
             ],
             [
              0.3333333333333333,
              "#9c179e"
             ],
             [
              0.4444444444444444,
              "#bd3786"
             ],
             [
              0.5555555555555556,
              "#d8576b"
             ],
             [
              0.6666666666666666,
              "#ed7953"
             ],
             [
              0.7777777777777778,
              "#fb9f3a"
             ],
             [
              0.8888888888888888,
              "#fdca26"
             ],
             [
              1,
              "#f0f921"
             ]
            ],
            "type": "histogram2dcontour"
           }
          ],
          "mesh3d": [
           {
            "colorbar": {
             "outlinewidth": 0,
             "ticks": ""
            },
            "type": "mesh3d"
           }
          ],
          "parcoords": [
           {
            "line": {
             "colorbar": {
              "outlinewidth": 0,
              "ticks": ""
             }
            },
            "type": "parcoords"
           }
          ],
          "pie": [
           {
            "automargin": true,
            "type": "pie"
           }
          ],
          "scatter": [
           {
            "marker": {
             "colorbar": {
              "outlinewidth": 0,
              "ticks": ""
             }
            },
            "type": "scatter"
           }
          ],
          "scatter3d": [
           {
            "line": {
             "colorbar": {
              "outlinewidth": 0,
              "ticks": ""
             }
            },
            "marker": {
             "colorbar": {
              "outlinewidth": 0,
              "ticks": ""
             }
            },
            "type": "scatter3d"
           }
          ],
          "scattercarpet": [
           {
            "marker": {
             "colorbar": {
              "outlinewidth": 0,
              "ticks": ""
             }
            },
            "type": "scattercarpet"
           }
          ],
          "scattergeo": [
           {
            "marker": {
             "colorbar": {
              "outlinewidth": 0,
              "ticks": ""
             }
            },
            "type": "scattergeo"
           }
          ],
          "scattergl": [
           {
            "marker": {
             "colorbar": {
              "outlinewidth": 0,
              "ticks": ""
             }
            },
            "type": "scattergl"
           }
          ],
          "scattermapbox": [
           {
            "marker": {
             "colorbar": {
              "outlinewidth": 0,
              "ticks": ""
             }
            },
            "type": "scattermapbox"
           }
          ],
          "scatterpolar": [
           {
            "marker": {
             "colorbar": {
              "outlinewidth": 0,
              "ticks": ""
             }
            },
            "type": "scatterpolar"
           }
          ],
          "scatterpolargl": [
           {
            "marker": {
             "colorbar": {
              "outlinewidth": 0,
              "ticks": ""
             }
            },
            "type": "scatterpolargl"
           }
          ],
          "scatterternary": [
           {
            "marker": {
             "colorbar": {
              "outlinewidth": 0,
              "ticks": ""
             }
            },
            "type": "scatterternary"
           }
          ],
          "surface": [
           {
            "colorbar": {
             "outlinewidth": 0,
             "ticks": ""
            },
            "colorscale": [
             [
              0,
              "#0d0887"
             ],
             [
              0.1111111111111111,
              "#46039f"
             ],
             [
              0.2222222222222222,
              "#7201a8"
             ],
             [
              0.3333333333333333,
              "#9c179e"
             ],
             [
              0.4444444444444444,
              "#bd3786"
             ],
             [
              0.5555555555555556,
              "#d8576b"
             ],
             [
              0.6666666666666666,
              "#ed7953"
             ],
             [
              0.7777777777777778,
              "#fb9f3a"
             ],
             [
              0.8888888888888888,
              "#fdca26"
             ],
             [
              1,
              "#f0f921"
             ]
            ],
            "type": "surface"
           }
          ],
          "table": [
           {
            "cells": {
             "fill": {
              "color": "#EBF0F8"
             },
             "line": {
              "color": "white"
             }
            },
            "header": {
             "fill": {
              "color": "#C8D4E3"
             },
             "line": {
              "color": "white"
             }
            },
            "type": "table"
           }
          ]
         },
         "layout": {
          "annotationdefaults": {
           "arrowcolor": "#2a3f5f",
           "arrowhead": 0,
           "arrowwidth": 1
          },
          "autotypenumbers": "strict",
          "coloraxis": {
           "colorbar": {
            "outlinewidth": 0,
            "ticks": ""
           }
          },
          "colorscale": {
           "diverging": [
            [
             0,
             "#8e0152"
            ],
            [
             0.1,
             "#c51b7d"
            ],
            [
             0.2,
             "#de77ae"
            ],
            [
             0.3,
             "#f1b6da"
            ],
            [
             0.4,
             "#fde0ef"
            ],
            [
             0.5,
             "#f7f7f7"
            ],
            [
             0.6,
             "#e6f5d0"
            ],
            [
             0.7,
             "#b8e186"
            ],
            [
             0.8,
             "#7fbc41"
            ],
            [
             0.9,
             "#4d9221"
            ],
            [
             1,
             "#276419"
            ]
           ],
           "sequential": [
            [
             0,
             "#0d0887"
            ],
            [
             0.1111111111111111,
             "#46039f"
            ],
            [
             0.2222222222222222,
             "#7201a8"
            ],
            [
             0.3333333333333333,
             "#9c179e"
            ],
            [
             0.4444444444444444,
             "#bd3786"
            ],
            [
             0.5555555555555556,
             "#d8576b"
            ],
            [
             0.6666666666666666,
             "#ed7953"
            ],
            [
             0.7777777777777778,
             "#fb9f3a"
            ],
            [
             0.8888888888888888,
             "#fdca26"
            ],
            [
             1,
             "#f0f921"
            ]
           ],
           "sequentialminus": [
            [
             0,
             "#0d0887"
            ],
            [
             0.1111111111111111,
             "#46039f"
            ],
            [
             0.2222222222222222,
             "#7201a8"
            ],
            [
             0.3333333333333333,
             "#9c179e"
            ],
            [
             0.4444444444444444,
             "#bd3786"
            ],
            [
             0.5555555555555556,
             "#d8576b"
            ],
            [
             0.6666666666666666,
             "#ed7953"
            ],
            [
             0.7777777777777778,
             "#fb9f3a"
            ],
            [
             0.8888888888888888,
             "#fdca26"
            ],
            [
             1,
             "#f0f921"
            ]
           ]
          },
          "colorway": [
           "#636efa",
           "#EF553B",
           "#00cc96",
           "#ab63fa",
           "#FFA15A",
           "#19d3f3",
           "#FF6692",
           "#B6E880",
           "#FF97FF",
           "#FECB52"
          ],
          "font": {
           "color": "#2a3f5f"
          },
          "geo": {
           "bgcolor": "white",
           "lakecolor": "white",
           "landcolor": "#E5ECF6",
           "showlakes": true,
           "showland": true,
           "subunitcolor": "white"
          },
          "hoverlabel": {
           "align": "left"
          },
          "hovermode": "closest",
          "mapbox": {
           "style": "light"
          },
          "paper_bgcolor": "white",
          "plot_bgcolor": "#E5ECF6",
          "polar": {
           "angularaxis": {
            "gridcolor": "white",
            "linecolor": "white",
            "ticks": ""
           },
           "bgcolor": "#E5ECF6",
           "radialaxis": {
            "gridcolor": "white",
            "linecolor": "white",
            "ticks": ""
           }
          },
          "scene": {
           "xaxis": {
            "backgroundcolor": "#E5ECF6",
            "gridcolor": "white",
            "gridwidth": 2,
            "linecolor": "white",
            "showbackground": true,
            "ticks": "",
            "zerolinecolor": "white"
           },
           "yaxis": {
            "backgroundcolor": "#E5ECF6",
            "gridcolor": "white",
            "gridwidth": 2,
            "linecolor": "white",
            "showbackground": true,
            "ticks": "",
            "zerolinecolor": "white"
           },
           "zaxis": {
            "backgroundcolor": "#E5ECF6",
            "gridcolor": "white",
            "gridwidth": 2,
            "linecolor": "white",
            "showbackground": true,
            "ticks": "",
            "zerolinecolor": "white"
           }
          },
          "shapedefaults": {
           "line": {
            "color": "#2a3f5f"
           }
          },
          "ternary": {
           "aaxis": {
            "gridcolor": "white",
            "linecolor": "white",
            "ticks": ""
           },
           "baxis": {
            "gridcolor": "white",
            "linecolor": "white",
            "ticks": ""
           },
           "bgcolor": "#E5ECF6",
           "caxis": {
            "gridcolor": "white",
            "linecolor": "white",
            "ticks": ""
           }
          },
          "title": {
           "x": 0.05
          },
          "xaxis": {
           "automargin": true,
           "gridcolor": "white",
           "linecolor": "white",
           "ticks": "",
           "title": {
            "standoff": 15
           },
           "zerolinecolor": "white",
           "zerolinewidth": 2
          },
          "yaxis": {
           "automargin": true,
           "gridcolor": "white",
           "linecolor": "white",
           "ticks": "",
           "title": {
            "standoff": 15
           },
           "zerolinecolor": "white",
           "zerolinewidth": 2
          }
         }
        },
        "title": {
         "text": "Matasaarentie"
        },
        "width": 500
       }
      },
      "text/html": [
       "<div>                            <div id=\"cdbe6d0c-11a4-49a3-95b0-f3f41d3d2f44\" class=\"plotly-graph-div\" style=\"height:300px; width:500px;\"></div>            <script type=\"text/javascript\">                require([\"plotly\"], function(Plotly) {                    window.PLOTLYENV=window.PLOTLYENV || {};                                    if (document.getElementById(\"cdbe6d0c-11a4-49a3-95b0-f3f41d3d2f44\")) {                    Plotly.newPlot(                        \"cdbe6d0c-11a4-49a3-95b0-f3f41d3d2f44\",                        [{\"customdata\":[[\"Matasaarentie\",null],[\"Matasaarentie\",null],[\"Matasaarentie\",0.0]],\"hovertemplate\":\"<b>%{hovertext}</b><br><br>color=2019<br>lat=%{lat}<br>long=%{lon}<br>Site=%{customdata[0]}<br>Propensity=%{customdata[1]}<extra></extra>\",\"hovertext\":[\"19AV2\",\"19KR27\",\"19KR28\"],\"lat\":[60.13073,60.13061,60.13092],\"legendgroup\":\"2019\",\"lon\":[24.70092,24.70096,24.70075],\"marker\":{\"color\":\"#636efa\"},\"mode\":\"markers\",\"name\":\"2019\",\"showlegend\":true,\"subplot\":\"mapbox\",\"type\":\"scattermapbox\"},{\"customdata\":[[\"Matasaarentie\",null],[\"Matasaarentie\",null]],\"hovertemplate\":\"<b>%{hovertext}</b><br><br>color=2020<br>lat=%{lat}<br>long=%{lon}<br>Site=%{customdata[0]}<br>Propensity=%{customdata[1]}<extra></extra>\",\"hovertext\":[\"20EK31\",\"20EK39\"],\"lat\":[60.13068,60.13061],\"legendgroup\":\"2020\",\"lon\":[24.7013,24.70109],\"marker\":{\"color\":\"#EF553B\"},\"mode\":\"markers\",\"name\":\"2020\",\"showlegend\":true,\"subplot\":\"mapbox\",\"type\":\"scattermapbox\"},{\"customdata\":[[\"Matasaarentie\",0.0]],\"hovertemplate\":\"<b>%{hovertext}</b><br><br>color=2021<br>lat=%{lat}<br>long=%{lon}<br>Site=%{customdata[0]}<br>Propensity=%{customdata[1]}<extra></extra>\",\"hovertext\":[\"21NB7\"],\"lat\":[60.13073],\"legendgroup\":\"2021\",\"lon\":[24.7009],\"marker\":{\"color\":\"#00cc96\"},\"mode\":\"markers\",\"name\":\"2021\",\"showlegend\":true,\"subplot\":\"mapbox\",\"type\":\"scattermapbox\"}],                        {\"height\":300,\"legend\":{\"title\":{\"text\":\"color\"},\"tracegroupgap\":0},\"mapbox\":{\"center\":{\"lat\":60.130713333333325,\"lon\":24.700986666666665},\"domain\":{\"x\":[0.0,1.0],\"y\":[0.0,1.0]},\"style\":\"open-street-map\",\"zoom\":13},\"margin\":{\"b\":0,\"l\":0,\"r\":0,\"t\":50},\"template\":{\"data\":{\"bar\":[{\"error_x\":{\"color\":\"#2a3f5f\"},\"error_y\":{\"color\":\"#2a3f5f\"},\"marker\":{\"line\":{\"color\":\"#E5ECF6\",\"width\":0.5},\"pattern\":{\"fillmode\":\"overlay\",\"size\":10,\"solidity\":0.2}},\"type\":\"bar\"}],\"barpolar\":[{\"marker\":{\"line\":{\"color\":\"#E5ECF6\",\"width\":0.5},\"pattern\":{\"fillmode\":\"overlay\",\"size\":10,\"solidity\":0.2}},\"type\":\"barpolar\"}],\"carpet\":[{\"aaxis\":{\"endlinecolor\":\"#2a3f5f\",\"gridcolor\":\"white\",\"linecolor\":\"white\",\"minorgridcolor\":\"white\",\"startlinecolor\":\"#2a3f5f\"},\"baxis\":{\"endlinecolor\":\"#2a3f5f\",\"gridcolor\":\"white\",\"linecolor\":\"white\",\"minorgridcolor\":\"white\",\"startlinecolor\":\"#2a3f5f\"},\"type\":\"carpet\"}],\"choropleth\":[{\"colorbar\":{\"outlinewidth\":0,\"ticks\":\"\"},\"type\":\"choropleth\"}],\"contour\":[{\"colorbar\":{\"outlinewidth\":0,\"ticks\":\"\"},\"colorscale\":[[0.0,\"#0d0887\"],[0.1111111111111111,\"#46039f\"],[0.2222222222222222,\"#7201a8\"],[0.3333333333333333,\"#9c179e\"],[0.4444444444444444,\"#bd3786\"],[0.5555555555555556,\"#d8576b\"],[0.6666666666666666,\"#ed7953\"],[0.7777777777777778,\"#fb9f3a\"],[0.8888888888888888,\"#fdca26\"],[1.0,\"#f0f921\"]],\"type\":\"contour\"}],\"contourcarpet\":[{\"colorbar\":{\"outlinewidth\":0,\"ticks\":\"\"},\"type\":\"contourcarpet\"}],\"heatmap\":[{\"colorbar\":{\"outlinewidth\":0,\"ticks\":\"\"},\"colorscale\":[[0.0,\"#0d0887\"],[0.1111111111111111,\"#46039f\"],[0.2222222222222222,\"#7201a8\"],[0.3333333333333333,\"#9c179e\"],[0.4444444444444444,\"#bd3786\"],[0.5555555555555556,\"#d8576b\"],[0.6666666666666666,\"#ed7953\"],[0.7777777777777778,\"#fb9f3a\"],[0.8888888888888888,\"#fdca26\"],[1.0,\"#f0f921\"]],\"type\":\"heatmap\"}],\"heatmapgl\":[{\"colorbar\":{\"outlinewidth\":0,\"ticks\":\"\"},\"colorscale\":[[0.0,\"#0d0887\"],[0.1111111111111111,\"#46039f\"],[0.2222222222222222,\"#7201a8\"],[0.3333333333333333,\"#9c179e\"],[0.4444444444444444,\"#bd3786\"],[0.5555555555555556,\"#d8576b\"],[0.6666666666666666,\"#ed7953\"],[0.7777777777777778,\"#fb9f3a\"],[0.8888888888888888,\"#fdca26\"],[1.0,\"#f0f921\"]],\"type\":\"heatmapgl\"}],\"histogram\":[{\"marker\":{\"pattern\":{\"fillmode\":\"overlay\",\"size\":10,\"solidity\":0.2}},\"type\":\"histogram\"}],\"histogram2d\":[{\"colorbar\":{\"outlinewidth\":0,\"ticks\":\"\"},\"colorscale\":[[0.0,\"#0d0887\"],[0.1111111111111111,\"#46039f\"],[0.2222222222222222,\"#7201a8\"],[0.3333333333333333,\"#9c179e\"],[0.4444444444444444,\"#bd3786\"],[0.5555555555555556,\"#d8576b\"],[0.6666666666666666,\"#ed7953\"],[0.7777777777777778,\"#fb9f3a\"],[0.8888888888888888,\"#fdca26\"],[1.0,\"#f0f921\"]],\"type\":\"histogram2d\"}],\"histogram2dcontour\":[{\"colorbar\":{\"outlinewidth\":0,\"ticks\":\"\"},\"colorscale\":[[0.0,\"#0d0887\"],[0.1111111111111111,\"#46039f\"],[0.2222222222222222,\"#7201a8\"],[0.3333333333333333,\"#9c179e\"],[0.4444444444444444,\"#bd3786\"],[0.5555555555555556,\"#d8576b\"],[0.6666666666666666,\"#ed7953\"],[0.7777777777777778,\"#fb9f3a\"],[0.8888888888888888,\"#fdca26\"],[1.0,\"#f0f921\"]],\"type\":\"histogram2dcontour\"}],\"mesh3d\":[{\"colorbar\":{\"outlinewidth\":0,\"ticks\":\"\"},\"type\":\"mesh3d\"}],\"parcoords\":[{\"line\":{\"colorbar\":{\"outlinewidth\":0,\"ticks\":\"\"}},\"type\":\"parcoords\"}],\"pie\":[{\"automargin\":true,\"type\":\"pie\"}],\"scatter\":[{\"marker\":{\"colorbar\":{\"outlinewidth\":0,\"ticks\":\"\"}},\"type\":\"scatter\"}],\"scatter3d\":[{\"line\":{\"colorbar\":{\"outlinewidth\":0,\"ticks\":\"\"}},\"marker\":{\"colorbar\":{\"outlinewidth\":0,\"ticks\":\"\"}},\"type\":\"scatter3d\"}],\"scattercarpet\":[{\"marker\":{\"colorbar\":{\"outlinewidth\":0,\"ticks\":\"\"}},\"type\":\"scattercarpet\"}],\"scattergeo\":[{\"marker\":{\"colorbar\":{\"outlinewidth\":0,\"ticks\":\"\"}},\"type\":\"scattergeo\"}],\"scattergl\":[{\"marker\":{\"colorbar\":{\"outlinewidth\":0,\"ticks\":\"\"}},\"type\":\"scattergl\"}],\"scattermapbox\":[{\"marker\":{\"colorbar\":{\"outlinewidth\":0,\"ticks\":\"\"}},\"type\":\"scattermapbox\"}],\"scatterpolar\":[{\"marker\":{\"colorbar\":{\"outlinewidth\":0,\"ticks\":\"\"}},\"type\":\"scatterpolar\"}],\"scatterpolargl\":[{\"marker\":{\"colorbar\":{\"outlinewidth\":0,\"ticks\":\"\"}},\"type\":\"scatterpolargl\"}],\"scatterternary\":[{\"marker\":{\"colorbar\":{\"outlinewidth\":0,\"ticks\":\"\"}},\"type\":\"scatterternary\"}],\"surface\":[{\"colorbar\":{\"outlinewidth\":0,\"ticks\":\"\"},\"colorscale\":[[0.0,\"#0d0887\"],[0.1111111111111111,\"#46039f\"],[0.2222222222222222,\"#7201a8\"],[0.3333333333333333,\"#9c179e\"],[0.4444444444444444,\"#bd3786\"],[0.5555555555555556,\"#d8576b\"],[0.6666666666666666,\"#ed7953\"],[0.7777777777777778,\"#fb9f3a\"],[0.8888888888888888,\"#fdca26\"],[1.0,\"#f0f921\"]],\"type\":\"surface\"}],\"table\":[{\"cells\":{\"fill\":{\"color\":\"#EBF0F8\"},\"line\":{\"color\":\"white\"}},\"header\":{\"fill\":{\"color\":\"#C8D4E3\"},\"line\":{\"color\":\"white\"}},\"type\":\"table\"}]},\"layout\":{\"annotationdefaults\":{\"arrowcolor\":\"#2a3f5f\",\"arrowhead\":0,\"arrowwidth\":1},\"autotypenumbers\":\"strict\",\"coloraxis\":{\"colorbar\":{\"outlinewidth\":0,\"ticks\":\"\"}},\"colorscale\":{\"diverging\":[[0,\"#8e0152\"],[0.1,\"#c51b7d\"],[0.2,\"#de77ae\"],[0.3,\"#f1b6da\"],[0.4,\"#fde0ef\"],[0.5,\"#f7f7f7\"],[0.6,\"#e6f5d0\"],[0.7,\"#b8e186\"],[0.8,\"#7fbc41\"],[0.9,\"#4d9221\"],[1,\"#276419\"]],\"sequential\":[[0.0,\"#0d0887\"],[0.1111111111111111,\"#46039f\"],[0.2222222222222222,\"#7201a8\"],[0.3333333333333333,\"#9c179e\"],[0.4444444444444444,\"#bd3786\"],[0.5555555555555556,\"#d8576b\"],[0.6666666666666666,\"#ed7953\"],[0.7777777777777778,\"#fb9f3a\"],[0.8888888888888888,\"#fdca26\"],[1.0,\"#f0f921\"]],\"sequentialminus\":[[0.0,\"#0d0887\"],[0.1111111111111111,\"#46039f\"],[0.2222222222222222,\"#7201a8\"],[0.3333333333333333,\"#9c179e\"],[0.4444444444444444,\"#bd3786\"],[0.5555555555555556,\"#d8576b\"],[0.6666666666666666,\"#ed7953\"],[0.7777777777777778,\"#fb9f3a\"],[0.8888888888888888,\"#fdca26\"],[1.0,\"#f0f921\"]]},\"colorway\":[\"#636efa\",\"#EF553B\",\"#00cc96\",\"#ab63fa\",\"#FFA15A\",\"#19d3f3\",\"#FF6692\",\"#B6E880\",\"#FF97FF\",\"#FECB52\"],\"font\":{\"color\":\"#2a3f5f\"},\"geo\":{\"bgcolor\":\"white\",\"lakecolor\":\"white\",\"landcolor\":\"#E5ECF6\",\"showlakes\":true,\"showland\":true,\"subunitcolor\":\"white\"},\"hoverlabel\":{\"align\":\"left\"},\"hovermode\":\"closest\",\"mapbox\":{\"style\":\"light\"},\"paper_bgcolor\":\"white\",\"plot_bgcolor\":\"#E5ECF6\",\"polar\":{\"angularaxis\":{\"gridcolor\":\"white\",\"linecolor\":\"white\",\"ticks\":\"\"},\"bgcolor\":\"#E5ECF6\",\"radialaxis\":{\"gridcolor\":\"white\",\"linecolor\":\"white\",\"ticks\":\"\"}},\"scene\":{\"xaxis\":{\"backgroundcolor\":\"#E5ECF6\",\"gridcolor\":\"white\",\"gridwidth\":2,\"linecolor\":\"white\",\"showbackground\":true,\"ticks\":\"\",\"zerolinecolor\":\"white\"},\"yaxis\":{\"backgroundcolor\":\"#E5ECF6\",\"gridcolor\":\"white\",\"gridwidth\":2,\"linecolor\":\"white\",\"showbackground\":true,\"ticks\":\"\",\"zerolinecolor\":\"white\"},\"zaxis\":{\"backgroundcolor\":\"#E5ECF6\",\"gridcolor\":\"white\",\"gridwidth\":2,\"linecolor\":\"white\",\"showbackground\":true,\"ticks\":\"\",\"zerolinecolor\":\"white\"}},\"shapedefaults\":{\"line\":{\"color\":\"#2a3f5f\"}},\"ternary\":{\"aaxis\":{\"gridcolor\":\"white\",\"linecolor\":\"white\",\"ticks\":\"\"},\"baxis\":{\"gridcolor\":\"white\",\"linecolor\":\"white\",\"ticks\":\"\"},\"bgcolor\":\"#E5ECF6\",\"caxis\":{\"gridcolor\":\"white\",\"linecolor\":\"white\",\"ticks\":\"\"}},\"title\":{\"x\":0.05},\"xaxis\":{\"automargin\":true,\"gridcolor\":\"white\",\"linecolor\":\"white\",\"ticks\":\"\",\"title\":{\"standoff\":15},\"zerolinecolor\":\"white\",\"zerolinewidth\":2},\"yaxis\":{\"automargin\":true,\"gridcolor\":\"white\",\"linecolor\":\"white\",\"ticks\":\"\",\"title\":{\"standoff\":15},\"zerolinecolor\":\"white\",\"zerolinewidth\":2}}},\"title\":{\"text\":\"Matasaarentie\"},\"width\":500},                        {\"responsive\": true}                    ).then(function(){\n",
       "                            \n",
       "var gd = document.getElementById('cdbe6d0c-11a4-49a3-95b0-f3f41d3d2f44');\n",
       "var x = new MutationObserver(function (mutations, observer) {{\n",
       "        var display = window.getComputedStyle(gd).display;\n",
       "        if (!display || display === 'none') {{\n",
       "            console.log([gd, 'removed!']);\n",
       "            Plotly.purge(gd);\n",
       "            observer.disconnect();\n",
       "        }}\n",
       "}});\n",
       "\n",
       "// Listen for the removal of the full notebook cells\n",
       "var notebookContainer = gd.closest('#notebook-container');\n",
       "if (notebookContainer) {{\n",
       "    x.observe(notebookContainer, {childList: true});\n",
       "}}\n",
       "\n",
       "// Listen for the clearing of the current output cell\n",
       "var outputEl = gd.closest('.output');\n",
       "if (outputEl) {{\n",
       "    x.observe(outputEl, {childList: true});\n",
       "}}\n",
       "\n",
       "                        })                };                });            </script>        </div>"
      ]
     },
     "metadata": {},
     "output_type": "display_data"
    }
   ],
   "source": [
    "plot_all_years(data, 'Matasaarentie')"
   ]
  },
  {
   "cell_type": "code",
   "execution_count": 18,
   "id": "72afbe30",
   "metadata": {
    "scrolled": false
   },
   "outputs": [
    {
     "data": {
      "application/vnd.plotly.v1+json": {
       "config": {
        "plotlyServerURL": "https://plot.ly"
       },
       "data": [
        {
         "customdata": [
          [
           "Matasaarentie",
           null
          ],
          [
           "Matasaarentie",
           null
          ]
         ],
         "hovertemplate": "<b>%{hovertext}</b><br><br>mobbing=no info<br>lat=%{lat}<br>long=%{lon}<br>Site=%{customdata[0]}<br>Propensity=%{customdata[1]}<extra></extra>",
         "hovertext": [
          "19AV2",
          "19KR27"
         ],
         "lat": [
          60.13073,
          60.13061
         ],
         "legendgroup": "no info",
         "lon": [
          24.70092,
          24.70096
         ],
         "marker": {
          "color": "grey"
         },
         "mode": "markers",
         "name": "no info",
         "showlegend": true,
         "subplot": "mapbox",
         "type": "scattermapbox"
        },
        {
         "customdata": [
          [
           "Matasaarentie",
           0
          ]
         ],
         "hovertemplate": "<b>%{hovertext}</b><br><br>mobbing=shy<br>lat=%{lat}<br>long=%{lon}<br>Site=%{customdata[0]}<br>Propensity=%{customdata[1]}<extra></extra>",
         "hovertext": [
          "19KR28"
         ],
         "lat": [
          60.13092
         ],
         "legendgroup": "shy",
         "lon": [
          24.70075
         ],
         "marker": {
          "color": "blue"
         },
         "mode": "markers",
         "name": "shy",
         "showlegend": true,
         "subplot": "mapbox",
         "type": "scattermapbox"
        }
       ],
       "layout": {
        "height": 300,
        "legend": {
         "title": {
          "text": "mobbing"
         },
         "tracegroupgap": 0
        },
        "mapbox": {
         "center": {
          "lat": 60.13075333333333,
          "lon": 24.70087666666667
         },
         "domain": {
          "x": [
           0,
           1
          ],
          "y": [
           0,
           1
          ]
         },
         "style": "open-street-map",
         "zoom": 13
        },
        "margin": {
         "b": 0,
         "l": 0,
         "r": 0,
         "t": 50
        },
        "template": {
         "data": {
          "bar": [
           {
            "error_x": {
             "color": "#2a3f5f"
            },
            "error_y": {
             "color": "#2a3f5f"
            },
            "marker": {
             "line": {
              "color": "#E5ECF6",
              "width": 0.5
             },
             "pattern": {
              "fillmode": "overlay",
              "size": 10,
              "solidity": 0.2
             }
            },
            "type": "bar"
           }
          ],
          "barpolar": [
           {
            "marker": {
             "line": {
              "color": "#E5ECF6",
              "width": 0.5
             },
             "pattern": {
              "fillmode": "overlay",
              "size": 10,
              "solidity": 0.2
             }
            },
            "type": "barpolar"
           }
          ],
          "carpet": [
           {
            "aaxis": {
             "endlinecolor": "#2a3f5f",
             "gridcolor": "white",
             "linecolor": "white",
             "minorgridcolor": "white",
             "startlinecolor": "#2a3f5f"
            },
            "baxis": {
             "endlinecolor": "#2a3f5f",
             "gridcolor": "white",
             "linecolor": "white",
             "minorgridcolor": "white",
             "startlinecolor": "#2a3f5f"
            },
            "type": "carpet"
           }
          ],
          "choropleth": [
           {
            "colorbar": {
             "outlinewidth": 0,
             "ticks": ""
            },
            "type": "choropleth"
           }
          ],
          "contour": [
           {
            "colorbar": {
             "outlinewidth": 0,
             "ticks": ""
            },
            "colorscale": [
             [
              0,
              "#0d0887"
             ],
             [
              0.1111111111111111,
              "#46039f"
             ],
             [
              0.2222222222222222,
              "#7201a8"
             ],
             [
              0.3333333333333333,
              "#9c179e"
             ],
             [
              0.4444444444444444,
              "#bd3786"
             ],
             [
              0.5555555555555556,
              "#d8576b"
             ],
             [
              0.6666666666666666,
              "#ed7953"
             ],
             [
              0.7777777777777778,
              "#fb9f3a"
             ],
             [
              0.8888888888888888,
              "#fdca26"
             ],
             [
              1,
              "#f0f921"
             ]
            ],
            "type": "contour"
           }
          ],
          "contourcarpet": [
           {
            "colorbar": {
             "outlinewidth": 0,
             "ticks": ""
            },
            "type": "contourcarpet"
           }
          ],
          "heatmap": [
           {
            "colorbar": {
             "outlinewidth": 0,
             "ticks": ""
            },
            "colorscale": [
             [
              0,
              "#0d0887"
             ],
             [
              0.1111111111111111,
              "#46039f"
             ],
             [
              0.2222222222222222,
              "#7201a8"
             ],
             [
              0.3333333333333333,
              "#9c179e"
             ],
             [
              0.4444444444444444,
              "#bd3786"
             ],
             [
              0.5555555555555556,
              "#d8576b"
             ],
             [
              0.6666666666666666,
              "#ed7953"
             ],
             [
              0.7777777777777778,
              "#fb9f3a"
             ],
             [
              0.8888888888888888,
              "#fdca26"
             ],
             [
              1,
              "#f0f921"
             ]
            ],
            "type": "heatmap"
           }
          ],
          "heatmapgl": [
           {
            "colorbar": {
             "outlinewidth": 0,
             "ticks": ""
            },
            "colorscale": [
             [
              0,
              "#0d0887"
             ],
             [
              0.1111111111111111,
              "#46039f"
             ],
             [
              0.2222222222222222,
              "#7201a8"
             ],
             [
              0.3333333333333333,
              "#9c179e"
             ],
             [
              0.4444444444444444,
              "#bd3786"
             ],
             [
              0.5555555555555556,
              "#d8576b"
             ],
             [
              0.6666666666666666,
              "#ed7953"
             ],
             [
              0.7777777777777778,
              "#fb9f3a"
             ],
             [
              0.8888888888888888,
              "#fdca26"
             ],
             [
              1,
              "#f0f921"
             ]
            ],
            "type": "heatmapgl"
           }
          ],
          "histogram": [
           {
            "marker": {
             "pattern": {
              "fillmode": "overlay",
              "size": 10,
              "solidity": 0.2
             }
            },
            "type": "histogram"
           }
          ],
          "histogram2d": [
           {
            "colorbar": {
             "outlinewidth": 0,
             "ticks": ""
            },
            "colorscale": [
             [
              0,
              "#0d0887"
             ],
             [
              0.1111111111111111,
              "#46039f"
             ],
             [
              0.2222222222222222,
              "#7201a8"
             ],
             [
              0.3333333333333333,
              "#9c179e"
             ],
             [
              0.4444444444444444,
              "#bd3786"
             ],
             [
              0.5555555555555556,
              "#d8576b"
             ],
             [
              0.6666666666666666,
              "#ed7953"
             ],
             [
              0.7777777777777778,
              "#fb9f3a"
             ],
             [
              0.8888888888888888,
              "#fdca26"
             ],
             [
              1,
              "#f0f921"
             ]
            ],
            "type": "histogram2d"
           }
          ],
          "histogram2dcontour": [
           {
            "colorbar": {
             "outlinewidth": 0,
             "ticks": ""
            },
            "colorscale": [
             [
              0,
              "#0d0887"
             ],
             [
              0.1111111111111111,
              "#46039f"
             ],
             [
              0.2222222222222222,
              "#7201a8"
             ],
             [
              0.3333333333333333,
              "#9c179e"
             ],
             [
              0.4444444444444444,
              "#bd3786"
             ],
             [
              0.5555555555555556,
              "#d8576b"
             ],
             [
              0.6666666666666666,
              "#ed7953"
             ],
             [
              0.7777777777777778,
              "#fb9f3a"
             ],
             [
              0.8888888888888888,
              "#fdca26"
             ],
             [
              1,
              "#f0f921"
             ]
            ],
            "type": "histogram2dcontour"
           }
          ],
          "mesh3d": [
           {
            "colorbar": {
             "outlinewidth": 0,
             "ticks": ""
            },
            "type": "mesh3d"
           }
          ],
          "parcoords": [
           {
            "line": {
             "colorbar": {
              "outlinewidth": 0,
              "ticks": ""
             }
            },
            "type": "parcoords"
           }
          ],
          "pie": [
           {
            "automargin": true,
            "type": "pie"
           }
          ],
          "scatter": [
           {
            "marker": {
             "colorbar": {
              "outlinewidth": 0,
              "ticks": ""
             }
            },
            "type": "scatter"
           }
          ],
          "scatter3d": [
           {
            "line": {
             "colorbar": {
              "outlinewidth": 0,
              "ticks": ""
             }
            },
            "marker": {
             "colorbar": {
              "outlinewidth": 0,
              "ticks": ""
             }
            },
            "type": "scatter3d"
           }
          ],
          "scattercarpet": [
           {
            "marker": {
             "colorbar": {
              "outlinewidth": 0,
              "ticks": ""
             }
            },
            "type": "scattercarpet"
           }
          ],
          "scattergeo": [
           {
            "marker": {
             "colorbar": {
              "outlinewidth": 0,
              "ticks": ""
             }
            },
            "type": "scattergeo"
           }
          ],
          "scattergl": [
           {
            "marker": {
             "colorbar": {
              "outlinewidth": 0,
              "ticks": ""
             }
            },
            "type": "scattergl"
           }
          ],
          "scattermapbox": [
           {
            "marker": {
             "colorbar": {
              "outlinewidth": 0,
              "ticks": ""
             }
            },
            "type": "scattermapbox"
           }
          ],
          "scatterpolar": [
           {
            "marker": {
             "colorbar": {
              "outlinewidth": 0,
              "ticks": ""
             }
            },
            "type": "scatterpolar"
           }
          ],
          "scatterpolargl": [
           {
            "marker": {
             "colorbar": {
              "outlinewidth": 0,
              "ticks": ""
             }
            },
            "type": "scatterpolargl"
           }
          ],
          "scatterternary": [
           {
            "marker": {
             "colorbar": {
              "outlinewidth": 0,
              "ticks": ""
             }
            },
            "type": "scatterternary"
           }
          ],
          "surface": [
           {
            "colorbar": {
             "outlinewidth": 0,
             "ticks": ""
            },
            "colorscale": [
             [
              0,
              "#0d0887"
             ],
             [
              0.1111111111111111,
              "#46039f"
             ],
             [
              0.2222222222222222,
              "#7201a8"
             ],
             [
              0.3333333333333333,
              "#9c179e"
             ],
             [
              0.4444444444444444,
              "#bd3786"
             ],
             [
              0.5555555555555556,
              "#d8576b"
             ],
             [
              0.6666666666666666,
              "#ed7953"
             ],
             [
              0.7777777777777778,
              "#fb9f3a"
             ],
             [
              0.8888888888888888,
              "#fdca26"
             ],
             [
              1,
              "#f0f921"
             ]
            ],
            "type": "surface"
           }
          ],
          "table": [
           {
            "cells": {
             "fill": {
              "color": "#EBF0F8"
             },
             "line": {
              "color": "white"
             }
            },
            "header": {
             "fill": {
              "color": "#C8D4E3"
             },
             "line": {
              "color": "white"
             }
            },
            "type": "table"
           }
          ]
         },
         "layout": {
          "annotationdefaults": {
           "arrowcolor": "#2a3f5f",
           "arrowhead": 0,
           "arrowwidth": 1
          },
          "autotypenumbers": "strict",
          "coloraxis": {
           "colorbar": {
            "outlinewidth": 0,
            "ticks": ""
           }
          },
          "colorscale": {
           "diverging": [
            [
             0,
             "#8e0152"
            ],
            [
             0.1,
             "#c51b7d"
            ],
            [
             0.2,
             "#de77ae"
            ],
            [
             0.3,
             "#f1b6da"
            ],
            [
             0.4,
             "#fde0ef"
            ],
            [
             0.5,
             "#f7f7f7"
            ],
            [
             0.6,
             "#e6f5d0"
            ],
            [
             0.7,
             "#b8e186"
            ],
            [
             0.8,
             "#7fbc41"
            ],
            [
             0.9,
             "#4d9221"
            ],
            [
             1,
             "#276419"
            ]
           ],
           "sequential": [
            [
             0,
             "#0d0887"
            ],
            [
             0.1111111111111111,
             "#46039f"
            ],
            [
             0.2222222222222222,
             "#7201a8"
            ],
            [
             0.3333333333333333,
             "#9c179e"
            ],
            [
             0.4444444444444444,
             "#bd3786"
            ],
            [
             0.5555555555555556,
             "#d8576b"
            ],
            [
             0.6666666666666666,
             "#ed7953"
            ],
            [
             0.7777777777777778,
             "#fb9f3a"
            ],
            [
             0.8888888888888888,
             "#fdca26"
            ],
            [
             1,
             "#f0f921"
            ]
           ],
           "sequentialminus": [
            [
             0,
             "#0d0887"
            ],
            [
             0.1111111111111111,
             "#46039f"
            ],
            [
             0.2222222222222222,
             "#7201a8"
            ],
            [
             0.3333333333333333,
             "#9c179e"
            ],
            [
             0.4444444444444444,
             "#bd3786"
            ],
            [
             0.5555555555555556,
             "#d8576b"
            ],
            [
             0.6666666666666666,
             "#ed7953"
            ],
            [
             0.7777777777777778,
             "#fb9f3a"
            ],
            [
             0.8888888888888888,
             "#fdca26"
            ],
            [
             1,
             "#f0f921"
            ]
           ]
          },
          "colorway": [
           "#636efa",
           "#EF553B",
           "#00cc96",
           "#ab63fa",
           "#FFA15A",
           "#19d3f3",
           "#FF6692",
           "#B6E880",
           "#FF97FF",
           "#FECB52"
          ],
          "font": {
           "color": "#2a3f5f"
          },
          "geo": {
           "bgcolor": "white",
           "lakecolor": "white",
           "landcolor": "#E5ECF6",
           "showlakes": true,
           "showland": true,
           "subunitcolor": "white"
          },
          "hoverlabel": {
           "align": "left"
          },
          "hovermode": "closest",
          "mapbox": {
           "style": "light"
          },
          "paper_bgcolor": "white",
          "plot_bgcolor": "#E5ECF6",
          "polar": {
           "angularaxis": {
            "gridcolor": "white",
            "linecolor": "white",
            "ticks": ""
           },
           "bgcolor": "#E5ECF6",
           "radialaxis": {
            "gridcolor": "white",
            "linecolor": "white",
            "ticks": ""
           }
          },
          "scene": {
           "xaxis": {
            "backgroundcolor": "#E5ECF6",
            "gridcolor": "white",
            "gridwidth": 2,
            "linecolor": "white",
            "showbackground": true,
            "ticks": "",
            "zerolinecolor": "white"
           },
           "yaxis": {
            "backgroundcolor": "#E5ECF6",
            "gridcolor": "white",
            "gridwidth": 2,
            "linecolor": "white",
            "showbackground": true,
            "ticks": "",
            "zerolinecolor": "white"
           },
           "zaxis": {
            "backgroundcolor": "#E5ECF6",
            "gridcolor": "white",
            "gridwidth": 2,
            "linecolor": "white",
            "showbackground": true,
            "ticks": "",
            "zerolinecolor": "white"
           }
          },
          "shapedefaults": {
           "line": {
            "color": "#2a3f5f"
           }
          },
          "ternary": {
           "aaxis": {
            "gridcolor": "white",
            "linecolor": "white",
            "ticks": ""
           },
           "baxis": {
            "gridcolor": "white",
            "linecolor": "white",
            "ticks": ""
           },
           "bgcolor": "#E5ECF6",
           "caxis": {
            "gridcolor": "white",
            "linecolor": "white",
            "ticks": ""
           }
          },
          "title": {
           "x": 0.05
          },
          "xaxis": {
           "automargin": true,
           "gridcolor": "white",
           "linecolor": "white",
           "ticks": "",
           "title": {
            "standoff": 15
           },
           "zerolinecolor": "white",
           "zerolinewidth": 2
          },
          "yaxis": {
           "automargin": true,
           "gridcolor": "white",
           "linecolor": "white",
           "ticks": "",
           "title": {
            "standoff": 15
           },
           "zerolinecolor": "white",
           "zerolinewidth": 2
          }
         }
        },
        "title": {
         "text": "Matasaarentie, Year: 2019"
        },
        "width": 500
       }
      },
      "text/html": [
       "<div>                            <div id=\"5bdd1234-8f3a-4644-881b-215d4632791d\" class=\"plotly-graph-div\" style=\"height:300px; width:500px;\"></div>            <script type=\"text/javascript\">                require([\"plotly\"], function(Plotly) {                    window.PLOTLYENV=window.PLOTLYENV || {};                                    if (document.getElementById(\"5bdd1234-8f3a-4644-881b-215d4632791d\")) {                    Plotly.newPlot(                        \"5bdd1234-8f3a-4644-881b-215d4632791d\",                        [{\"customdata\":[[\"Matasaarentie\",null],[\"Matasaarentie\",null]],\"hovertemplate\":\"<b>%{hovertext}</b><br><br>mobbing=no info<br>lat=%{lat}<br>long=%{lon}<br>Site=%{customdata[0]}<br>Propensity=%{customdata[1]}<extra></extra>\",\"hovertext\":[\"19AV2\",\"19KR27\"],\"lat\":[60.13073,60.13061],\"legendgroup\":\"no info\",\"lon\":[24.70092,24.70096],\"marker\":{\"color\":\"grey\"},\"mode\":\"markers\",\"name\":\"no info\",\"showlegend\":true,\"subplot\":\"mapbox\",\"type\":\"scattermapbox\"},{\"customdata\":[[\"Matasaarentie\",0.0]],\"hovertemplate\":\"<b>%{hovertext}</b><br><br>mobbing=shy<br>lat=%{lat}<br>long=%{lon}<br>Site=%{customdata[0]}<br>Propensity=%{customdata[1]}<extra></extra>\",\"hovertext\":[\"19KR28\"],\"lat\":[60.13092],\"legendgroup\":\"shy\",\"lon\":[24.70075],\"marker\":{\"color\":\"blue\"},\"mode\":\"markers\",\"name\":\"shy\",\"showlegend\":true,\"subplot\":\"mapbox\",\"type\":\"scattermapbox\"}],                        {\"height\":300,\"legend\":{\"title\":{\"text\":\"mobbing\"},\"tracegroupgap\":0},\"mapbox\":{\"center\":{\"lat\":60.13075333333333,\"lon\":24.70087666666667},\"domain\":{\"x\":[0.0,1.0],\"y\":[0.0,1.0]},\"style\":\"open-street-map\",\"zoom\":13},\"margin\":{\"b\":0,\"l\":0,\"r\":0,\"t\":50},\"template\":{\"data\":{\"bar\":[{\"error_x\":{\"color\":\"#2a3f5f\"},\"error_y\":{\"color\":\"#2a3f5f\"},\"marker\":{\"line\":{\"color\":\"#E5ECF6\",\"width\":0.5},\"pattern\":{\"fillmode\":\"overlay\",\"size\":10,\"solidity\":0.2}},\"type\":\"bar\"}],\"barpolar\":[{\"marker\":{\"line\":{\"color\":\"#E5ECF6\",\"width\":0.5},\"pattern\":{\"fillmode\":\"overlay\",\"size\":10,\"solidity\":0.2}},\"type\":\"barpolar\"}],\"carpet\":[{\"aaxis\":{\"endlinecolor\":\"#2a3f5f\",\"gridcolor\":\"white\",\"linecolor\":\"white\",\"minorgridcolor\":\"white\",\"startlinecolor\":\"#2a3f5f\"},\"baxis\":{\"endlinecolor\":\"#2a3f5f\",\"gridcolor\":\"white\",\"linecolor\":\"white\",\"minorgridcolor\":\"white\",\"startlinecolor\":\"#2a3f5f\"},\"type\":\"carpet\"}],\"choropleth\":[{\"colorbar\":{\"outlinewidth\":0,\"ticks\":\"\"},\"type\":\"choropleth\"}],\"contour\":[{\"colorbar\":{\"outlinewidth\":0,\"ticks\":\"\"},\"colorscale\":[[0.0,\"#0d0887\"],[0.1111111111111111,\"#46039f\"],[0.2222222222222222,\"#7201a8\"],[0.3333333333333333,\"#9c179e\"],[0.4444444444444444,\"#bd3786\"],[0.5555555555555556,\"#d8576b\"],[0.6666666666666666,\"#ed7953\"],[0.7777777777777778,\"#fb9f3a\"],[0.8888888888888888,\"#fdca26\"],[1.0,\"#f0f921\"]],\"type\":\"contour\"}],\"contourcarpet\":[{\"colorbar\":{\"outlinewidth\":0,\"ticks\":\"\"},\"type\":\"contourcarpet\"}],\"heatmap\":[{\"colorbar\":{\"outlinewidth\":0,\"ticks\":\"\"},\"colorscale\":[[0.0,\"#0d0887\"],[0.1111111111111111,\"#46039f\"],[0.2222222222222222,\"#7201a8\"],[0.3333333333333333,\"#9c179e\"],[0.4444444444444444,\"#bd3786\"],[0.5555555555555556,\"#d8576b\"],[0.6666666666666666,\"#ed7953\"],[0.7777777777777778,\"#fb9f3a\"],[0.8888888888888888,\"#fdca26\"],[1.0,\"#f0f921\"]],\"type\":\"heatmap\"}],\"heatmapgl\":[{\"colorbar\":{\"outlinewidth\":0,\"ticks\":\"\"},\"colorscale\":[[0.0,\"#0d0887\"],[0.1111111111111111,\"#46039f\"],[0.2222222222222222,\"#7201a8\"],[0.3333333333333333,\"#9c179e\"],[0.4444444444444444,\"#bd3786\"],[0.5555555555555556,\"#d8576b\"],[0.6666666666666666,\"#ed7953\"],[0.7777777777777778,\"#fb9f3a\"],[0.8888888888888888,\"#fdca26\"],[1.0,\"#f0f921\"]],\"type\":\"heatmapgl\"}],\"histogram\":[{\"marker\":{\"pattern\":{\"fillmode\":\"overlay\",\"size\":10,\"solidity\":0.2}},\"type\":\"histogram\"}],\"histogram2d\":[{\"colorbar\":{\"outlinewidth\":0,\"ticks\":\"\"},\"colorscale\":[[0.0,\"#0d0887\"],[0.1111111111111111,\"#46039f\"],[0.2222222222222222,\"#7201a8\"],[0.3333333333333333,\"#9c179e\"],[0.4444444444444444,\"#bd3786\"],[0.5555555555555556,\"#d8576b\"],[0.6666666666666666,\"#ed7953\"],[0.7777777777777778,\"#fb9f3a\"],[0.8888888888888888,\"#fdca26\"],[1.0,\"#f0f921\"]],\"type\":\"histogram2d\"}],\"histogram2dcontour\":[{\"colorbar\":{\"outlinewidth\":0,\"ticks\":\"\"},\"colorscale\":[[0.0,\"#0d0887\"],[0.1111111111111111,\"#46039f\"],[0.2222222222222222,\"#7201a8\"],[0.3333333333333333,\"#9c179e\"],[0.4444444444444444,\"#bd3786\"],[0.5555555555555556,\"#d8576b\"],[0.6666666666666666,\"#ed7953\"],[0.7777777777777778,\"#fb9f3a\"],[0.8888888888888888,\"#fdca26\"],[1.0,\"#f0f921\"]],\"type\":\"histogram2dcontour\"}],\"mesh3d\":[{\"colorbar\":{\"outlinewidth\":0,\"ticks\":\"\"},\"type\":\"mesh3d\"}],\"parcoords\":[{\"line\":{\"colorbar\":{\"outlinewidth\":0,\"ticks\":\"\"}},\"type\":\"parcoords\"}],\"pie\":[{\"automargin\":true,\"type\":\"pie\"}],\"scatter\":[{\"marker\":{\"colorbar\":{\"outlinewidth\":0,\"ticks\":\"\"}},\"type\":\"scatter\"}],\"scatter3d\":[{\"line\":{\"colorbar\":{\"outlinewidth\":0,\"ticks\":\"\"}},\"marker\":{\"colorbar\":{\"outlinewidth\":0,\"ticks\":\"\"}},\"type\":\"scatter3d\"}],\"scattercarpet\":[{\"marker\":{\"colorbar\":{\"outlinewidth\":0,\"ticks\":\"\"}},\"type\":\"scattercarpet\"}],\"scattergeo\":[{\"marker\":{\"colorbar\":{\"outlinewidth\":0,\"ticks\":\"\"}},\"type\":\"scattergeo\"}],\"scattergl\":[{\"marker\":{\"colorbar\":{\"outlinewidth\":0,\"ticks\":\"\"}},\"type\":\"scattergl\"}],\"scattermapbox\":[{\"marker\":{\"colorbar\":{\"outlinewidth\":0,\"ticks\":\"\"}},\"type\":\"scattermapbox\"}],\"scatterpolar\":[{\"marker\":{\"colorbar\":{\"outlinewidth\":0,\"ticks\":\"\"}},\"type\":\"scatterpolar\"}],\"scatterpolargl\":[{\"marker\":{\"colorbar\":{\"outlinewidth\":0,\"ticks\":\"\"}},\"type\":\"scatterpolargl\"}],\"scatterternary\":[{\"marker\":{\"colorbar\":{\"outlinewidth\":0,\"ticks\":\"\"}},\"type\":\"scatterternary\"}],\"surface\":[{\"colorbar\":{\"outlinewidth\":0,\"ticks\":\"\"},\"colorscale\":[[0.0,\"#0d0887\"],[0.1111111111111111,\"#46039f\"],[0.2222222222222222,\"#7201a8\"],[0.3333333333333333,\"#9c179e\"],[0.4444444444444444,\"#bd3786\"],[0.5555555555555556,\"#d8576b\"],[0.6666666666666666,\"#ed7953\"],[0.7777777777777778,\"#fb9f3a\"],[0.8888888888888888,\"#fdca26\"],[1.0,\"#f0f921\"]],\"type\":\"surface\"}],\"table\":[{\"cells\":{\"fill\":{\"color\":\"#EBF0F8\"},\"line\":{\"color\":\"white\"}},\"header\":{\"fill\":{\"color\":\"#C8D4E3\"},\"line\":{\"color\":\"white\"}},\"type\":\"table\"}]},\"layout\":{\"annotationdefaults\":{\"arrowcolor\":\"#2a3f5f\",\"arrowhead\":0,\"arrowwidth\":1},\"autotypenumbers\":\"strict\",\"coloraxis\":{\"colorbar\":{\"outlinewidth\":0,\"ticks\":\"\"}},\"colorscale\":{\"diverging\":[[0,\"#8e0152\"],[0.1,\"#c51b7d\"],[0.2,\"#de77ae\"],[0.3,\"#f1b6da\"],[0.4,\"#fde0ef\"],[0.5,\"#f7f7f7\"],[0.6,\"#e6f5d0\"],[0.7,\"#b8e186\"],[0.8,\"#7fbc41\"],[0.9,\"#4d9221\"],[1,\"#276419\"]],\"sequential\":[[0.0,\"#0d0887\"],[0.1111111111111111,\"#46039f\"],[0.2222222222222222,\"#7201a8\"],[0.3333333333333333,\"#9c179e\"],[0.4444444444444444,\"#bd3786\"],[0.5555555555555556,\"#d8576b\"],[0.6666666666666666,\"#ed7953\"],[0.7777777777777778,\"#fb9f3a\"],[0.8888888888888888,\"#fdca26\"],[1.0,\"#f0f921\"]],\"sequentialminus\":[[0.0,\"#0d0887\"],[0.1111111111111111,\"#46039f\"],[0.2222222222222222,\"#7201a8\"],[0.3333333333333333,\"#9c179e\"],[0.4444444444444444,\"#bd3786\"],[0.5555555555555556,\"#d8576b\"],[0.6666666666666666,\"#ed7953\"],[0.7777777777777778,\"#fb9f3a\"],[0.8888888888888888,\"#fdca26\"],[1.0,\"#f0f921\"]]},\"colorway\":[\"#636efa\",\"#EF553B\",\"#00cc96\",\"#ab63fa\",\"#FFA15A\",\"#19d3f3\",\"#FF6692\",\"#B6E880\",\"#FF97FF\",\"#FECB52\"],\"font\":{\"color\":\"#2a3f5f\"},\"geo\":{\"bgcolor\":\"white\",\"lakecolor\":\"white\",\"landcolor\":\"#E5ECF6\",\"showlakes\":true,\"showland\":true,\"subunitcolor\":\"white\"},\"hoverlabel\":{\"align\":\"left\"},\"hovermode\":\"closest\",\"mapbox\":{\"style\":\"light\"},\"paper_bgcolor\":\"white\",\"plot_bgcolor\":\"#E5ECF6\",\"polar\":{\"angularaxis\":{\"gridcolor\":\"white\",\"linecolor\":\"white\",\"ticks\":\"\"},\"bgcolor\":\"#E5ECF6\",\"radialaxis\":{\"gridcolor\":\"white\",\"linecolor\":\"white\",\"ticks\":\"\"}},\"scene\":{\"xaxis\":{\"backgroundcolor\":\"#E5ECF6\",\"gridcolor\":\"white\",\"gridwidth\":2,\"linecolor\":\"white\",\"showbackground\":true,\"ticks\":\"\",\"zerolinecolor\":\"white\"},\"yaxis\":{\"backgroundcolor\":\"#E5ECF6\",\"gridcolor\":\"white\",\"gridwidth\":2,\"linecolor\":\"white\",\"showbackground\":true,\"ticks\":\"\",\"zerolinecolor\":\"white\"},\"zaxis\":{\"backgroundcolor\":\"#E5ECF6\",\"gridcolor\":\"white\",\"gridwidth\":2,\"linecolor\":\"white\",\"showbackground\":true,\"ticks\":\"\",\"zerolinecolor\":\"white\"}},\"shapedefaults\":{\"line\":{\"color\":\"#2a3f5f\"}},\"ternary\":{\"aaxis\":{\"gridcolor\":\"white\",\"linecolor\":\"white\",\"ticks\":\"\"},\"baxis\":{\"gridcolor\":\"white\",\"linecolor\":\"white\",\"ticks\":\"\"},\"bgcolor\":\"#E5ECF6\",\"caxis\":{\"gridcolor\":\"white\",\"linecolor\":\"white\",\"ticks\":\"\"}},\"title\":{\"x\":0.05},\"xaxis\":{\"automargin\":true,\"gridcolor\":\"white\",\"linecolor\":\"white\",\"ticks\":\"\",\"title\":{\"standoff\":15},\"zerolinecolor\":\"white\",\"zerolinewidth\":2},\"yaxis\":{\"automargin\":true,\"gridcolor\":\"white\",\"linecolor\":\"white\",\"ticks\":\"\",\"title\":{\"standoff\":15},\"zerolinecolor\":\"white\",\"zerolinewidth\":2}}},\"title\":{\"text\":\"Matasaarentie, Year: 2019\"},\"width\":500},                        {\"responsive\": true}                    ).then(function(){\n",
       "                            \n",
       "var gd = document.getElementById('5bdd1234-8f3a-4644-881b-215d4632791d');\n",
       "var x = new MutationObserver(function (mutations, observer) {{\n",
       "        var display = window.getComputedStyle(gd).display;\n",
       "        if (!display || display === 'none') {{\n",
       "            console.log([gd, 'removed!']);\n",
       "            Plotly.purge(gd);\n",
       "            observer.disconnect();\n",
       "        }}\n",
       "}});\n",
       "\n",
       "// Listen for the removal of the full notebook cells\n",
       "var notebookContainer = gd.closest('#notebook-container');\n",
       "if (notebookContainer) {{\n",
       "    x.observe(notebookContainer, {childList: true});\n",
       "}}\n",
       "\n",
       "// Listen for the clearing of the current output cell\n",
       "var outputEl = gd.closest('.output');\n",
       "if (outputEl) {{\n",
       "    x.observe(outputEl, {childList: true});\n",
       "}}\n",
       "\n",
       "                        })                };                });            </script>        </div>"
      ]
     },
     "metadata": {},
     "output_type": "display_data"
    },
    {
     "data": {
      "application/vnd.plotly.v1+json": {
       "config": {
        "plotlyServerURL": "https://plot.ly"
       },
       "data": [
        {
         "customdata": [
          [
           "Matasaarentie",
           null
          ],
          [
           "Matasaarentie",
           null
          ]
         ],
         "hovertemplate": "<b>%{hovertext}</b><br><br>mobbing=no info<br>lat=%{lat}<br>long=%{lon}<br>Site=%{customdata[0]}<br>Propensity=%{customdata[1]}<extra></extra>",
         "hovertext": [
          "20EK31",
          "20EK39"
         ],
         "lat": [
          60.13068,
          60.13061
         ],
         "legendgroup": "no info",
         "lon": [
          24.7013,
          24.70109
         ],
         "marker": {
          "color": "grey"
         },
         "mode": "markers",
         "name": "no info",
         "showlegend": true,
         "subplot": "mapbox",
         "type": "scattermapbox"
        }
       ],
       "layout": {
        "height": 300,
        "legend": {
         "title": {
          "text": "mobbing"
         },
         "tracegroupgap": 0
        },
        "mapbox": {
         "center": {
          "lat": 60.130645,
          "lon": 24.701195
         },
         "domain": {
          "x": [
           0,
           1
          ],
          "y": [
           0,
           1
          ]
         },
         "style": "open-street-map",
         "zoom": 13
        },
        "margin": {
         "b": 0,
         "l": 0,
         "r": 0,
         "t": 50
        },
        "template": {
         "data": {
          "bar": [
           {
            "error_x": {
             "color": "#2a3f5f"
            },
            "error_y": {
             "color": "#2a3f5f"
            },
            "marker": {
             "line": {
              "color": "#E5ECF6",
              "width": 0.5
             },
             "pattern": {
              "fillmode": "overlay",
              "size": 10,
              "solidity": 0.2
             }
            },
            "type": "bar"
           }
          ],
          "barpolar": [
           {
            "marker": {
             "line": {
              "color": "#E5ECF6",
              "width": 0.5
             },
             "pattern": {
              "fillmode": "overlay",
              "size": 10,
              "solidity": 0.2
             }
            },
            "type": "barpolar"
           }
          ],
          "carpet": [
           {
            "aaxis": {
             "endlinecolor": "#2a3f5f",
             "gridcolor": "white",
             "linecolor": "white",
             "minorgridcolor": "white",
             "startlinecolor": "#2a3f5f"
            },
            "baxis": {
             "endlinecolor": "#2a3f5f",
             "gridcolor": "white",
             "linecolor": "white",
             "minorgridcolor": "white",
             "startlinecolor": "#2a3f5f"
            },
            "type": "carpet"
           }
          ],
          "choropleth": [
           {
            "colorbar": {
             "outlinewidth": 0,
             "ticks": ""
            },
            "type": "choropleth"
           }
          ],
          "contour": [
           {
            "colorbar": {
             "outlinewidth": 0,
             "ticks": ""
            },
            "colorscale": [
             [
              0,
              "#0d0887"
             ],
             [
              0.1111111111111111,
              "#46039f"
             ],
             [
              0.2222222222222222,
              "#7201a8"
             ],
             [
              0.3333333333333333,
              "#9c179e"
             ],
             [
              0.4444444444444444,
              "#bd3786"
             ],
             [
              0.5555555555555556,
              "#d8576b"
             ],
             [
              0.6666666666666666,
              "#ed7953"
             ],
             [
              0.7777777777777778,
              "#fb9f3a"
             ],
             [
              0.8888888888888888,
              "#fdca26"
             ],
             [
              1,
              "#f0f921"
             ]
            ],
            "type": "contour"
           }
          ],
          "contourcarpet": [
           {
            "colorbar": {
             "outlinewidth": 0,
             "ticks": ""
            },
            "type": "contourcarpet"
           }
          ],
          "heatmap": [
           {
            "colorbar": {
             "outlinewidth": 0,
             "ticks": ""
            },
            "colorscale": [
             [
              0,
              "#0d0887"
             ],
             [
              0.1111111111111111,
              "#46039f"
             ],
             [
              0.2222222222222222,
              "#7201a8"
             ],
             [
              0.3333333333333333,
              "#9c179e"
             ],
             [
              0.4444444444444444,
              "#bd3786"
             ],
             [
              0.5555555555555556,
              "#d8576b"
             ],
             [
              0.6666666666666666,
              "#ed7953"
             ],
             [
              0.7777777777777778,
              "#fb9f3a"
             ],
             [
              0.8888888888888888,
              "#fdca26"
             ],
             [
              1,
              "#f0f921"
             ]
            ],
            "type": "heatmap"
           }
          ],
          "heatmapgl": [
           {
            "colorbar": {
             "outlinewidth": 0,
             "ticks": ""
            },
            "colorscale": [
             [
              0,
              "#0d0887"
             ],
             [
              0.1111111111111111,
              "#46039f"
             ],
             [
              0.2222222222222222,
              "#7201a8"
             ],
             [
              0.3333333333333333,
              "#9c179e"
             ],
             [
              0.4444444444444444,
              "#bd3786"
             ],
             [
              0.5555555555555556,
              "#d8576b"
             ],
             [
              0.6666666666666666,
              "#ed7953"
             ],
             [
              0.7777777777777778,
              "#fb9f3a"
             ],
             [
              0.8888888888888888,
              "#fdca26"
             ],
             [
              1,
              "#f0f921"
             ]
            ],
            "type": "heatmapgl"
           }
          ],
          "histogram": [
           {
            "marker": {
             "pattern": {
              "fillmode": "overlay",
              "size": 10,
              "solidity": 0.2
             }
            },
            "type": "histogram"
           }
          ],
          "histogram2d": [
           {
            "colorbar": {
             "outlinewidth": 0,
             "ticks": ""
            },
            "colorscale": [
             [
              0,
              "#0d0887"
             ],
             [
              0.1111111111111111,
              "#46039f"
             ],
             [
              0.2222222222222222,
              "#7201a8"
             ],
             [
              0.3333333333333333,
              "#9c179e"
             ],
             [
              0.4444444444444444,
              "#bd3786"
             ],
             [
              0.5555555555555556,
              "#d8576b"
             ],
             [
              0.6666666666666666,
              "#ed7953"
             ],
             [
              0.7777777777777778,
              "#fb9f3a"
             ],
             [
              0.8888888888888888,
              "#fdca26"
             ],
             [
              1,
              "#f0f921"
             ]
            ],
            "type": "histogram2d"
           }
          ],
          "histogram2dcontour": [
           {
            "colorbar": {
             "outlinewidth": 0,
             "ticks": ""
            },
            "colorscale": [
             [
              0,
              "#0d0887"
             ],
             [
              0.1111111111111111,
              "#46039f"
             ],
             [
              0.2222222222222222,
              "#7201a8"
             ],
             [
              0.3333333333333333,
              "#9c179e"
             ],
             [
              0.4444444444444444,
              "#bd3786"
             ],
             [
              0.5555555555555556,
              "#d8576b"
             ],
             [
              0.6666666666666666,
              "#ed7953"
             ],
             [
              0.7777777777777778,
              "#fb9f3a"
             ],
             [
              0.8888888888888888,
              "#fdca26"
             ],
             [
              1,
              "#f0f921"
             ]
            ],
            "type": "histogram2dcontour"
           }
          ],
          "mesh3d": [
           {
            "colorbar": {
             "outlinewidth": 0,
             "ticks": ""
            },
            "type": "mesh3d"
           }
          ],
          "parcoords": [
           {
            "line": {
             "colorbar": {
              "outlinewidth": 0,
              "ticks": ""
             }
            },
            "type": "parcoords"
           }
          ],
          "pie": [
           {
            "automargin": true,
            "type": "pie"
           }
          ],
          "scatter": [
           {
            "marker": {
             "colorbar": {
              "outlinewidth": 0,
              "ticks": ""
             }
            },
            "type": "scatter"
           }
          ],
          "scatter3d": [
           {
            "line": {
             "colorbar": {
              "outlinewidth": 0,
              "ticks": ""
             }
            },
            "marker": {
             "colorbar": {
              "outlinewidth": 0,
              "ticks": ""
             }
            },
            "type": "scatter3d"
           }
          ],
          "scattercarpet": [
           {
            "marker": {
             "colorbar": {
              "outlinewidth": 0,
              "ticks": ""
             }
            },
            "type": "scattercarpet"
           }
          ],
          "scattergeo": [
           {
            "marker": {
             "colorbar": {
              "outlinewidth": 0,
              "ticks": ""
             }
            },
            "type": "scattergeo"
           }
          ],
          "scattergl": [
           {
            "marker": {
             "colorbar": {
              "outlinewidth": 0,
              "ticks": ""
             }
            },
            "type": "scattergl"
           }
          ],
          "scattermapbox": [
           {
            "marker": {
             "colorbar": {
              "outlinewidth": 0,
              "ticks": ""
             }
            },
            "type": "scattermapbox"
           }
          ],
          "scatterpolar": [
           {
            "marker": {
             "colorbar": {
              "outlinewidth": 0,
              "ticks": ""
             }
            },
            "type": "scatterpolar"
           }
          ],
          "scatterpolargl": [
           {
            "marker": {
             "colorbar": {
              "outlinewidth": 0,
              "ticks": ""
             }
            },
            "type": "scatterpolargl"
           }
          ],
          "scatterternary": [
           {
            "marker": {
             "colorbar": {
              "outlinewidth": 0,
              "ticks": ""
             }
            },
            "type": "scatterternary"
           }
          ],
          "surface": [
           {
            "colorbar": {
             "outlinewidth": 0,
             "ticks": ""
            },
            "colorscale": [
             [
              0,
              "#0d0887"
             ],
             [
              0.1111111111111111,
              "#46039f"
             ],
             [
              0.2222222222222222,
              "#7201a8"
             ],
             [
              0.3333333333333333,
              "#9c179e"
             ],
             [
              0.4444444444444444,
              "#bd3786"
             ],
             [
              0.5555555555555556,
              "#d8576b"
             ],
             [
              0.6666666666666666,
              "#ed7953"
             ],
             [
              0.7777777777777778,
              "#fb9f3a"
             ],
             [
              0.8888888888888888,
              "#fdca26"
             ],
             [
              1,
              "#f0f921"
             ]
            ],
            "type": "surface"
           }
          ],
          "table": [
           {
            "cells": {
             "fill": {
              "color": "#EBF0F8"
             },
             "line": {
              "color": "white"
             }
            },
            "header": {
             "fill": {
              "color": "#C8D4E3"
             },
             "line": {
              "color": "white"
             }
            },
            "type": "table"
           }
          ]
         },
         "layout": {
          "annotationdefaults": {
           "arrowcolor": "#2a3f5f",
           "arrowhead": 0,
           "arrowwidth": 1
          },
          "autotypenumbers": "strict",
          "coloraxis": {
           "colorbar": {
            "outlinewidth": 0,
            "ticks": ""
           }
          },
          "colorscale": {
           "diverging": [
            [
             0,
             "#8e0152"
            ],
            [
             0.1,
             "#c51b7d"
            ],
            [
             0.2,
             "#de77ae"
            ],
            [
             0.3,
             "#f1b6da"
            ],
            [
             0.4,
             "#fde0ef"
            ],
            [
             0.5,
             "#f7f7f7"
            ],
            [
             0.6,
             "#e6f5d0"
            ],
            [
             0.7,
             "#b8e186"
            ],
            [
             0.8,
             "#7fbc41"
            ],
            [
             0.9,
             "#4d9221"
            ],
            [
             1,
             "#276419"
            ]
           ],
           "sequential": [
            [
             0,
             "#0d0887"
            ],
            [
             0.1111111111111111,
             "#46039f"
            ],
            [
             0.2222222222222222,
             "#7201a8"
            ],
            [
             0.3333333333333333,
             "#9c179e"
            ],
            [
             0.4444444444444444,
             "#bd3786"
            ],
            [
             0.5555555555555556,
             "#d8576b"
            ],
            [
             0.6666666666666666,
             "#ed7953"
            ],
            [
             0.7777777777777778,
             "#fb9f3a"
            ],
            [
             0.8888888888888888,
             "#fdca26"
            ],
            [
             1,
             "#f0f921"
            ]
           ],
           "sequentialminus": [
            [
             0,
             "#0d0887"
            ],
            [
             0.1111111111111111,
             "#46039f"
            ],
            [
             0.2222222222222222,
             "#7201a8"
            ],
            [
             0.3333333333333333,
             "#9c179e"
            ],
            [
             0.4444444444444444,
             "#bd3786"
            ],
            [
             0.5555555555555556,
             "#d8576b"
            ],
            [
             0.6666666666666666,
             "#ed7953"
            ],
            [
             0.7777777777777778,
             "#fb9f3a"
            ],
            [
             0.8888888888888888,
             "#fdca26"
            ],
            [
             1,
             "#f0f921"
            ]
           ]
          },
          "colorway": [
           "#636efa",
           "#EF553B",
           "#00cc96",
           "#ab63fa",
           "#FFA15A",
           "#19d3f3",
           "#FF6692",
           "#B6E880",
           "#FF97FF",
           "#FECB52"
          ],
          "font": {
           "color": "#2a3f5f"
          },
          "geo": {
           "bgcolor": "white",
           "lakecolor": "white",
           "landcolor": "#E5ECF6",
           "showlakes": true,
           "showland": true,
           "subunitcolor": "white"
          },
          "hoverlabel": {
           "align": "left"
          },
          "hovermode": "closest",
          "mapbox": {
           "style": "light"
          },
          "paper_bgcolor": "white",
          "plot_bgcolor": "#E5ECF6",
          "polar": {
           "angularaxis": {
            "gridcolor": "white",
            "linecolor": "white",
            "ticks": ""
           },
           "bgcolor": "#E5ECF6",
           "radialaxis": {
            "gridcolor": "white",
            "linecolor": "white",
            "ticks": ""
           }
          },
          "scene": {
           "xaxis": {
            "backgroundcolor": "#E5ECF6",
            "gridcolor": "white",
            "gridwidth": 2,
            "linecolor": "white",
            "showbackground": true,
            "ticks": "",
            "zerolinecolor": "white"
           },
           "yaxis": {
            "backgroundcolor": "#E5ECF6",
            "gridcolor": "white",
            "gridwidth": 2,
            "linecolor": "white",
            "showbackground": true,
            "ticks": "",
            "zerolinecolor": "white"
           },
           "zaxis": {
            "backgroundcolor": "#E5ECF6",
            "gridcolor": "white",
            "gridwidth": 2,
            "linecolor": "white",
            "showbackground": true,
            "ticks": "",
            "zerolinecolor": "white"
           }
          },
          "shapedefaults": {
           "line": {
            "color": "#2a3f5f"
           }
          },
          "ternary": {
           "aaxis": {
            "gridcolor": "white",
            "linecolor": "white",
            "ticks": ""
           },
           "baxis": {
            "gridcolor": "white",
            "linecolor": "white",
            "ticks": ""
           },
           "bgcolor": "#E5ECF6",
           "caxis": {
            "gridcolor": "white",
            "linecolor": "white",
            "ticks": ""
           }
          },
          "title": {
           "x": 0.05
          },
          "xaxis": {
           "automargin": true,
           "gridcolor": "white",
           "linecolor": "white",
           "ticks": "",
           "title": {
            "standoff": 15
           },
           "zerolinecolor": "white",
           "zerolinewidth": 2
          },
          "yaxis": {
           "automargin": true,
           "gridcolor": "white",
           "linecolor": "white",
           "ticks": "",
           "title": {
            "standoff": 15
           },
           "zerolinecolor": "white",
           "zerolinewidth": 2
          }
         }
        },
        "title": {
         "text": "Matasaarentie, Year: 2020"
        },
        "width": 500
       }
      },
      "text/html": [
       "<div>                            <div id=\"5b2dc484-3469-41e2-880f-96a0e2deff63\" class=\"plotly-graph-div\" style=\"height:300px; width:500px;\"></div>            <script type=\"text/javascript\">                require([\"plotly\"], function(Plotly) {                    window.PLOTLYENV=window.PLOTLYENV || {};                                    if (document.getElementById(\"5b2dc484-3469-41e2-880f-96a0e2deff63\")) {                    Plotly.newPlot(                        \"5b2dc484-3469-41e2-880f-96a0e2deff63\",                        [{\"customdata\":[[\"Matasaarentie\",null],[\"Matasaarentie\",null]],\"hovertemplate\":\"<b>%{hovertext}</b><br><br>mobbing=no info<br>lat=%{lat}<br>long=%{lon}<br>Site=%{customdata[0]}<br>Propensity=%{customdata[1]}<extra></extra>\",\"hovertext\":[\"20EK31\",\"20EK39\"],\"lat\":[60.13068,60.13061],\"legendgroup\":\"no info\",\"lon\":[24.7013,24.70109],\"marker\":{\"color\":\"grey\"},\"mode\":\"markers\",\"name\":\"no info\",\"showlegend\":true,\"subplot\":\"mapbox\",\"type\":\"scattermapbox\"}],                        {\"height\":300,\"legend\":{\"title\":{\"text\":\"mobbing\"},\"tracegroupgap\":0},\"mapbox\":{\"center\":{\"lat\":60.130645,\"lon\":24.701195},\"domain\":{\"x\":[0.0,1.0],\"y\":[0.0,1.0]},\"style\":\"open-street-map\",\"zoom\":13},\"margin\":{\"b\":0,\"l\":0,\"r\":0,\"t\":50},\"template\":{\"data\":{\"bar\":[{\"error_x\":{\"color\":\"#2a3f5f\"},\"error_y\":{\"color\":\"#2a3f5f\"},\"marker\":{\"line\":{\"color\":\"#E5ECF6\",\"width\":0.5},\"pattern\":{\"fillmode\":\"overlay\",\"size\":10,\"solidity\":0.2}},\"type\":\"bar\"}],\"barpolar\":[{\"marker\":{\"line\":{\"color\":\"#E5ECF6\",\"width\":0.5},\"pattern\":{\"fillmode\":\"overlay\",\"size\":10,\"solidity\":0.2}},\"type\":\"barpolar\"}],\"carpet\":[{\"aaxis\":{\"endlinecolor\":\"#2a3f5f\",\"gridcolor\":\"white\",\"linecolor\":\"white\",\"minorgridcolor\":\"white\",\"startlinecolor\":\"#2a3f5f\"},\"baxis\":{\"endlinecolor\":\"#2a3f5f\",\"gridcolor\":\"white\",\"linecolor\":\"white\",\"minorgridcolor\":\"white\",\"startlinecolor\":\"#2a3f5f\"},\"type\":\"carpet\"}],\"choropleth\":[{\"colorbar\":{\"outlinewidth\":0,\"ticks\":\"\"},\"type\":\"choropleth\"}],\"contour\":[{\"colorbar\":{\"outlinewidth\":0,\"ticks\":\"\"},\"colorscale\":[[0.0,\"#0d0887\"],[0.1111111111111111,\"#46039f\"],[0.2222222222222222,\"#7201a8\"],[0.3333333333333333,\"#9c179e\"],[0.4444444444444444,\"#bd3786\"],[0.5555555555555556,\"#d8576b\"],[0.6666666666666666,\"#ed7953\"],[0.7777777777777778,\"#fb9f3a\"],[0.8888888888888888,\"#fdca26\"],[1.0,\"#f0f921\"]],\"type\":\"contour\"}],\"contourcarpet\":[{\"colorbar\":{\"outlinewidth\":0,\"ticks\":\"\"},\"type\":\"contourcarpet\"}],\"heatmap\":[{\"colorbar\":{\"outlinewidth\":0,\"ticks\":\"\"},\"colorscale\":[[0.0,\"#0d0887\"],[0.1111111111111111,\"#46039f\"],[0.2222222222222222,\"#7201a8\"],[0.3333333333333333,\"#9c179e\"],[0.4444444444444444,\"#bd3786\"],[0.5555555555555556,\"#d8576b\"],[0.6666666666666666,\"#ed7953\"],[0.7777777777777778,\"#fb9f3a\"],[0.8888888888888888,\"#fdca26\"],[1.0,\"#f0f921\"]],\"type\":\"heatmap\"}],\"heatmapgl\":[{\"colorbar\":{\"outlinewidth\":0,\"ticks\":\"\"},\"colorscale\":[[0.0,\"#0d0887\"],[0.1111111111111111,\"#46039f\"],[0.2222222222222222,\"#7201a8\"],[0.3333333333333333,\"#9c179e\"],[0.4444444444444444,\"#bd3786\"],[0.5555555555555556,\"#d8576b\"],[0.6666666666666666,\"#ed7953\"],[0.7777777777777778,\"#fb9f3a\"],[0.8888888888888888,\"#fdca26\"],[1.0,\"#f0f921\"]],\"type\":\"heatmapgl\"}],\"histogram\":[{\"marker\":{\"pattern\":{\"fillmode\":\"overlay\",\"size\":10,\"solidity\":0.2}},\"type\":\"histogram\"}],\"histogram2d\":[{\"colorbar\":{\"outlinewidth\":0,\"ticks\":\"\"},\"colorscale\":[[0.0,\"#0d0887\"],[0.1111111111111111,\"#46039f\"],[0.2222222222222222,\"#7201a8\"],[0.3333333333333333,\"#9c179e\"],[0.4444444444444444,\"#bd3786\"],[0.5555555555555556,\"#d8576b\"],[0.6666666666666666,\"#ed7953\"],[0.7777777777777778,\"#fb9f3a\"],[0.8888888888888888,\"#fdca26\"],[1.0,\"#f0f921\"]],\"type\":\"histogram2d\"}],\"histogram2dcontour\":[{\"colorbar\":{\"outlinewidth\":0,\"ticks\":\"\"},\"colorscale\":[[0.0,\"#0d0887\"],[0.1111111111111111,\"#46039f\"],[0.2222222222222222,\"#7201a8\"],[0.3333333333333333,\"#9c179e\"],[0.4444444444444444,\"#bd3786\"],[0.5555555555555556,\"#d8576b\"],[0.6666666666666666,\"#ed7953\"],[0.7777777777777778,\"#fb9f3a\"],[0.8888888888888888,\"#fdca26\"],[1.0,\"#f0f921\"]],\"type\":\"histogram2dcontour\"}],\"mesh3d\":[{\"colorbar\":{\"outlinewidth\":0,\"ticks\":\"\"},\"type\":\"mesh3d\"}],\"parcoords\":[{\"line\":{\"colorbar\":{\"outlinewidth\":0,\"ticks\":\"\"}},\"type\":\"parcoords\"}],\"pie\":[{\"automargin\":true,\"type\":\"pie\"}],\"scatter\":[{\"marker\":{\"colorbar\":{\"outlinewidth\":0,\"ticks\":\"\"}},\"type\":\"scatter\"}],\"scatter3d\":[{\"line\":{\"colorbar\":{\"outlinewidth\":0,\"ticks\":\"\"}},\"marker\":{\"colorbar\":{\"outlinewidth\":0,\"ticks\":\"\"}},\"type\":\"scatter3d\"}],\"scattercarpet\":[{\"marker\":{\"colorbar\":{\"outlinewidth\":0,\"ticks\":\"\"}},\"type\":\"scattercarpet\"}],\"scattergeo\":[{\"marker\":{\"colorbar\":{\"outlinewidth\":0,\"ticks\":\"\"}},\"type\":\"scattergeo\"}],\"scattergl\":[{\"marker\":{\"colorbar\":{\"outlinewidth\":0,\"ticks\":\"\"}},\"type\":\"scattergl\"}],\"scattermapbox\":[{\"marker\":{\"colorbar\":{\"outlinewidth\":0,\"ticks\":\"\"}},\"type\":\"scattermapbox\"}],\"scatterpolar\":[{\"marker\":{\"colorbar\":{\"outlinewidth\":0,\"ticks\":\"\"}},\"type\":\"scatterpolar\"}],\"scatterpolargl\":[{\"marker\":{\"colorbar\":{\"outlinewidth\":0,\"ticks\":\"\"}},\"type\":\"scatterpolargl\"}],\"scatterternary\":[{\"marker\":{\"colorbar\":{\"outlinewidth\":0,\"ticks\":\"\"}},\"type\":\"scatterternary\"}],\"surface\":[{\"colorbar\":{\"outlinewidth\":0,\"ticks\":\"\"},\"colorscale\":[[0.0,\"#0d0887\"],[0.1111111111111111,\"#46039f\"],[0.2222222222222222,\"#7201a8\"],[0.3333333333333333,\"#9c179e\"],[0.4444444444444444,\"#bd3786\"],[0.5555555555555556,\"#d8576b\"],[0.6666666666666666,\"#ed7953\"],[0.7777777777777778,\"#fb9f3a\"],[0.8888888888888888,\"#fdca26\"],[1.0,\"#f0f921\"]],\"type\":\"surface\"}],\"table\":[{\"cells\":{\"fill\":{\"color\":\"#EBF0F8\"},\"line\":{\"color\":\"white\"}},\"header\":{\"fill\":{\"color\":\"#C8D4E3\"},\"line\":{\"color\":\"white\"}},\"type\":\"table\"}]},\"layout\":{\"annotationdefaults\":{\"arrowcolor\":\"#2a3f5f\",\"arrowhead\":0,\"arrowwidth\":1},\"autotypenumbers\":\"strict\",\"coloraxis\":{\"colorbar\":{\"outlinewidth\":0,\"ticks\":\"\"}},\"colorscale\":{\"diverging\":[[0,\"#8e0152\"],[0.1,\"#c51b7d\"],[0.2,\"#de77ae\"],[0.3,\"#f1b6da\"],[0.4,\"#fde0ef\"],[0.5,\"#f7f7f7\"],[0.6,\"#e6f5d0\"],[0.7,\"#b8e186\"],[0.8,\"#7fbc41\"],[0.9,\"#4d9221\"],[1,\"#276419\"]],\"sequential\":[[0.0,\"#0d0887\"],[0.1111111111111111,\"#46039f\"],[0.2222222222222222,\"#7201a8\"],[0.3333333333333333,\"#9c179e\"],[0.4444444444444444,\"#bd3786\"],[0.5555555555555556,\"#d8576b\"],[0.6666666666666666,\"#ed7953\"],[0.7777777777777778,\"#fb9f3a\"],[0.8888888888888888,\"#fdca26\"],[1.0,\"#f0f921\"]],\"sequentialminus\":[[0.0,\"#0d0887\"],[0.1111111111111111,\"#46039f\"],[0.2222222222222222,\"#7201a8\"],[0.3333333333333333,\"#9c179e\"],[0.4444444444444444,\"#bd3786\"],[0.5555555555555556,\"#d8576b\"],[0.6666666666666666,\"#ed7953\"],[0.7777777777777778,\"#fb9f3a\"],[0.8888888888888888,\"#fdca26\"],[1.0,\"#f0f921\"]]},\"colorway\":[\"#636efa\",\"#EF553B\",\"#00cc96\",\"#ab63fa\",\"#FFA15A\",\"#19d3f3\",\"#FF6692\",\"#B6E880\",\"#FF97FF\",\"#FECB52\"],\"font\":{\"color\":\"#2a3f5f\"},\"geo\":{\"bgcolor\":\"white\",\"lakecolor\":\"white\",\"landcolor\":\"#E5ECF6\",\"showlakes\":true,\"showland\":true,\"subunitcolor\":\"white\"},\"hoverlabel\":{\"align\":\"left\"},\"hovermode\":\"closest\",\"mapbox\":{\"style\":\"light\"},\"paper_bgcolor\":\"white\",\"plot_bgcolor\":\"#E5ECF6\",\"polar\":{\"angularaxis\":{\"gridcolor\":\"white\",\"linecolor\":\"white\",\"ticks\":\"\"},\"bgcolor\":\"#E5ECF6\",\"radialaxis\":{\"gridcolor\":\"white\",\"linecolor\":\"white\",\"ticks\":\"\"}},\"scene\":{\"xaxis\":{\"backgroundcolor\":\"#E5ECF6\",\"gridcolor\":\"white\",\"gridwidth\":2,\"linecolor\":\"white\",\"showbackground\":true,\"ticks\":\"\",\"zerolinecolor\":\"white\"},\"yaxis\":{\"backgroundcolor\":\"#E5ECF6\",\"gridcolor\":\"white\",\"gridwidth\":2,\"linecolor\":\"white\",\"showbackground\":true,\"ticks\":\"\",\"zerolinecolor\":\"white\"},\"zaxis\":{\"backgroundcolor\":\"#E5ECF6\",\"gridcolor\":\"white\",\"gridwidth\":2,\"linecolor\":\"white\",\"showbackground\":true,\"ticks\":\"\",\"zerolinecolor\":\"white\"}},\"shapedefaults\":{\"line\":{\"color\":\"#2a3f5f\"}},\"ternary\":{\"aaxis\":{\"gridcolor\":\"white\",\"linecolor\":\"white\",\"ticks\":\"\"},\"baxis\":{\"gridcolor\":\"white\",\"linecolor\":\"white\",\"ticks\":\"\"},\"bgcolor\":\"#E5ECF6\",\"caxis\":{\"gridcolor\":\"white\",\"linecolor\":\"white\",\"ticks\":\"\"}},\"title\":{\"x\":0.05},\"xaxis\":{\"automargin\":true,\"gridcolor\":\"white\",\"linecolor\":\"white\",\"ticks\":\"\",\"title\":{\"standoff\":15},\"zerolinecolor\":\"white\",\"zerolinewidth\":2},\"yaxis\":{\"automargin\":true,\"gridcolor\":\"white\",\"linecolor\":\"white\",\"ticks\":\"\",\"title\":{\"standoff\":15},\"zerolinecolor\":\"white\",\"zerolinewidth\":2}}},\"title\":{\"text\":\"Matasaarentie, Year: 2020\"},\"width\":500},                        {\"responsive\": true}                    ).then(function(){\n",
       "                            \n",
       "var gd = document.getElementById('5b2dc484-3469-41e2-880f-96a0e2deff63');\n",
       "var x = new MutationObserver(function (mutations, observer) {{\n",
       "        var display = window.getComputedStyle(gd).display;\n",
       "        if (!display || display === 'none') {{\n",
       "            console.log([gd, 'removed!']);\n",
       "            Plotly.purge(gd);\n",
       "            observer.disconnect();\n",
       "        }}\n",
       "}});\n",
       "\n",
       "// Listen for the removal of the full notebook cells\n",
       "var notebookContainer = gd.closest('#notebook-container');\n",
       "if (notebookContainer) {{\n",
       "    x.observe(notebookContainer, {childList: true});\n",
       "}}\n",
       "\n",
       "// Listen for the clearing of the current output cell\n",
       "var outputEl = gd.closest('.output');\n",
       "if (outputEl) {{\n",
       "    x.observe(outputEl, {childList: true});\n",
       "}}\n",
       "\n",
       "                        })                };                });            </script>        </div>"
      ]
     },
     "metadata": {},
     "output_type": "display_data"
    },
    {
     "data": {
      "application/vnd.plotly.v1+json": {
       "config": {
        "plotlyServerURL": "https://plot.ly"
       },
       "data": [
        {
         "customdata": [
          [
           "Matasaarentie",
           0
          ]
         ],
         "hovertemplate": "<b>%{hovertext}</b><br><br>mobbing=shy<br>lat=%{lat}<br>long=%{lon}<br>Site=%{customdata[0]}<br>Propensity=%{customdata[1]}<extra></extra>",
         "hovertext": [
          "21NB7"
         ],
         "lat": [
          60.13073
         ],
         "legendgroup": "shy",
         "lon": [
          24.7009
         ],
         "marker": {
          "color": "blue"
         },
         "mode": "markers",
         "name": "shy",
         "showlegend": true,
         "subplot": "mapbox",
         "type": "scattermapbox"
        }
       ],
       "layout": {
        "height": 300,
        "legend": {
         "title": {
          "text": "mobbing"
         },
         "tracegroupgap": 0
        },
        "mapbox": {
         "center": {
          "lat": 60.13073,
          "lon": 24.7009
         },
         "domain": {
          "x": [
           0,
           1
          ],
          "y": [
           0,
           1
          ]
         },
         "style": "open-street-map",
         "zoom": 13
        },
        "margin": {
         "b": 0,
         "l": 0,
         "r": 0,
         "t": 50
        },
        "template": {
         "data": {
          "bar": [
           {
            "error_x": {
             "color": "#2a3f5f"
            },
            "error_y": {
             "color": "#2a3f5f"
            },
            "marker": {
             "line": {
              "color": "#E5ECF6",
              "width": 0.5
             },
             "pattern": {
              "fillmode": "overlay",
              "size": 10,
              "solidity": 0.2
             }
            },
            "type": "bar"
           }
          ],
          "barpolar": [
           {
            "marker": {
             "line": {
              "color": "#E5ECF6",
              "width": 0.5
             },
             "pattern": {
              "fillmode": "overlay",
              "size": 10,
              "solidity": 0.2
             }
            },
            "type": "barpolar"
           }
          ],
          "carpet": [
           {
            "aaxis": {
             "endlinecolor": "#2a3f5f",
             "gridcolor": "white",
             "linecolor": "white",
             "minorgridcolor": "white",
             "startlinecolor": "#2a3f5f"
            },
            "baxis": {
             "endlinecolor": "#2a3f5f",
             "gridcolor": "white",
             "linecolor": "white",
             "minorgridcolor": "white",
             "startlinecolor": "#2a3f5f"
            },
            "type": "carpet"
           }
          ],
          "choropleth": [
           {
            "colorbar": {
             "outlinewidth": 0,
             "ticks": ""
            },
            "type": "choropleth"
           }
          ],
          "contour": [
           {
            "colorbar": {
             "outlinewidth": 0,
             "ticks": ""
            },
            "colorscale": [
             [
              0,
              "#0d0887"
             ],
             [
              0.1111111111111111,
              "#46039f"
             ],
             [
              0.2222222222222222,
              "#7201a8"
             ],
             [
              0.3333333333333333,
              "#9c179e"
             ],
             [
              0.4444444444444444,
              "#bd3786"
             ],
             [
              0.5555555555555556,
              "#d8576b"
             ],
             [
              0.6666666666666666,
              "#ed7953"
             ],
             [
              0.7777777777777778,
              "#fb9f3a"
             ],
             [
              0.8888888888888888,
              "#fdca26"
             ],
             [
              1,
              "#f0f921"
             ]
            ],
            "type": "contour"
           }
          ],
          "contourcarpet": [
           {
            "colorbar": {
             "outlinewidth": 0,
             "ticks": ""
            },
            "type": "contourcarpet"
           }
          ],
          "heatmap": [
           {
            "colorbar": {
             "outlinewidth": 0,
             "ticks": ""
            },
            "colorscale": [
             [
              0,
              "#0d0887"
             ],
             [
              0.1111111111111111,
              "#46039f"
             ],
             [
              0.2222222222222222,
              "#7201a8"
             ],
             [
              0.3333333333333333,
              "#9c179e"
             ],
             [
              0.4444444444444444,
              "#bd3786"
             ],
             [
              0.5555555555555556,
              "#d8576b"
             ],
             [
              0.6666666666666666,
              "#ed7953"
             ],
             [
              0.7777777777777778,
              "#fb9f3a"
             ],
             [
              0.8888888888888888,
              "#fdca26"
             ],
             [
              1,
              "#f0f921"
             ]
            ],
            "type": "heatmap"
           }
          ],
          "heatmapgl": [
           {
            "colorbar": {
             "outlinewidth": 0,
             "ticks": ""
            },
            "colorscale": [
             [
              0,
              "#0d0887"
             ],
             [
              0.1111111111111111,
              "#46039f"
             ],
             [
              0.2222222222222222,
              "#7201a8"
             ],
             [
              0.3333333333333333,
              "#9c179e"
             ],
             [
              0.4444444444444444,
              "#bd3786"
             ],
             [
              0.5555555555555556,
              "#d8576b"
             ],
             [
              0.6666666666666666,
              "#ed7953"
             ],
             [
              0.7777777777777778,
              "#fb9f3a"
             ],
             [
              0.8888888888888888,
              "#fdca26"
             ],
             [
              1,
              "#f0f921"
             ]
            ],
            "type": "heatmapgl"
           }
          ],
          "histogram": [
           {
            "marker": {
             "pattern": {
              "fillmode": "overlay",
              "size": 10,
              "solidity": 0.2
             }
            },
            "type": "histogram"
           }
          ],
          "histogram2d": [
           {
            "colorbar": {
             "outlinewidth": 0,
             "ticks": ""
            },
            "colorscale": [
             [
              0,
              "#0d0887"
             ],
             [
              0.1111111111111111,
              "#46039f"
             ],
             [
              0.2222222222222222,
              "#7201a8"
             ],
             [
              0.3333333333333333,
              "#9c179e"
             ],
             [
              0.4444444444444444,
              "#bd3786"
             ],
             [
              0.5555555555555556,
              "#d8576b"
             ],
             [
              0.6666666666666666,
              "#ed7953"
             ],
             [
              0.7777777777777778,
              "#fb9f3a"
             ],
             [
              0.8888888888888888,
              "#fdca26"
             ],
             [
              1,
              "#f0f921"
             ]
            ],
            "type": "histogram2d"
           }
          ],
          "histogram2dcontour": [
           {
            "colorbar": {
             "outlinewidth": 0,
             "ticks": ""
            },
            "colorscale": [
             [
              0,
              "#0d0887"
             ],
             [
              0.1111111111111111,
              "#46039f"
             ],
             [
              0.2222222222222222,
              "#7201a8"
             ],
             [
              0.3333333333333333,
              "#9c179e"
             ],
             [
              0.4444444444444444,
              "#bd3786"
             ],
             [
              0.5555555555555556,
              "#d8576b"
             ],
             [
              0.6666666666666666,
              "#ed7953"
             ],
             [
              0.7777777777777778,
              "#fb9f3a"
             ],
             [
              0.8888888888888888,
              "#fdca26"
             ],
             [
              1,
              "#f0f921"
             ]
            ],
            "type": "histogram2dcontour"
           }
          ],
          "mesh3d": [
           {
            "colorbar": {
             "outlinewidth": 0,
             "ticks": ""
            },
            "type": "mesh3d"
           }
          ],
          "parcoords": [
           {
            "line": {
             "colorbar": {
              "outlinewidth": 0,
              "ticks": ""
             }
            },
            "type": "parcoords"
           }
          ],
          "pie": [
           {
            "automargin": true,
            "type": "pie"
           }
          ],
          "scatter": [
           {
            "marker": {
             "colorbar": {
              "outlinewidth": 0,
              "ticks": ""
             }
            },
            "type": "scatter"
           }
          ],
          "scatter3d": [
           {
            "line": {
             "colorbar": {
              "outlinewidth": 0,
              "ticks": ""
             }
            },
            "marker": {
             "colorbar": {
              "outlinewidth": 0,
              "ticks": ""
             }
            },
            "type": "scatter3d"
           }
          ],
          "scattercarpet": [
           {
            "marker": {
             "colorbar": {
              "outlinewidth": 0,
              "ticks": ""
             }
            },
            "type": "scattercarpet"
           }
          ],
          "scattergeo": [
           {
            "marker": {
             "colorbar": {
              "outlinewidth": 0,
              "ticks": ""
             }
            },
            "type": "scattergeo"
           }
          ],
          "scattergl": [
           {
            "marker": {
             "colorbar": {
              "outlinewidth": 0,
              "ticks": ""
             }
            },
            "type": "scattergl"
           }
          ],
          "scattermapbox": [
           {
            "marker": {
             "colorbar": {
              "outlinewidth": 0,
              "ticks": ""
             }
            },
            "type": "scattermapbox"
           }
          ],
          "scatterpolar": [
           {
            "marker": {
             "colorbar": {
              "outlinewidth": 0,
              "ticks": ""
             }
            },
            "type": "scatterpolar"
           }
          ],
          "scatterpolargl": [
           {
            "marker": {
             "colorbar": {
              "outlinewidth": 0,
              "ticks": ""
             }
            },
            "type": "scatterpolargl"
           }
          ],
          "scatterternary": [
           {
            "marker": {
             "colorbar": {
              "outlinewidth": 0,
              "ticks": ""
             }
            },
            "type": "scatterternary"
           }
          ],
          "surface": [
           {
            "colorbar": {
             "outlinewidth": 0,
             "ticks": ""
            },
            "colorscale": [
             [
              0,
              "#0d0887"
             ],
             [
              0.1111111111111111,
              "#46039f"
             ],
             [
              0.2222222222222222,
              "#7201a8"
             ],
             [
              0.3333333333333333,
              "#9c179e"
             ],
             [
              0.4444444444444444,
              "#bd3786"
             ],
             [
              0.5555555555555556,
              "#d8576b"
             ],
             [
              0.6666666666666666,
              "#ed7953"
             ],
             [
              0.7777777777777778,
              "#fb9f3a"
             ],
             [
              0.8888888888888888,
              "#fdca26"
             ],
             [
              1,
              "#f0f921"
             ]
            ],
            "type": "surface"
           }
          ],
          "table": [
           {
            "cells": {
             "fill": {
              "color": "#EBF0F8"
             },
             "line": {
              "color": "white"
             }
            },
            "header": {
             "fill": {
              "color": "#C8D4E3"
             },
             "line": {
              "color": "white"
             }
            },
            "type": "table"
           }
          ]
         },
         "layout": {
          "annotationdefaults": {
           "arrowcolor": "#2a3f5f",
           "arrowhead": 0,
           "arrowwidth": 1
          },
          "autotypenumbers": "strict",
          "coloraxis": {
           "colorbar": {
            "outlinewidth": 0,
            "ticks": ""
           }
          },
          "colorscale": {
           "diverging": [
            [
             0,
             "#8e0152"
            ],
            [
             0.1,
             "#c51b7d"
            ],
            [
             0.2,
             "#de77ae"
            ],
            [
             0.3,
             "#f1b6da"
            ],
            [
             0.4,
             "#fde0ef"
            ],
            [
             0.5,
             "#f7f7f7"
            ],
            [
             0.6,
             "#e6f5d0"
            ],
            [
             0.7,
             "#b8e186"
            ],
            [
             0.8,
             "#7fbc41"
            ],
            [
             0.9,
             "#4d9221"
            ],
            [
             1,
             "#276419"
            ]
           ],
           "sequential": [
            [
             0,
             "#0d0887"
            ],
            [
             0.1111111111111111,
             "#46039f"
            ],
            [
             0.2222222222222222,
             "#7201a8"
            ],
            [
             0.3333333333333333,
             "#9c179e"
            ],
            [
             0.4444444444444444,
             "#bd3786"
            ],
            [
             0.5555555555555556,
             "#d8576b"
            ],
            [
             0.6666666666666666,
             "#ed7953"
            ],
            [
             0.7777777777777778,
             "#fb9f3a"
            ],
            [
             0.8888888888888888,
             "#fdca26"
            ],
            [
             1,
             "#f0f921"
            ]
           ],
           "sequentialminus": [
            [
             0,
             "#0d0887"
            ],
            [
             0.1111111111111111,
             "#46039f"
            ],
            [
             0.2222222222222222,
             "#7201a8"
            ],
            [
             0.3333333333333333,
             "#9c179e"
            ],
            [
             0.4444444444444444,
             "#bd3786"
            ],
            [
             0.5555555555555556,
             "#d8576b"
            ],
            [
             0.6666666666666666,
             "#ed7953"
            ],
            [
             0.7777777777777778,
             "#fb9f3a"
            ],
            [
             0.8888888888888888,
             "#fdca26"
            ],
            [
             1,
             "#f0f921"
            ]
           ]
          },
          "colorway": [
           "#636efa",
           "#EF553B",
           "#00cc96",
           "#ab63fa",
           "#FFA15A",
           "#19d3f3",
           "#FF6692",
           "#B6E880",
           "#FF97FF",
           "#FECB52"
          ],
          "font": {
           "color": "#2a3f5f"
          },
          "geo": {
           "bgcolor": "white",
           "lakecolor": "white",
           "landcolor": "#E5ECF6",
           "showlakes": true,
           "showland": true,
           "subunitcolor": "white"
          },
          "hoverlabel": {
           "align": "left"
          },
          "hovermode": "closest",
          "mapbox": {
           "style": "light"
          },
          "paper_bgcolor": "white",
          "plot_bgcolor": "#E5ECF6",
          "polar": {
           "angularaxis": {
            "gridcolor": "white",
            "linecolor": "white",
            "ticks": ""
           },
           "bgcolor": "#E5ECF6",
           "radialaxis": {
            "gridcolor": "white",
            "linecolor": "white",
            "ticks": ""
           }
          },
          "scene": {
           "xaxis": {
            "backgroundcolor": "#E5ECF6",
            "gridcolor": "white",
            "gridwidth": 2,
            "linecolor": "white",
            "showbackground": true,
            "ticks": "",
            "zerolinecolor": "white"
           },
           "yaxis": {
            "backgroundcolor": "#E5ECF6",
            "gridcolor": "white",
            "gridwidth": 2,
            "linecolor": "white",
            "showbackground": true,
            "ticks": "",
            "zerolinecolor": "white"
           },
           "zaxis": {
            "backgroundcolor": "#E5ECF6",
            "gridcolor": "white",
            "gridwidth": 2,
            "linecolor": "white",
            "showbackground": true,
            "ticks": "",
            "zerolinecolor": "white"
           }
          },
          "shapedefaults": {
           "line": {
            "color": "#2a3f5f"
           }
          },
          "ternary": {
           "aaxis": {
            "gridcolor": "white",
            "linecolor": "white",
            "ticks": ""
           },
           "baxis": {
            "gridcolor": "white",
            "linecolor": "white",
            "ticks": ""
           },
           "bgcolor": "#E5ECF6",
           "caxis": {
            "gridcolor": "white",
            "linecolor": "white",
            "ticks": ""
           }
          },
          "title": {
           "x": 0.05
          },
          "xaxis": {
           "automargin": true,
           "gridcolor": "white",
           "linecolor": "white",
           "ticks": "",
           "title": {
            "standoff": 15
           },
           "zerolinecolor": "white",
           "zerolinewidth": 2
          },
          "yaxis": {
           "automargin": true,
           "gridcolor": "white",
           "linecolor": "white",
           "ticks": "",
           "title": {
            "standoff": 15
           },
           "zerolinecolor": "white",
           "zerolinewidth": 2
          }
         }
        },
        "title": {
         "text": "Matasaarentie, Year: 2021"
        },
        "width": 500
       }
      },
      "text/html": [
       "<div>                            <div id=\"b28c5cb8-08c4-48ba-8cbf-2c39fc666d50\" class=\"plotly-graph-div\" style=\"height:300px; width:500px;\"></div>            <script type=\"text/javascript\">                require([\"plotly\"], function(Plotly) {                    window.PLOTLYENV=window.PLOTLYENV || {};                                    if (document.getElementById(\"b28c5cb8-08c4-48ba-8cbf-2c39fc666d50\")) {                    Plotly.newPlot(                        \"b28c5cb8-08c4-48ba-8cbf-2c39fc666d50\",                        [{\"customdata\":[[\"Matasaarentie\",0.0]],\"hovertemplate\":\"<b>%{hovertext}</b><br><br>mobbing=shy<br>lat=%{lat}<br>long=%{lon}<br>Site=%{customdata[0]}<br>Propensity=%{customdata[1]}<extra></extra>\",\"hovertext\":[\"21NB7\"],\"lat\":[60.13073],\"legendgroup\":\"shy\",\"lon\":[24.7009],\"marker\":{\"color\":\"blue\"},\"mode\":\"markers\",\"name\":\"shy\",\"showlegend\":true,\"subplot\":\"mapbox\",\"type\":\"scattermapbox\"}],                        {\"height\":300,\"legend\":{\"title\":{\"text\":\"mobbing\"},\"tracegroupgap\":0},\"mapbox\":{\"center\":{\"lat\":60.13073,\"lon\":24.7009},\"domain\":{\"x\":[0.0,1.0],\"y\":[0.0,1.0]},\"style\":\"open-street-map\",\"zoom\":13},\"margin\":{\"b\":0,\"l\":0,\"r\":0,\"t\":50},\"template\":{\"data\":{\"bar\":[{\"error_x\":{\"color\":\"#2a3f5f\"},\"error_y\":{\"color\":\"#2a3f5f\"},\"marker\":{\"line\":{\"color\":\"#E5ECF6\",\"width\":0.5},\"pattern\":{\"fillmode\":\"overlay\",\"size\":10,\"solidity\":0.2}},\"type\":\"bar\"}],\"barpolar\":[{\"marker\":{\"line\":{\"color\":\"#E5ECF6\",\"width\":0.5},\"pattern\":{\"fillmode\":\"overlay\",\"size\":10,\"solidity\":0.2}},\"type\":\"barpolar\"}],\"carpet\":[{\"aaxis\":{\"endlinecolor\":\"#2a3f5f\",\"gridcolor\":\"white\",\"linecolor\":\"white\",\"minorgridcolor\":\"white\",\"startlinecolor\":\"#2a3f5f\"},\"baxis\":{\"endlinecolor\":\"#2a3f5f\",\"gridcolor\":\"white\",\"linecolor\":\"white\",\"minorgridcolor\":\"white\",\"startlinecolor\":\"#2a3f5f\"},\"type\":\"carpet\"}],\"choropleth\":[{\"colorbar\":{\"outlinewidth\":0,\"ticks\":\"\"},\"type\":\"choropleth\"}],\"contour\":[{\"colorbar\":{\"outlinewidth\":0,\"ticks\":\"\"},\"colorscale\":[[0.0,\"#0d0887\"],[0.1111111111111111,\"#46039f\"],[0.2222222222222222,\"#7201a8\"],[0.3333333333333333,\"#9c179e\"],[0.4444444444444444,\"#bd3786\"],[0.5555555555555556,\"#d8576b\"],[0.6666666666666666,\"#ed7953\"],[0.7777777777777778,\"#fb9f3a\"],[0.8888888888888888,\"#fdca26\"],[1.0,\"#f0f921\"]],\"type\":\"contour\"}],\"contourcarpet\":[{\"colorbar\":{\"outlinewidth\":0,\"ticks\":\"\"},\"type\":\"contourcarpet\"}],\"heatmap\":[{\"colorbar\":{\"outlinewidth\":0,\"ticks\":\"\"},\"colorscale\":[[0.0,\"#0d0887\"],[0.1111111111111111,\"#46039f\"],[0.2222222222222222,\"#7201a8\"],[0.3333333333333333,\"#9c179e\"],[0.4444444444444444,\"#bd3786\"],[0.5555555555555556,\"#d8576b\"],[0.6666666666666666,\"#ed7953\"],[0.7777777777777778,\"#fb9f3a\"],[0.8888888888888888,\"#fdca26\"],[1.0,\"#f0f921\"]],\"type\":\"heatmap\"}],\"heatmapgl\":[{\"colorbar\":{\"outlinewidth\":0,\"ticks\":\"\"},\"colorscale\":[[0.0,\"#0d0887\"],[0.1111111111111111,\"#46039f\"],[0.2222222222222222,\"#7201a8\"],[0.3333333333333333,\"#9c179e\"],[0.4444444444444444,\"#bd3786\"],[0.5555555555555556,\"#d8576b\"],[0.6666666666666666,\"#ed7953\"],[0.7777777777777778,\"#fb9f3a\"],[0.8888888888888888,\"#fdca26\"],[1.0,\"#f0f921\"]],\"type\":\"heatmapgl\"}],\"histogram\":[{\"marker\":{\"pattern\":{\"fillmode\":\"overlay\",\"size\":10,\"solidity\":0.2}},\"type\":\"histogram\"}],\"histogram2d\":[{\"colorbar\":{\"outlinewidth\":0,\"ticks\":\"\"},\"colorscale\":[[0.0,\"#0d0887\"],[0.1111111111111111,\"#46039f\"],[0.2222222222222222,\"#7201a8\"],[0.3333333333333333,\"#9c179e\"],[0.4444444444444444,\"#bd3786\"],[0.5555555555555556,\"#d8576b\"],[0.6666666666666666,\"#ed7953\"],[0.7777777777777778,\"#fb9f3a\"],[0.8888888888888888,\"#fdca26\"],[1.0,\"#f0f921\"]],\"type\":\"histogram2d\"}],\"histogram2dcontour\":[{\"colorbar\":{\"outlinewidth\":0,\"ticks\":\"\"},\"colorscale\":[[0.0,\"#0d0887\"],[0.1111111111111111,\"#46039f\"],[0.2222222222222222,\"#7201a8\"],[0.3333333333333333,\"#9c179e\"],[0.4444444444444444,\"#bd3786\"],[0.5555555555555556,\"#d8576b\"],[0.6666666666666666,\"#ed7953\"],[0.7777777777777778,\"#fb9f3a\"],[0.8888888888888888,\"#fdca26\"],[1.0,\"#f0f921\"]],\"type\":\"histogram2dcontour\"}],\"mesh3d\":[{\"colorbar\":{\"outlinewidth\":0,\"ticks\":\"\"},\"type\":\"mesh3d\"}],\"parcoords\":[{\"line\":{\"colorbar\":{\"outlinewidth\":0,\"ticks\":\"\"}},\"type\":\"parcoords\"}],\"pie\":[{\"automargin\":true,\"type\":\"pie\"}],\"scatter\":[{\"marker\":{\"colorbar\":{\"outlinewidth\":0,\"ticks\":\"\"}},\"type\":\"scatter\"}],\"scatter3d\":[{\"line\":{\"colorbar\":{\"outlinewidth\":0,\"ticks\":\"\"}},\"marker\":{\"colorbar\":{\"outlinewidth\":0,\"ticks\":\"\"}},\"type\":\"scatter3d\"}],\"scattercarpet\":[{\"marker\":{\"colorbar\":{\"outlinewidth\":0,\"ticks\":\"\"}},\"type\":\"scattercarpet\"}],\"scattergeo\":[{\"marker\":{\"colorbar\":{\"outlinewidth\":0,\"ticks\":\"\"}},\"type\":\"scattergeo\"}],\"scattergl\":[{\"marker\":{\"colorbar\":{\"outlinewidth\":0,\"ticks\":\"\"}},\"type\":\"scattergl\"}],\"scattermapbox\":[{\"marker\":{\"colorbar\":{\"outlinewidth\":0,\"ticks\":\"\"}},\"type\":\"scattermapbox\"}],\"scatterpolar\":[{\"marker\":{\"colorbar\":{\"outlinewidth\":0,\"ticks\":\"\"}},\"type\":\"scatterpolar\"}],\"scatterpolargl\":[{\"marker\":{\"colorbar\":{\"outlinewidth\":0,\"ticks\":\"\"}},\"type\":\"scatterpolargl\"}],\"scatterternary\":[{\"marker\":{\"colorbar\":{\"outlinewidth\":0,\"ticks\":\"\"}},\"type\":\"scatterternary\"}],\"surface\":[{\"colorbar\":{\"outlinewidth\":0,\"ticks\":\"\"},\"colorscale\":[[0.0,\"#0d0887\"],[0.1111111111111111,\"#46039f\"],[0.2222222222222222,\"#7201a8\"],[0.3333333333333333,\"#9c179e\"],[0.4444444444444444,\"#bd3786\"],[0.5555555555555556,\"#d8576b\"],[0.6666666666666666,\"#ed7953\"],[0.7777777777777778,\"#fb9f3a\"],[0.8888888888888888,\"#fdca26\"],[1.0,\"#f0f921\"]],\"type\":\"surface\"}],\"table\":[{\"cells\":{\"fill\":{\"color\":\"#EBF0F8\"},\"line\":{\"color\":\"white\"}},\"header\":{\"fill\":{\"color\":\"#C8D4E3\"},\"line\":{\"color\":\"white\"}},\"type\":\"table\"}]},\"layout\":{\"annotationdefaults\":{\"arrowcolor\":\"#2a3f5f\",\"arrowhead\":0,\"arrowwidth\":1},\"autotypenumbers\":\"strict\",\"coloraxis\":{\"colorbar\":{\"outlinewidth\":0,\"ticks\":\"\"}},\"colorscale\":{\"diverging\":[[0,\"#8e0152\"],[0.1,\"#c51b7d\"],[0.2,\"#de77ae\"],[0.3,\"#f1b6da\"],[0.4,\"#fde0ef\"],[0.5,\"#f7f7f7\"],[0.6,\"#e6f5d0\"],[0.7,\"#b8e186\"],[0.8,\"#7fbc41\"],[0.9,\"#4d9221\"],[1,\"#276419\"]],\"sequential\":[[0.0,\"#0d0887\"],[0.1111111111111111,\"#46039f\"],[0.2222222222222222,\"#7201a8\"],[0.3333333333333333,\"#9c179e\"],[0.4444444444444444,\"#bd3786\"],[0.5555555555555556,\"#d8576b\"],[0.6666666666666666,\"#ed7953\"],[0.7777777777777778,\"#fb9f3a\"],[0.8888888888888888,\"#fdca26\"],[1.0,\"#f0f921\"]],\"sequentialminus\":[[0.0,\"#0d0887\"],[0.1111111111111111,\"#46039f\"],[0.2222222222222222,\"#7201a8\"],[0.3333333333333333,\"#9c179e\"],[0.4444444444444444,\"#bd3786\"],[0.5555555555555556,\"#d8576b\"],[0.6666666666666666,\"#ed7953\"],[0.7777777777777778,\"#fb9f3a\"],[0.8888888888888888,\"#fdca26\"],[1.0,\"#f0f921\"]]},\"colorway\":[\"#636efa\",\"#EF553B\",\"#00cc96\",\"#ab63fa\",\"#FFA15A\",\"#19d3f3\",\"#FF6692\",\"#B6E880\",\"#FF97FF\",\"#FECB52\"],\"font\":{\"color\":\"#2a3f5f\"},\"geo\":{\"bgcolor\":\"white\",\"lakecolor\":\"white\",\"landcolor\":\"#E5ECF6\",\"showlakes\":true,\"showland\":true,\"subunitcolor\":\"white\"},\"hoverlabel\":{\"align\":\"left\"},\"hovermode\":\"closest\",\"mapbox\":{\"style\":\"light\"},\"paper_bgcolor\":\"white\",\"plot_bgcolor\":\"#E5ECF6\",\"polar\":{\"angularaxis\":{\"gridcolor\":\"white\",\"linecolor\":\"white\",\"ticks\":\"\"},\"bgcolor\":\"#E5ECF6\",\"radialaxis\":{\"gridcolor\":\"white\",\"linecolor\":\"white\",\"ticks\":\"\"}},\"scene\":{\"xaxis\":{\"backgroundcolor\":\"#E5ECF6\",\"gridcolor\":\"white\",\"gridwidth\":2,\"linecolor\":\"white\",\"showbackground\":true,\"ticks\":\"\",\"zerolinecolor\":\"white\"},\"yaxis\":{\"backgroundcolor\":\"#E5ECF6\",\"gridcolor\":\"white\",\"gridwidth\":2,\"linecolor\":\"white\",\"showbackground\":true,\"ticks\":\"\",\"zerolinecolor\":\"white\"},\"zaxis\":{\"backgroundcolor\":\"#E5ECF6\",\"gridcolor\":\"white\",\"gridwidth\":2,\"linecolor\":\"white\",\"showbackground\":true,\"ticks\":\"\",\"zerolinecolor\":\"white\"}},\"shapedefaults\":{\"line\":{\"color\":\"#2a3f5f\"}},\"ternary\":{\"aaxis\":{\"gridcolor\":\"white\",\"linecolor\":\"white\",\"ticks\":\"\"},\"baxis\":{\"gridcolor\":\"white\",\"linecolor\":\"white\",\"ticks\":\"\"},\"bgcolor\":\"#E5ECF6\",\"caxis\":{\"gridcolor\":\"white\",\"linecolor\":\"white\",\"ticks\":\"\"}},\"title\":{\"x\":0.05},\"xaxis\":{\"automargin\":true,\"gridcolor\":\"white\",\"linecolor\":\"white\",\"ticks\":\"\",\"title\":{\"standoff\":15},\"zerolinecolor\":\"white\",\"zerolinewidth\":2},\"yaxis\":{\"automargin\":true,\"gridcolor\":\"white\",\"linecolor\":\"white\",\"ticks\":\"\",\"title\":{\"standoff\":15},\"zerolinecolor\":\"white\",\"zerolinewidth\":2}}},\"title\":{\"text\":\"Matasaarentie, Year: 2021\"},\"width\":500},                        {\"responsive\": true}                    ).then(function(){\n",
       "                            \n",
       "var gd = document.getElementById('b28c5cb8-08c4-48ba-8cbf-2c39fc666d50');\n",
       "var x = new MutationObserver(function (mutations, observer) {{\n",
       "        var display = window.getComputedStyle(gd).display;\n",
       "        if (!display || display === 'none') {{\n",
       "            console.log([gd, 'removed!']);\n",
       "            Plotly.purge(gd);\n",
       "            observer.disconnect();\n",
       "        }}\n",
       "}});\n",
       "\n",
       "// Listen for the removal of the full notebook cells\n",
       "var notebookContainer = gd.closest('#notebook-container');\n",
       "if (notebookContainer) {{\n",
       "    x.observe(notebookContainer, {childList: true});\n",
       "}}\n",
       "\n",
       "// Listen for the clearing of the current output cell\n",
       "var outputEl = gd.closest('.output');\n",
       "if (outputEl) {{\n",
       "    x.observe(outputEl, {childList: true});\n",
       "}}\n",
       "\n",
       "                        })                };                });            </script>        </div>"
      ]
     },
     "metadata": {},
     "output_type": "display_data"
    },
    {
     "data": {
      "application/vnd.plotly.v1+json": {
       "config": {
        "plotlyServerURL": "https://plot.ly"
       },
       "data": [
        {
         "customdata": [
          [
           "Matasaarentie",
           null
          ],
          [
           "Matasaarentie",
           null
          ],
          [
           "Matasaarentie",
           0
          ]
         ],
         "hovertemplate": "<b>%{hovertext}</b><br><br>color=2019<br>lat=%{lat}<br>long=%{lon}<br>Site=%{customdata[0]}<br>Propensity=%{customdata[1]}<extra></extra>",
         "hovertext": [
          "19AV2",
          "19KR27",
          "19KR28"
         ],
         "lat": [
          60.13073,
          60.13061,
          60.13092
         ],
         "legendgroup": "2019",
         "lon": [
          24.70092,
          24.70096,
          24.70075
         ],
         "marker": {
          "color": "#636efa"
         },
         "mode": "markers",
         "name": "2019",
         "showlegend": true,
         "subplot": "mapbox",
         "type": "scattermapbox"
        },
        {
         "customdata": [
          [
           "Matasaarentie",
           null
          ],
          [
           "Matasaarentie",
           null
          ]
         ],
         "hovertemplate": "<b>%{hovertext}</b><br><br>color=2020<br>lat=%{lat}<br>long=%{lon}<br>Site=%{customdata[0]}<br>Propensity=%{customdata[1]}<extra></extra>",
         "hovertext": [
          "20EK31",
          "20EK39"
         ],
         "lat": [
          60.13068,
          60.13061
         ],
         "legendgroup": "2020",
         "lon": [
          24.7013,
          24.70109
         ],
         "marker": {
          "color": "#EF553B"
         },
         "mode": "markers",
         "name": "2020",
         "showlegend": true,
         "subplot": "mapbox",
         "type": "scattermapbox"
        },
        {
         "customdata": [
          [
           "Matasaarentie",
           0
          ]
         ],
         "hovertemplate": "<b>%{hovertext}</b><br><br>color=2021<br>lat=%{lat}<br>long=%{lon}<br>Site=%{customdata[0]}<br>Propensity=%{customdata[1]}<extra></extra>",
         "hovertext": [
          "21NB7"
         ],
         "lat": [
          60.13073
         ],
         "legendgroup": "2021",
         "lon": [
          24.7009
         ],
         "marker": {
          "color": "#00cc96"
         },
         "mode": "markers",
         "name": "2021",
         "showlegend": true,
         "subplot": "mapbox",
         "type": "scattermapbox"
        }
       ],
       "layout": {
        "height": 300,
        "legend": {
         "title": {
          "text": "color"
         },
         "tracegroupgap": 0
        },
        "mapbox": {
         "center": {
          "lat": 60.130713333333325,
          "lon": 24.700986666666665
         },
         "domain": {
          "x": [
           0,
           1
          ],
          "y": [
           0,
           1
          ]
         },
         "style": "open-street-map",
         "zoom": 13
        },
        "margin": {
         "b": 0,
         "l": 0,
         "r": 0,
         "t": 50
        },
        "template": {
         "data": {
          "bar": [
           {
            "error_x": {
             "color": "#2a3f5f"
            },
            "error_y": {
             "color": "#2a3f5f"
            },
            "marker": {
             "line": {
              "color": "#E5ECF6",
              "width": 0.5
             },
             "pattern": {
              "fillmode": "overlay",
              "size": 10,
              "solidity": 0.2
             }
            },
            "type": "bar"
           }
          ],
          "barpolar": [
           {
            "marker": {
             "line": {
              "color": "#E5ECF6",
              "width": 0.5
             },
             "pattern": {
              "fillmode": "overlay",
              "size": 10,
              "solidity": 0.2
             }
            },
            "type": "barpolar"
           }
          ],
          "carpet": [
           {
            "aaxis": {
             "endlinecolor": "#2a3f5f",
             "gridcolor": "white",
             "linecolor": "white",
             "minorgridcolor": "white",
             "startlinecolor": "#2a3f5f"
            },
            "baxis": {
             "endlinecolor": "#2a3f5f",
             "gridcolor": "white",
             "linecolor": "white",
             "minorgridcolor": "white",
             "startlinecolor": "#2a3f5f"
            },
            "type": "carpet"
           }
          ],
          "choropleth": [
           {
            "colorbar": {
             "outlinewidth": 0,
             "ticks": ""
            },
            "type": "choropleth"
           }
          ],
          "contour": [
           {
            "colorbar": {
             "outlinewidth": 0,
             "ticks": ""
            },
            "colorscale": [
             [
              0,
              "#0d0887"
             ],
             [
              0.1111111111111111,
              "#46039f"
             ],
             [
              0.2222222222222222,
              "#7201a8"
             ],
             [
              0.3333333333333333,
              "#9c179e"
             ],
             [
              0.4444444444444444,
              "#bd3786"
             ],
             [
              0.5555555555555556,
              "#d8576b"
             ],
             [
              0.6666666666666666,
              "#ed7953"
             ],
             [
              0.7777777777777778,
              "#fb9f3a"
             ],
             [
              0.8888888888888888,
              "#fdca26"
             ],
             [
              1,
              "#f0f921"
             ]
            ],
            "type": "contour"
           }
          ],
          "contourcarpet": [
           {
            "colorbar": {
             "outlinewidth": 0,
             "ticks": ""
            },
            "type": "contourcarpet"
           }
          ],
          "heatmap": [
           {
            "colorbar": {
             "outlinewidth": 0,
             "ticks": ""
            },
            "colorscale": [
             [
              0,
              "#0d0887"
             ],
             [
              0.1111111111111111,
              "#46039f"
             ],
             [
              0.2222222222222222,
              "#7201a8"
             ],
             [
              0.3333333333333333,
              "#9c179e"
             ],
             [
              0.4444444444444444,
              "#bd3786"
             ],
             [
              0.5555555555555556,
              "#d8576b"
             ],
             [
              0.6666666666666666,
              "#ed7953"
             ],
             [
              0.7777777777777778,
              "#fb9f3a"
             ],
             [
              0.8888888888888888,
              "#fdca26"
             ],
             [
              1,
              "#f0f921"
             ]
            ],
            "type": "heatmap"
           }
          ],
          "heatmapgl": [
           {
            "colorbar": {
             "outlinewidth": 0,
             "ticks": ""
            },
            "colorscale": [
             [
              0,
              "#0d0887"
             ],
             [
              0.1111111111111111,
              "#46039f"
             ],
             [
              0.2222222222222222,
              "#7201a8"
             ],
             [
              0.3333333333333333,
              "#9c179e"
             ],
             [
              0.4444444444444444,
              "#bd3786"
             ],
             [
              0.5555555555555556,
              "#d8576b"
             ],
             [
              0.6666666666666666,
              "#ed7953"
             ],
             [
              0.7777777777777778,
              "#fb9f3a"
             ],
             [
              0.8888888888888888,
              "#fdca26"
             ],
             [
              1,
              "#f0f921"
             ]
            ],
            "type": "heatmapgl"
           }
          ],
          "histogram": [
           {
            "marker": {
             "pattern": {
              "fillmode": "overlay",
              "size": 10,
              "solidity": 0.2
             }
            },
            "type": "histogram"
           }
          ],
          "histogram2d": [
           {
            "colorbar": {
             "outlinewidth": 0,
             "ticks": ""
            },
            "colorscale": [
             [
              0,
              "#0d0887"
             ],
             [
              0.1111111111111111,
              "#46039f"
             ],
             [
              0.2222222222222222,
              "#7201a8"
             ],
             [
              0.3333333333333333,
              "#9c179e"
             ],
             [
              0.4444444444444444,
              "#bd3786"
             ],
             [
              0.5555555555555556,
              "#d8576b"
             ],
             [
              0.6666666666666666,
              "#ed7953"
             ],
             [
              0.7777777777777778,
              "#fb9f3a"
             ],
             [
              0.8888888888888888,
              "#fdca26"
             ],
             [
              1,
              "#f0f921"
             ]
            ],
            "type": "histogram2d"
           }
          ],
          "histogram2dcontour": [
           {
            "colorbar": {
             "outlinewidth": 0,
             "ticks": ""
            },
            "colorscale": [
             [
              0,
              "#0d0887"
             ],
             [
              0.1111111111111111,
              "#46039f"
             ],
             [
              0.2222222222222222,
              "#7201a8"
             ],
             [
              0.3333333333333333,
              "#9c179e"
             ],
             [
              0.4444444444444444,
              "#bd3786"
             ],
             [
              0.5555555555555556,
              "#d8576b"
             ],
             [
              0.6666666666666666,
              "#ed7953"
             ],
             [
              0.7777777777777778,
              "#fb9f3a"
             ],
             [
              0.8888888888888888,
              "#fdca26"
             ],
             [
              1,
              "#f0f921"
             ]
            ],
            "type": "histogram2dcontour"
           }
          ],
          "mesh3d": [
           {
            "colorbar": {
             "outlinewidth": 0,
             "ticks": ""
            },
            "type": "mesh3d"
           }
          ],
          "parcoords": [
           {
            "line": {
             "colorbar": {
              "outlinewidth": 0,
              "ticks": ""
             }
            },
            "type": "parcoords"
           }
          ],
          "pie": [
           {
            "automargin": true,
            "type": "pie"
           }
          ],
          "scatter": [
           {
            "marker": {
             "colorbar": {
              "outlinewidth": 0,
              "ticks": ""
             }
            },
            "type": "scatter"
           }
          ],
          "scatter3d": [
           {
            "line": {
             "colorbar": {
              "outlinewidth": 0,
              "ticks": ""
             }
            },
            "marker": {
             "colorbar": {
              "outlinewidth": 0,
              "ticks": ""
             }
            },
            "type": "scatter3d"
           }
          ],
          "scattercarpet": [
           {
            "marker": {
             "colorbar": {
              "outlinewidth": 0,
              "ticks": ""
             }
            },
            "type": "scattercarpet"
           }
          ],
          "scattergeo": [
           {
            "marker": {
             "colorbar": {
              "outlinewidth": 0,
              "ticks": ""
             }
            },
            "type": "scattergeo"
           }
          ],
          "scattergl": [
           {
            "marker": {
             "colorbar": {
              "outlinewidth": 0,
              "ticks": ""
             }
            },
            "type": "scattergl"
           }
          ],
          "scattermapbox": [
           {
            "marker": {
             "colorbar": {
              "outlinewidth": 0,
              "ticks": ""
             }
            },
            "type": "scattermapbox"
           }
          ],
          "scatterpolar": [
           {
            "marker": {
             "colorbar": {
              "outlinewidth": 0,
              "ticks": ""
             }
            },
            "type": "scatterpolar"
           }
          ],
          "scatterpolargl": [
           {
            "marker": {
             "colorbar": {
              "outlinewidth": 0,
              "ticks": ""
             }
            },
            "type": "scatterpolargl"
           }
          ],
          "scatterternary": [
           {
            "marker": {
             "colorbar": {
              "outlinewidth": 0,
              "ticks": ""
             }
            },
            "type": "scatterternary"
           }
          ],
          "surface": [
           {
            "colorbar": {
             "outlinewidth": 0,
             "ticks": ""
            },
            "colorscale": [
             [
              0,
              "#0d0887"
             ],
             [
              0.1111111111111111,
              "#46039f"
             ],
             [
              0.2222222222222222,
              "#7201a8"
             ],
             [
              0.3333333333333333,
              "#9c179e"
             ],
             [
              0.4444444444444444,
              "#bd3786"
             ],
             [
              0.5555555555555556,
              "#d8576b"
             ],
             [
              0.6666666666666666,
              "#ed7953"
             ],
             [
              0.7777777777777778,
              "#fb9f3a"
             ],
             [
              0.8888888888888888,
              "#fdca26"
             ],
             [
              1,
              "#f0f921"
             ]
            ],
            "type": "surface"
           }
          ],
          "table": [
           {
            "cells": {
             "fill": {
              "color": "#EBF0F8"
             },
             "line": {
              "color": "white"
             }
            },
            "header": {
             "fill": {
              "color": "#C8D4E3"
             },
             "line": {
              "color": "white"
             }
            },
            "type": "table"
           }
          ]
         },
         "layout": {
          "annotationdefaults": {
           "arrowcolor": "#2a3f5f",
           "arrowhead": 0,
           "arrowwidth": 1
          },
          "autotypenumbers": "strict",
          "coloraxis": {
           "colorbar": {
            "outlinewidth": 0,
            "ticks": ""
           }
          },
          "colorscale": {
           "diverging": [
            [
             0,
             "#8e0152"
            ],
            [
             0.1,
             "#c51b7d"
            ],
            [
             0.2,
             "#de77ae"
            ],
            [
             0.3,
             "#f1b6da"
            ],
            [
             0.4,
             "#fde0ef"
            ],
            [
             0.5,
             "#f7f7f7"
            ],
            [
             0.6,
             "#e6f5d0"
            ],
            [
             0.7,
             "#b8e186"
            ],
            [
             0.8,
             "#7fbc41"
            ],
            [
             0.9,
             "#4d9221"
            ],
            [
             1,
             "#276419"
            ]
           ],
           "sequential": [
            [
             0,
             "#0d0887"
            ],
            [
             0.1111111111111111,
             "#46039f"
            ],
            [
             0.2222222222222222,
             "#7201a8"
            ],
            [
             0.3333333333333333,
             "#9c179e"
            ],
            [
             0.4444444444444444,
             "#bd3786"
            ],
            [
             0.5555555555555556,
             "#d8576b"
            ],
            [
             0.6666666666666666,
             "#ed7953"
            ],
            [
             0.7777777777777778,
             "#fb9f3a"
            ],
            [
             0.8888888888888888,
             "#fdca26"
            ],
            [
             1,
             "#f0f921"
            ]
           ],
           "sequentialminus": [
            [
             0,
             "#0d0887"
            ],
            [
             0.1111111111111111,
             "#46039f"
            ],
            [
             0.2222222222222222,
             "#7201a8"
            ],
            [
             0.3333333333333333,
             "#9c179e"
            ],
            [
             0.4444444444444444,
             "#bd3786"
            ],
            [
             0.5555555555555556,
             "#d8576b"
            ],
            [
             0.6666666666666666,
             "#ed7953"
            ],
            [
             0.7777777777777778,
             "#fb9f3a"
            ],
            [
             0.8888888888888888,
             "#fdca26"
            ],
            [
             1,
             "#f0f921"
            ]
           ]
          },
          "colorway": [
           "#636efa",
           "#EF553B",
           "#00cc96",
           "#ab63fa",
           "#FFA15A",
           "#19d3f3",
           "#FF6692",
           "#B6E880",
           "#FF97FF",
           "#FECB52"
          ],
          "font": {
           "color": "#2a3f5f"
          },
          "geo": {
           "bgcolor": "white",
           "lakecolor": "white",
           "landcolor": "#E5ECF6",
           "showlakes": true,
           "showland": true,
           "subunitcolor": "white"
          },
          "hoverlabel": {
           "align": "left"
          },
          "hovermode": "closest",
          "mapbox": {
           "style": "light"
          },
          "paper_bgcolor": "white",
          "plot_bgcolor": "#E5ECF6",
          "polar": {
           "angularaxis": {
            "gridcolor": "white",
            "linecolor": "white",
            "ticks": ""
           },
           "bgcolor": "#E5ECF6",
           "radialaxis": {
            "gridcolor": "white",
            "linecolor": "white",
            "ticks": ""
           }
          },
          "scene": {
           "xaxis": {
            "backgroundcolor": "#E5ECF6",
            "gridcolor": "white",
            "gridwidth": 2,
            "linecolor": "white",
            "showbackground": true,
            "ticks": "",
            "zerolinecolor": "white"
           },
           "yaxis": {
            "backgroundcolor": "#E5ECF6",
            "gridcolor": "white",
            "gridwidth": 2,
            "linecolor": "white",
            "showbackground": true,
            "ticks": "",
            "zerolinecolor": "white"
           },
           "zaxis": {
            "backgroundcolor": "#E5ECF6",
            "gridcolor": "white",
            "gridwidth": 2,
            "linecolor": "white",
            "showbackground": true,
            "ticks": "",
            "zerolinecolor": "white"
           }
          },
          "shapedefaults": {
           "line": {
            "color": "#2a3f5f"
           }
          },
          "ternary": {
           "aaxis": {
            "gridcolor": "white",
            "linecolor": "white",
            "ticks": ""
           },
           "baxis": {
            "gridcolor": "white",
            "linecolor": "white",
            "ticks": ""
           },
           "bgcolor": "#E5ECF6",
           "caxis": {
            "gridcolor": "white",
            "linecolor": "white",
            "ticks": ""
           }
          },
          "title": {
           "x": 0.05
          },
          "xaxis": {
           "automargin": true,
           "gridcolor": "white",
           "linecolor": "white",
           "ticks": "",
           "title": {
            "standoff": 15
           },
           "zerolinecolor": "white",
           "zerolinewidth": 2
          },
          "yaxis": {
           "automargin": true,
           "gridcolor": "white",
           "linecolor": "white",
           "ticks": "",
           "title": {
            "standoff": 15
           },
           "zerolinecolor": "white",
           "zerolinewidth": 2
          }
         }
        },
        "title": {
         "text": "Matasaarentie"
        },
        "width": 500
       }
      },
      "text/html": [
       "<div>                            <div id=\"24d0b118-e889-49e5-9399-87b4302287a8\" class=\"plotly-graph-div\" style=\"height:300px; width:500px;\"></div>            <script type=\"text/javascript\">                require([\"plotly\"], function(Plotly) {                    window.PLOTLYENV=window.PLOTLYENV || {};                                    if (document.getElementById(\"24d0b118-e889-49e5-9399-87b4302287a8\")) {                    Plotly.newPlot(                        \"24d0b118-e889-49e5-9399-87b4302287a8\",                        [{\"customdata\":[[\"Matasaarentie\",null],[\"Matasaarentie\",null],[\"Matasaarentie\",0.0]],\"hovertemplate\":\"<b>%{hovertext}</b><br><br>color=2019<br>lat=%{lat}<br>long=%{lon}<br>Site=%{customdata[0]}<br>Propensity=%{customdata[1]}<extra></extra>\",\"hovertext\":[\"19AV2\",\"19KR27\",\"19KR28\"],\"lat\":[60.13073,60.13061,60.13092],\"legendgroup\":\"2019\",\"lon\":[24.70092,24.70096,24.70075],\"marker\":{\"color\":\"#636efa\"},\"mode\":\"markers\",\"name\":\"2019\",\"showlegend\":true,\"subplot\":\"mapbox\",\"type\":\"scattermapbox\"},{\"customdata\":[[\"Matasaarentie\",null],[\"Matasaarentie\",null]],\"hovertemplate\":\"<b>%{hovertext}</b><br><br>color=2020<br>lat=%{lat}<br>long=%{lon}<br>Site=%{customdata[0]}<br>Propensity=%{customdata[1]}<extra></extra>\",\"hovertext\":[\"20EK31\",\"20EK39\"],\"lat\":[60.13068,60.13061],\"legendgroup\":\"2020\",\"lon\":[24.7013,24.70109],\"marker\":{\"color\":\"#EF553B\"},\"mode\":\"markers\",\"name\":\"2020\",\"showlegend\":true,\"subplot\":\"mapbox\",\"type\":\"scattermapbox\"},{\"customdata\":[[\"Matasaarentie\",0.0]],\"hovertemplate\":\"<b>%{hovertext}</b><br><br>color=2021<br>lat=%{lat}<br>long=%{lon}<br>Site=%{customdata[0]}<br>Propensity=%{customdata[1]}<extra></extra>\",\"hovertext\":[\"21NB7\"],\"lat\":[60.13073],\"legendgroup\":\"2021\",\"lon\":[24.7009],\"marker\":{\"color\":\"#00cc96\"},\"mode\":\"markers\",\"name\":\"2021\",\"showlegend\":true,\"subplot\":\"mapbox\",\"type\":\"scattermapbox\"}],                        {\"height\":300,\"legend\":{\"title\":{\"text\":\"color\"},\"tracegroupgap\":0},\"mapbox\":{\"center\":{\"lat\":60.130713333333325,\"lon\":24.700986666666665},\"domain\":{\"x\":[0.0,1.0],\"y\":[0.0,1.0]},\"style\":\"open-street-map\",\"zoom\":13},\"margin\":{\"b\":0,\"l\":0,\"r\":0,\"t\":50},\"template\":{\"data\":{\"bar\":[{\"error_x\":{\"color\":\"#2a3f5f\"},\"error_y\":{\"color\":\"#2a3f5f\"},\"marker\":{\"line\":{\"color\":\"#E5ECF6\",\"width\":0.5},\"pattern\":{\"fillmode\":\"overlay\",\"size\":10,\"solidity\":0.2}},\"type\":\"bar\"}],\"barpolar\":[{\"marker\":{\"line\":{\"color\":\"#E5ECF6\",\"width\":0.5},\"pattern\":{\"fillmode\":\"overlay\",\"size\":10,\"solidity\":0.2}},\"type\":\"barpolar\"}],\"carpet\":[{\"aaxis\":{\"endlinecolor\":\"#2a3f5f\",\"gridcolor\":\"white\",\"linecolor\":\"white\",\"minorgridcolor\":\"white\",\"startlinecolor\":\"#2a3f5f\"},\"baxis\":{\"endlinecolor\":\"#2a3f5f\",\"gridcolor\":\"white\",\"linecolor\":\"white\",\"minorgridcolor\":\"white\",\"startlinecolor\":\"#2a3f5f\"},\"type\":\"carpet\"}],\"choropleth\":[{\"colorbar\":{\"outlinewidth\":0,\"ticks\":\"\"},\"type\":\"choropleth\"}],\"contour\":[{\"colorbar\":{\"outlinewidth\":0,\"ticks\":\"\"},\"colorscale\":[[0.0,\"#0d0887\"],[0.1111111111111111,\"#46039f\"],[0.2222222222222222,\"#7201a8\"],[0.3333333333333333,\"#9c179e\"],[0.4444444444444444,\"#bd3786\"],[0.5555555555555556,\"#d8576b\"],[0.6666666666666666,\"#ed7953\"],[0.7777777777777778,\"#fb9f3a\"],[0.8888888888888888,\"#fdca26\"],[1.0,\"#f0f921\"]],\"type\":\"contour\"}],\"contourcarpet\":[{\"colorbar\":{\"outlinewidth\":0,\"ticks\":\"\"},\"type\":\"contourcarpet\"}],\"heatmap\":[{\"colorbar\":{\"outlinewidth\":0,\"ticks\":\"\"},\"colorscale\":[[0.0,\"#0d0887\"],[0.1111111111111111,\"#46039f\"],[0.2222222222222222,\"#7201a8\"],[0.3333333333333333,\"#9c179e\"],[0.4444444444444444,\"#bd3786\"],[0.5555555555555556,\"#d8576b\"],[0.6666666666666666,\"#ed7953\"],[0.7777777777777778,\"#fb9f3a\"],[0.8888888888888888,\"#fdca26\"],[1.0,\"#f0f921\"]],\"type\":\"heatmap\"}],\"heatmapgl\":[{\"colorbar\":{\"outlinewidth\":0,\"ticks\":\"\"},\"colorscale\":[[0.0,\"#0d0887\"],[0.1111111111111111,\"#46039f\"],[0.2222222222222222,\"#7201a8\"],[0.3333333333333333,\"#9c179e\"],[0.4444444444444444,\"#bd3786\"],[0.5555555555555556,\"#d8576b\"],[0.6666666666666666,\"#ed7953\"],[0.7777777777777778,\"#fb9f3a\"],[0.8888888888888888,\"#fdca26\"],[1.0,\"#f0f921\"]],\"type\":\"heatmapgl\"}],\"histogram\":[{\"marker\":{\"pattern\":{\"fillmode\":\"overlay\",\"size\":10,\"solidity\":0.2}},\"type\":\"histogram\"}],\"histogram2d\":[{\"colorbar\":{\"outlinewidth\":0,\"ticks\":\"\"},\"colorscale\":[[0.0,\"#0d0887\"],[0.1111111111111111,\"#46039f\"],[0.2222222222222222,\"#7201a8\"],[0.3333333333333333,\"#9c179e\"],[0.4444444444444444,\"#bd3786\"],[0.5555555555555556,\"#d8576b\"],[0.6666666666666666,\"#ed7953\"],[0.7777777777777778,\"#fb9f3a\"],[0.8888888888888888,\"#fdca26\"],[1.0,\"#f0f921\"]],\"type\":\"histogram2d\"}],\"histogram2dcontour\":[{\"colorbar\":{\"outlinewidth\":0,\"ticks\":\"\"},\"colorscale\":[[0.0,\"#0d0887\"],[0.1111111111111111,\"#46039f\"],[0.2222222222222222,\"#7201a8\"],[0.3333333333333333,\"#9c179e\"],[0.4444444444444444,\"#bd3786\"],[0.5555555555555556,\"#d8576b\"],[0.6666666666666666,\"#ed7953\"],[0.7777777777777778,\"#fb9f3a\"],[0.8888888888888888,\"#fdca26\"],[1.0,\"#f0f921\"]],\"type\":\"histogram2dcontour\"}],\"mesh3d\":[{\"colorbar\":{\"outlinewidth\":0,\"ticks\":\"\"},\"type\":\"mesh3d\"}],\"parcoords\":[{\"line\":{\"colorbar\":{\"outlinewidth\":0,\"ticks\":\"\"}},\"type\":\"parcoords\"}],\"pie\":[{\"automargin\":true,\"type\":\"pie\"}],\"scatter\":[{\"marker\":{\"colorbar\":{\"outlinewidth\":0,\"ticks\":\"\"}},\"type\":\"scatter\"}],\"scatter3d\":[{\"line\":{\"colorbar\":{\"outlinewidth\":0,\"ticks\":\"\"}},\"marker\":{\"colorbar\":{\"outlinewidth\":0,\"ticks\":\"\"}},\"type\":\"scatter3d\"}],\"scattercarpet\":[{\"marker\":{\"colorbar\":{\"outlinewidth\":0,\"ticks\":\"\"}},\"type\":\"scattercarpet\"}],\"scattergeo\":[{\"marker\":{\"colorbar\":{\"outlinewidth\":0,\"ticks\":\"\"}},\"type\":\"scattergeo\"}],\"scattergl\":[{\"marker\":{\"colorbar\":{\"outlinewidth\":0,\"ticks\":\"\"}},\"type\":\"scattergl\"}],\"scattermapbox\":[{\"marker\":{\"colorbar\":{\"outlinewidth\":0,\"ticks\":\"\"}},\"type\":\"scattermapbox\"}],\"scatterpolar\":[{\"marker\":{\"colorbar\":{\"outlinewidth\":0,\"ticks\":\"\"}},\"type\":\"scatterpolar\"}],\"scatterpolargl\":[{\"marker\":{\"colorbar\":{\"outlinewidth\":0,\"ticks\":\"\"}},\"type\":\"scatterpolargl\"}],\"scatterternary\":[{\"marker\":{\"colorbar\":{\"outlinewidth\":0,\"ticks\":\"\"}},\"type\":\"scatterternary\"}],\"surface\":[{\"colorbar\":{\"outlinewidth\":0,\"ticks\":\"\"},\"colorscale\":[[0.0,\"#0d0887\"],[0.1111111111111111,\"#46039f\"],[0.2222222222222222,\"#7201a8\"],[0.3333333333333333,\"#9c179e\"],[0.4444444444444444,\"#bd3786\"],[0.5555555555555556,\"#d8576b\"],[0.6666666666666666,\"#ed7953\"],[0.7777777777777778,\"#fb9f3a\"],[0.8888888888888888,\"#fdca26\"],[1.0,\"#f0f921\"]],\"type\":\"surface\"}],\"table\":[{\"cells\":{\"fill\":{\"color\":\"#EBF0F8\"},\"line\":{\"color\":\"white\"}},\"header\":{\"fill\":{\"color\":\"#C8D4E3\"},\"line\":{\"color\":\"white\"}},\"type\":\"table\"}]},\"layout\":{\"annotationdefaults\":{\"arrowcolor\":\"#2a3f5f\",\"arrowhead\":0,\"arrowwidth\":1},\"autotypenumbers\":\"strict\",\"coloraxis\":{\"colorbar\":{\"outlinewidth\":0,\"ticks\":\"\"}},\"colorscale\":{\"diverging\":[[0,\"#8e0152\"],[0.1,\"#c51b7d\"],[0.2,\"#de77ae\"],[0.3,\"#f1b6da\"],[0.4,\"#fde0ef\"],[0.5,\"#f7f7f7\"],[0.6,\"#e6f5d0\"],[0.7,\"#b8e186\"],[0.8,\"#7fbc41\"],[0.9,\"#4d9221\"],[1,\"#276419\"]],\"sequential\":[[0.0,\"#0d0887\"],[0.1111111111111111,\"#46039f\"],[0.2222222222222222,\"#7201a8\"],[0.3333333333333333,\"#9c179e\"],[0.4444444444444444,\"#bd3786\"],[0.5555555555555556,\"#d8576b\"],[0.6666666666666666,\"#ed7953\"],[0.7777777777777778,\"#fb9f3a\"],[0.8888888888888888,\"#fdca26\"],[1.0,\"#f0f921\"]],\"sequentialminus\":[[0.0,\"#0d0887\"],[0.1111111111111111,\"#46039f\"],[0.2222222222222222,\"#7201a8\"],[0.3333333333333333,\"#9c179e\"],[0.4444444444444444,\"#bd3786\"],[0.5555555555555556,\"#d8576b\"],[0.6666666666666666,\"#ed7953\"],[0.7777777777777778,\"#fb9f3a\"],[0.8888888888888888,\"#fdca26\"],[1.0,\"#f0f921\"]]},\"colorway\":[\"#636efa\",\"#EF553B\",\"#00cc96\",\"#ab63fa\",\"#FFA15A\",\"#19d3f3\",\"#FF6692\",\"#B6E880\",\"#FF97FF\",\"#FECB52\"],\"font\":{\"color\":\"#2a3f5f\"},\"geo\":{\"bgcolor\":\"white\",\"lakecolor\":\"white\",\"landcolor\":\"#E5ECF6\",\"showlakes\":true,\"showland\":true,\"subunitcolor\":\"white\"},\"hoverlabel\":{\"align\":\"left\"},\"hovermode\":\"closest\",\"mapbox\":{\"style\":\"light\"},\"paper_bgcolor\":\"white\",\"plot_bgcolor\":\"#E5ECF6\",\"polar\":{\"angularaxis\":{\"gridcolor\":\"white\",\"linecolor\":\"white\",\"ticks\":\"\"},\"bgcolor\":\"#E5ECF6\",\"radialaxis\":{\"gridcolor\":\"white\",\"linecolor\":\"white\",\"ticks\":\"\"}},\"scene\":{\"xaxis\":{\"backgroundcolor\":\"#E5ECF6\",\"gridcolor\":\"white\",\"gridwidth\":2,\"linecolor\":\"white\",\"showbackground\":true,\"ticks\":\"\",\"zerolinecolor\":\"white\"},\"yaxis\":{\"backgroundcolor\":\"#E5ECF6\",\"gridcolor\":\"white\",\"gridwidth\":2,\"linecolor\":\"white\",\"showbackground\":true,\"ticks\":\"\",\"zerolinecolor\":\"white\"},\"zaxis\":{\"backgroundcolor\":\"#E5ECF6\",\"gridcolor\":\"white\",\"gridwidth\":2,\"linecolor\":\"white\",\"showbackground\":true,\"ticks\":\"\",\"zerolinecolor\":\"white\"}},\"shapedefaults\":{\"line\":{\"color\":\"#2a3f5f\"}},\"ternary\":{\"aaxis\":{\"gridcolor\":\"white\",\"linecolor\":\"white\",\"ticks\":\"\"},\"baxis\":{\"gridcolor\":\"white\",\"linecolor\":\"white\",\"ticks\":\"\"},\"bgcolor\":\"#E5ECF6\",\"caxis\":{\"gridcolor\":\"white\",\"linecolor\":\"white\",\"ticks\":\"\"}},\"title\":{\"x\":0.05},\"xaxis\":{\"automargin\":true,\"gridcolor\":\"white\",\"linecolor\":\"white\",\"ticks\":\"\",\"title\":{\"standoff\":15},\"zerolinecolor\":\"white\",\"zerolinewidth\":2},\"yaxis\":{\"automargin\":true,\"gridcolor\":\"white\",\"linecolor\":\"white\",\"ticks\":\"\",\"title\":{\"standoff\":15},\"zerolinecolor\":\"white\",\"zerolinewidth\":2}}},\"title\":{\"text\":\"Matasaarentie\"},\"width\":500},                        {\"responsive\": true}                    ).then(function(){\n",
       "                            \n",
       "var gd = document.getElementById('24d0b118-e889-49e5-9399-87b4302287a8');\n",
       "var x = new MutationObserver(function (mutations, observer) {{\n",
       "        var display = window.getComputedStyle(gd).display;\n",
       "        if (!display || display === 'none') {{\n",
       "            console.log([gd, 'removed!']);\n",
       "            Plotly.purge(gd);\n",
       "            observer.disconnect();\n",
       "        }}\n",
       "}});\n",
       "\n",
       "// Listen for the removal of the full notebook cells\n",
       "var notebookContainer = gd.closest('#notebook-container');\n",
       "if (notebookContainer) {{\n",
       "    x.observe(notebookContainer, {childList: true});\n",
       "}}\n",
       "\n",
       "// Listen for the clearing of the current output cell\n",
       "var outputEl = gd.closest('.output');\n",
       "if (outputEl) {{\n",
       "    x.observe(outputEl, {childList: true});\n",
       "}}\n",
       "\n",
       "                        })                };                });            </script>        </div>"
      ]
     },
     "metadata": {},
     "output_type": "display_data"
    }
   ],
   "source": [
    "site = 'Matasaarentie'\n",
    "\n",
    "plot_one_year(data, 2019, site, True)\n",
    "plot_one_year(data, 2020, site, True)\n",
    "plot_one_year(data, 2021, site, True)\n",
    "\n",
    "plot_all_years(data, site)"
   ]
  },
  {
   "cell_type": "code",
   "execution_count": 19,
   "id": "bba05e0c",
   "metadata": {},
   "outputs": [
    {
     "data": {
      "application/vnd.plotly.v1+json": {
       "config": {
        "plotlyServerURL": "https://plot.ly"
       },
       "data": [
        {
         "customdata": [
          [
           "Tullisaari"
          ]
         ],
         "hovertemplate": "<b>%{hovertext}</b><br><br>Site=%{customdata[0]}<br>lat=%{lat}<br>long=%{lon}<extra></extra>",
         "hovertext": [
          "21KR1"
         ],
         "lat": [
          60.17956
         ],
         "legendgroup": "Tullisaari",
         "lon": [
          25.03864
         ],
         "marker": {
          "color": "#636efa"
         },
         "mode": "markers",
         "name": "Tullisaari",
         "showlegend": true,
         "subplot": "mapbox",
         "type": "scattermapbox"
        },
        {
         "customdata": [
          [
           "Fågelvik"
          ],
          [
           "Fågelvik"
          ],
          [
           "Fågelvik"
          ],
          [
           "Fågelvik"
          ]
         ],
         "hovertemplate": "<b>%{hovertext}</b><br><br>Site=%{customdata[0]}<br>lat=%{lat}<br>long=%{lon}<extra></extra>",
         "hovertext": [
          "21EK1",
          "21EK3",
          "21EK4",
          "21KR18"
         ],
         "lat": [
          60.20535,
          60.20521,
          60.20501,
          60.20514
         ],
         "legendgroup": "Fågelvik",
         "lon": [
          24.82969,
          24.82947,
          24.82942,
          24.82944
         ],
         "marker": {
          "color": "#EF553B"
         },
         "mode": "markers",
         "name": "Fågelvik",
         "showlegend": true,
         "subplot": "mapbox",
         "type": "scattermapbox"
        },
        {
         "customdata": [
          [
           "Soukanlahti"
          ],
          [
           "Soukanlahti"
          ],
          [
           "Soukanlahti"
          ],
          [
           "Soukanlahti"
          ],
          [
           "Soukanlahti"
          ],
          [
           "Soukanlahti"
          ],
          [
           "Soukanlahti"
          ],
          [
           "Soukanlahti"
          ],
          [
           "Soukanlahti"
          ],
          [
           "Soukanlahti"
          ]
         ],
         "hovertemplate": "<b>%{hovertext}</b><br><br>Site=%{customdata[0]}<br>lat=%{lat}<br>long=%{lon}<extra></extra>",
         "hovertext": [
          "21KR2",
          "21EK2",
          "21KR17",
          "21KR20",
          "21KR21",
          "21OW5",
          "21KR36",
          "21OW7",
          "21OW8",
          "21NB27"
         ],
         "lat": [
          60.14001,
          60.13844,
          60.13937,
          60.13834,
          60.13907,
          60.13896,
          60.13969,
          60.13869,
          60.13961,
          60.1372
         ],
         "legendgroup": "Soukanlahti",
         "lon": [
          24.65347,
          24.64991,
          24.65337,
          24.64976,
          24.65085,
          24.65082,
          24.65154,
          24.65079,
          24.65145,
          24.6525
         ],
         "marker": {
          "color": "#00cc96"
         },
         "mode": "markers",
         "name": "Soukanlahti",
         "showlegend": true,
         "subplot": "mapbox",
         "type": "scattermapbox"
        },
        {
         "customdata": [
          [
           "Kodderviken"
          ],
          [
           "Kodderviken"
          ],
          [
           "Kodderviken"
          ],
          [
           "Kodderviken"
          ],
          [
           "Kodderviken"
          ],
          [
           "Kodderviken"
          ],
          [
           "Kodderviken"
          ],
          [
           "Kodderviken"
          ],
          [
           "Kodderviken"
          ],
          [
           "Kodderviken"
          ],
          [
           "Kodderviken"
          ],
          [
           "Kodderviken"
          ],
          [
           "Kodderviken"
          ],
          [
           "Kodderviken"
          ],
          [
           "Kodderviken"
          ],
          [
           "Kodderviken"
          ],
          [
           "Kodderviken"
          ],
          [
           "Kodderviken"
          ],
          [
           "Kodderviken"
          ]
         ],
         "hovertemplate": "<b>%{hovertext}</b><br><br>Site=%{customdata[0]}<br>lat=%{lat}<br>long=%{lon}<extra></extra>",
         "hovertext": [
          "21KR3",
          "21KR4",
          "21KR5",
          "21KR6",
          "21KR7",
          "21KR8",
          "21EK5",
          "21DT1",
          "21DT2",
          "21DT3",
          "21OW1",
          "21EK15",
          "21EK16",
          "21EK17",
          "21EK23",
          "21EK24",
          "21NB12",
          "21NB13",
          "21KR27"
         ],
         "lat": [
          60.33892,
          60.33988,
          60.34175,
          60.34223,
          60.34268,
          60.3424,
          60.3409,
          60.33948,
          60.34021,
          60.34153,
          60.3435,
          60.3431,
          60.34163,
          60.34321,
          60.34295,
          60.34209,
          60.33937,
          60.33897,
          60.34097
         ],
         "legendgroup": "Kodderviken",
         "lon": [
          25.60586,
          25.60648,
          25.60808,
          25.60683,
          25.60613,
          25.59952,
          25.59827,
          25.59619,
          25.59709,
          25.60795,
          25.60374,
          25.60485,
          25.5996,
          25.6028,
          25.60539,
          25.60764,
          25.61004,
          25.60935,
          25.60759
         ],
         "marker": {
          "color": "#ab63fa"
         },
         "mode": "markers",
         "name": "Kodderviken",
         "showlegend": true,
         "subplot": "mapbox",
         "type": "scattermapbox"
        },
        {
         "customdata": [
          [
           "Kodderviken "
          ],
          [
           "Kodderviken "
          ],
          [
           "Kodderviken "
          ]
         ],
         "hovertemplate": "<b>%{hovertext}</b><br><br>Site=%{customdata[0]}<br>lat=%{lat}<br>long=%{lon}<extra></extra>",
         "hovertext": [
          "21KR9",
          "21KR10",
          "21KR11"
         ],
         "lat": [
          60.34291,
          60.34297,
          60.34328
         ],
         "legendgroup": "Kodderviken ",
         "lon": [
          25.60542,
          25.60524,
          25.60416
         ],
         "marker": {
          "color": "#FFA15A"
         },
         "mode": "markers",
         "name": "Kodderviken ",
         "showlegend": true,
         "subplot": "mapbox",
         "type": "scattermapbox"
        },
        {
         "customdata": [
          [
           "Otaniemi"
          ],
          [
           "Otaniemi"
          ],
          [
           "Otaniemi"
          ],
          [
           "Otaniemi"
          ],
          [
           "Otaniemi"
          ],
          [
           "Otaniemi"
          ],
          [
           "Otaniemi"
          ],
          [
           "Otaniemi"
          ],
          [
           "Otaniemi"
          ],
          [
           "Otaniemi"
          ],
          [
           "Otaniemi"
          ],
          [
           "Otaniemi"
          ],
          [
           "Otaniemi"
          ],
          [
           "Otaniemi"
          ],
          [
           "Otaniemi"
          ],
          [
           "Otaniemi"
          ],
          [
           "Otaniemi"
          ]
         ],
         "hovertemplate": "<b>%{hovertext}</b><br><br>Site=%{customdata[0]}<br>lat=%{lat}<br>long=%{lon}<extra></extra>",
         "hovertext": [
          "21JJ1",
          "21JJ2",
          "21KR13",
          "21KR14",
          "21KR15",
          "21KR16",
          "21NB2",
          "21KR29",
          "21KR31",
          "21NB14",
          "21NB15",
          "21NB16",
          "21DT10",
          "21DT9",
          "21OW9",
          "21NB24",
          "21NB30"
         ],
         "lat": [
          60.19141,
          60.1921,
          60.19233,
          60.19265,
          60.19112,
          60.19137,
          60.19248,
          60.19208,
          60.19243,
          60.18791,
          60.18811,
          60.18932,
          60.19192,
          60.18949,
          60.19239,
          60.18747,
          60.18747
         ],
         "legendgroup": "Otaniemi",
         "lon": [
          24.83908,
          24.83424,
          24.83427,
          24.83406,
          24.84013,
          24.83924,
          24.83341,
          24.83381,
          24.83295,
          24.84056,
          24.84145,
          24.84153,
          24.83874,
          24.84118,
          24.83511,
          24.83981,
          24.83924
         ],
         "marker": {
          "color": "#19d3f3"
         },
         "mode": "markers",
         "name": "Otaniemi",
         "showlegend": true,
         "subplot": "mapbox",
         "type": "scattermapbox"
        },
        {
         "customdata": [
          [
           "Suomenoja"
          ],
          [
           "Suomenoja"
          ],
          [
           "Suomenoja"
          ],
          [
           "Suomenoja"
          ],
          [
           "Suomenoja"
          ],
          [
           "Suomenoja"
          ],
          [
           "Suomenoja"
          ],
          [
           "Suomenoja"
          ]
         ],
         "hovertemplate": "<b>%{hovertext}</b><br><br>Site=%{customdata[0]}<br>lat=%{lat}<br>long=%{lon}<extra></extra>",
         "hovertext": [
          "21JJ3",
          "21KR22",
          "21KR23",
          "21KR24",
          "21KR25",
          "21NB9",
          "21JJ20",
          "21EK26"
         ],
         "lat": [
          60.14842,
          60.14844,
          60.14866,
          60.14846,
          60.14877,
          60.1486,
          60.1492,
          60.14871
         ],
         "legendgroup": "Suomenoja",
         "lon": [
          24.72132,
          24.72178,
          24.72167,
          24.72136,
          24.72243,
          24.72267,
          24.72311,
          24.72339
         ],
         "marker": {
          "color": "#FF6692"
         },
         "mode": "markers",
         "name": "Suomenoja",
         "showlegend": true,
         "subplot": "mapbox",
         "type": "scattermapbox"
        },
        {
         "customdata": [
          [
           "Kaitalahti N"
          ],
          [
           "Kaitalahti N"
          ],
          [
           "Kaitalahti N"
          ]
         ],
         "hovertemplate": "<b>%{hovertext}</b><br><br>Site=%{customdata[0]}<br>lat=%{lat}<br>long=%{lon}<extra></extra>",
         "hovertext": [
          "21JJ4",
          "21OW6",
          "21JJ26"
         ],
         "lat": [
          60.13908,
          60.13928,
          60.13919
         ],
         "legendgroup": "Kaitalahti N",
         "lon": [
          24.68781,
          24.68651,
          24.68963
         ],
         "marker": {
          "color": "#B6E880"
         },
         "mode": "markers",
         "name": "Kaitalahti N",
         "showlegend": true,
         "subplot": "mapbox",
         "type": "scattermapbox"
        },
        {
         "customdata": [
          [
           "Vuosaari"
          ],
          [
           "Vuosaari"
          ],
          [
           "Vuosaari"
          ],
          [
           "Vuosaari"
          ],
          [
           "Vuosaari"
          ],
          [
           "Vuosaari"
          ],
          [
           "Vuosaari"
          ],
          [
           "Vuosaari"
          ],
          [
           "Vuosaari"
          ]
         ],
         "hovertemplate": "<b>%{hovertext}</b><br><br>Site=%{customdata[0]}<br>lat=%{lat}<br>long=%{lon}<extra></extra>",
         "hovertext": [
          "21EK6",
          "21JJ18",
          "21SA1",
          "21DT7",
          "21JJ23",
          "21EK27",
          "21EK28",
          "21EK29",
          "21KR44"
         ],
         "lat": [
          60.22454,
          60.23014,
          60.22772,
          60.22801,
          60.22832,
          60.22873,
          60.22889,
          60.22947,
          60.22821
         ],
         "legendgroup": "Vuosaari",
         "lon": [
          25.18588,
          25.17384,
          25.17971,
          25.17867,
          25.17813,
          25.1776,
          25.17739,
          25.17633,
          25.17819
         ],
         "marker": {
          "color": "#FF97FF"
         },
         "mode": "markers",
         "name": "Vuosaari",
         "showlegend": true,
         "subplot": "mapbox",
         "type": "scattermapbox"
        },
        {
         "customdata": [
          [
           "Vikkulla"
          ]
         ],
         "hovertemplate": "<b>%{hovertext}</b><br><br>Site=%{customdata[0]}<br>lat=%{lat}<br>long=%{lon}<extra></extra>",
         "hovertext": [
          "21KR12"
         ],
         "lat": [
          60.2313
         ],
         "legendgroup": "Vikkulla",
         "lon": [
          25.17084
         ],
         "marker": {
          "color": "#FECB52"
         },
         "mode": "markers",
         "name": "Vikkulla",
         "showlegend": true,
         "subplot": "mapbox",
         "type": "scattermapbox"
        },
        {
         "customdata": [
          [
           "Sperringssund"
          ],
          [
           "Sperringssund"
          ],
          [
           "Sperringssund"
          ],
          [
           "Sperringssund"
          ],
          [
           "Sperringssund"
          ],
          [
           "Sperringssund"
          ],
          [
           "Sperringssund"
          ],
          [
           "Sperringssund"
          ]
         ],
         "hovertemplate": "<b>%{hovertext}</b><br><br>Site=%{customdata[0]}<br>lat=%{lat}<br>long=%{lon}<extra></extra>",
         "hovertext": [
          "21JJ5",
          "21EK7",
          "21JJ13",
          "21NB3",
          "21KR19",
          "21NB10",
          "21KR26",
          "21NB19"
         ],
         "lat": [
          60.06816,
          60.06748,
          60.06893,
          60.06676,
          60.06861,
          60.06829,
          60.06864,
          60.06829
         ],
         "legendgroup": "Sperringssund",
         "lon": [
          24.47357,
          24.47333,
          24.4735,
          24.47349,
          24.47366,
          24.47351,
          24.47361,
          24.47349
         ],
         "marker": {
          "color": "#636efa"
         },
         "mode": "markers",
         "name": "Sperringssund",
         "showlegend": true,
         "subplot": "mapbox",
         "type": "scattermapbox"
        },
        {
         "customdata": [
          [
           "Talinranta"
          ],
          [
           "Talinranta"
          ]
         ],
         "hovertemplate": "<b>%{hovertext}</b><br><br>Site=%{customdata[0]}<br>lat=%{lat}<br>long=%{lon}<extra></extra>",
         "hovertext": [
          "21JJ6",
          "21EK10"
         ],
         "lat": [
          60.20888,
          60.20904
         ],
         "legendgroup": "Talinranta",
         "lon": [
          24.85055,
          24.85008
         ],
         "marker": {
          "color": "#EF553B"
         },
         "mode": "markers",
         "name": "Talinranta",
         "showlegend": true,
         "subplot": "mapbox",
         "type": "scattermapbox"
        },
        {
         "customdata": [
          [
           "Pikku-Huopalahti"
          ],
          [
           "Pikku-Huopalahti"
          ],
          [
           "Pikku-Huopalahti"
          ],
          [
           "Pikku-Huopalahti"
          ],
          [
           "Pikku-Huopalahti"
          ]
         ],
         "hovertemplate": "<b>%{hovertext}</b><br><br>Site=%{customdata[0]}<br>lat=%{lat}<br>long=%{lon}<extra></extra>",
         "hovertext": [
          "21JJ7",
          "21NB1",
          "21DT6",
          "21DT8",
          "21JJ28"
         ],
         "lat": [
          60.19863,
          60.19877,
          60.19822,
          60.19649,
          60.19923
         ],
         "legendgroup": "Pikku-Huopalahti",
         "lon": [
          24.88954,
          24.88957,
          24.8891,
          24.88797,
          24.8897
         ],
         "marker": {
          "color": "#00cc96"
         },
         "mode": "markers",
         "name": "Pikku-Huopalahti",
         "showlegend": true,
         "subplot": "mapbox",
         "type": "scattermapbox"
        },
        {
         "customdata": [
          [
           "Kotilahti"
          ],
          [
           "Kotilahti"
          ],
          [
           "Kotilahti"
          ],
          [
           "Kotilahti"
          ],
          [
           "Kotilahti"
          ],
          [
           "Kotilahti"
          ],
          [
           "Kotilahti"
          ]
         ],
         "hovertemplate": "<b>%{hovertext}</b><br><br>Site=%{customdata[0]}<br>lat=%{lat}<br>long=%{lon}<extra></extra>",
         "hovertext": [
          "21JJ8",
          "21JJ9",
          "21JJ10",
          "21DT4",
          "21DT5",
          "21EK18",
          "21NB11"
         ],
         "lat": [
          60.09768,
          60.09828,
          60.09753,
          60.09746,
          60.09717,
          60.09785,
          60.09636
         ],
         "legendgroup": "Kotilahti",
         "lon": [
          24.63434,
          24.63618,
          24.6338,
          24.63435,
          24.63465,
          24.63532,
          24.63452
         ],
         "marker": {
          "color": "#ab63fa"
         },
         "mode": "markers",
         "name": "Kotilahti",
         "showlegend": true,
         "subplot": "mapbox",
         "type": "scattermapbox"
        },
        {
         "customdata": [
          [
           "Sipoonranta"
          ],
          [
           "Sipoonranta"
          ],
          [
           "Sipoonranta"
          ],
          [
           "Sipoonranta"
          ],
          [
           "Sipoonranta"
          ],
          [
           "Sipoonranta"
          ]
         ],
         "hovertemplate": "<b>%{hovertext}</b><br><br>Site=%{customdata[0]}<br>lat=%{lat}<br>long=%{lon}<extra></extra>",
         "hovertext": [
          "21EK8",
          "21EK9",
          "21EK20",
          "21EK21",
          "21KR32",
          "21EK31"
         ],
         "lat": [
          60.26025,
          60.26076,
          60.26088,
          60.26052,
          60.26082,
          60.26054
         ],
         "legendgroup": "Sipoonranta",
         "lon": [
          25.23741,
          25.2386,
          25.23835,
          25.2441,
          25.2439,
          25.23742
         ],
         "marker": {
          "color": "#FFA15A"
         },
         "mode": "markers",
         "name": "Sipoonranta",
         "showlegend": true,
         "subplot": "mapbox",
         "type": "scattermapbox"
        },
        {
         "customdata": [
          [
           "Smedjeviken"
          ],
          [
           "Smedjeviken"
          ],
          [
           "Smedjeviken"
          ],
          [
           "Smedjeviken"
          ],
          [
           "Smedjeviken"
          ],
          [
           "Smedjeviken"
          ],
          [
           "Smedjeviken"
          ],
          [
           "Smedjeviken"
          ],
          [
           "Smedjeviken"
          ],
          [
           "Smedjeviken"
          ],
          [
           "Smedjeviken"
          ]
         ],
         "hovertemplate": "<b>%{hovertext}</b><br><br>Site=%{customdata[0]}<br>lat=%{lat}<br>long=%{lon}<extra></extra>",
         "hovertext": [
          "21EK11",
          "21EK12",
          "21JJ11",
          "21JJ12",
          "21EK14",
          "21NB4",
          "21EK19",
          "21OW2",
          "21EK25",
          "21NB20",
          "21KR33"
         ],
         "lat": [
          60.10977,
          60.1094,
          60.10794,
          60.10754,
          60.10781,
          60.10915,
          60.10762,
          60.10923,
          60.10748,
          60.10486,
          60.10894
         ],
         "legendgroup": "Smedjeviken",
         "lon": [
          24.62526,
          24.625,
          24.62125,
          24.62075,
          24.62101,
          24.62544,
          24.61991,
          24.62558,
          24.62089,
          24.63028,
          24.62471
         ],
         "marker": {
          "color": "#19d3f3"
         },
         "mode": "markers",
         "name": "Smedjeviken",
         "showlegend": true,
         "subplot": "mapbox",
         "type": "scattermapbox"
        },
        {
         "customdata": [
          [
           "Storminnet"
          ],
          [
           "Storminnet"
          ],
          [
           "Storminnet"
          ]
         ],
         "hovertemplate": "<b>%{hovertext}</b><br><br>Site=%{customdata[0]}<br>lat=%{lat}<br>long=%{lon}<extra></extra>",
         "hovertext": [
          "21EK13",
          "21JJ19",
          "21EK22"
         ],
         "lat": [
          60.32438,
          60.32302,
          60.32452
         ],
         "legendgroup": "Storminnet",
         "lon": [
          25.58743,
          25.58951,
          25.58767
         ],
         "marker": {
          "color": "#FF6692"
         },
         "mode": "markers",
         "name": "Storminnet",
         "showlegend": true,
         "subplot": "mapbox",
         "type": "scattermapbox"
        },
        {
         "customdata": [
          [
           "Nätholmen"
          ],
          [
           "Nätholmen"
          ],
          [
           "Nätholmen"
          ],
          [
           "Nätholmen"
          ],
          [
           "Nätholmen"
          ]
         ],
         "hovertemplate": "<b>%{hovertext}</b><br><br>Site=%{customdata[0]}<br>lat=%{lat}<br>long=%{lon}<extra></extra>",
         "hovertext": [
          "21JJ14",
          "21NB6",
          "21OW4",
          "21JJ24",
          "21JJ25"
         ],
         "lat": [
          60.125671,
          60.1241,
          60.12549,
          60.12561,
          60.12532
         ],
         "legendgroup": "Nätholmen",
         "lon": [
          24.66926,
          24.66806,
          24.66795,
          24.66802,
          24.66947
         ],
         "marker": {
          "color": "#B6E880"
         },
         "mode": "markers",
         "name": "Nätholmen",
         "showlegend": true,
         "subplot": "mapbox",
         "type": "scattermapbox"
        },
        {
         "customdata": [
          [
           "Mataskärsviken"
          ],
          [
           "Mataskärsviken"
          ],
          [
           "Mataskärsviken"
          ],
          [
           "Mataskärsviken"
          ],
          [
           "Mataskärsviken"
          ]
         ],
         "hovertemplate": "<b>%{hovertext}</b><br><br>Site=%{customdata[0]}<br>lat=%{lat}<br>long=%{lon}<extra></extra>",
         "hovertext": [
          "21JJ15",
          "21NB8",
          "21OW3",
          "21NB17",
          "21NB28"
         ],
         "lat": [
          60.13327,
          60.13272,
          60.13289,
          60.13475,
          60.13382
         ],
         "legendgroup": "Mataskärsviken",
         "lon": [
          24.69718,
          24.69754,
          24.69743,
          24.698,
          24.69668
         ],
         "marker": {
          "color": "#FF97FF"
         },
         "mode": "markers",
         "name": "Mataskärsviken",
         "showlegend": true,
         "subplot": "mapbox",
         "type": "scattermapbox"
        },
        {
         "customdata": [
          [
           "Kaitalahti"
          ],
          [
           "Kaitalahti"
          ],
          [
           "Kaitalahti"
          ],
          [
           "Kaitalahti"
          ],
          [
           "Kaitalahti"
          ],
          [
           "Kaitalahti"
          ]
         ],
         "hovertemplate": "<b>%{hovertext}</b><br><br>Site=%{customdata[0]}<br>lat=%{lat}<br>long=%{lon}<extra></extra>",
         "hovertext": [
          "21JJ16",
          "21JJ17",
          "21JJ21",
          "21JJ22",
          "21NB18",
          "21NB22"
         ],
         "lat": [
          60.13768,
          60.13839,
          60.1381,
          60.13877,
          60.13735,
          60.13859
         ],
         "legendgroup": "Kaitalahti",
         "lon": [
          24.68945,
          24.68705,
          24.68882,
          24.6921,
          24.6937,
          24.69362
         ],
         "marker": {
          "color": "#FECB52"
         },
         "mode": "markers",
         "name": "Kaitalahti",
         "showlegend": true,
         "subplot": "mapbox",
         "type": "scattermapbox"
        },
        {
         "customdata": [
          [
           "Hyljelahti"
          ],
          [
           "Hyljelahti"
          ],
          [
           "Hyljelahti"
          ]
         ],
         "hovertemplate": "<b>%{hovertext}</b><br><br>Site=%{customdata[0]}<br>lat=%{lat}<br>long=%{lon}<extra></extra>",
         "hovertext": [
          "21NB5",
          "21KR42",
          "21NB23"
         ],
         "lat": [
          60.14183,
          60.14145,
          60.14167
         ],
         "legendgroup": "Hyljelahti",
         "lon": [
          24.6978,
          24.70577,
          24.69729
         ],
         "marker": {
          "color": "#636efa"
         },
         "mode": "markers",
         "name": "Hyljelahti",
         "showlegend": true,
         "subplot": "mapbox",
         "type": "scattermapbox"
        },
        {
         "customdata": [
          [
           "Matasaarentie"
          ]
         ],
         "hovertemplate": "<b>%{hovertext}</b><br><br>Site=%{customdata[0]}<br>lat=%{lat}<br>long=%{lon}<extra></extra>",
         "hovertext": [
          "21NB7"
         ],
         "lat": [
          60.13073
         ],
         "legendgroup": "Matasaarentie",
         "lon": [
          24.7009
         ],
         "marker": {
          "color": "#EF553B"
         },
         "mode": "markers",
         "name": "Matasaarentie",
         "showlegend": true,
         "subplot": "mapbox",
         "type": "scattermapbox"
        },
        {
         "customdata": [
          [
           "Otaniemi "
          ],
          [
           "Otaniemi "
          ],
          [
           "Otaniemi "
          ],
          [
           "Otaniemi "
          ]
         ],
         "hovertemplate": "<b>%{hovertext}</b><br><br>Site=%{customdata[0]}<br>lat=%{lat}<br>long=%{lon}<extra></extra>",
         "hovertext": [
          "21KR28",
          "21KR30",
          "21JJ27",
          "21KR39"
         ],
         "lat": [
          60.19225,
          60.1921,
          60.19332,
          60.1926
         ],
         "legendgroup": "Otaniemi ",
         "lon": [
          24.83335,
          24.8335,
          24.83761,
          24.83551
         ],
         "marker": {
          "color": "#00cc96"
         },
         "mode": "markers",
         "name": "Otaniemi ",
         "showlegend": true,
         "subplot": "mapbox",
         "type": "scattermapbox"
        },
        {
         "customdata": [
          [
           "Smedjeviken BT"
          ],
          [
           "Smedjeviken BT"
          ]
         ],
         "hovertemplate": "<b>%{hovertext}</b><br><br>Site=%{customdata[0]}<br>lat=%{lat}<br>long=%{lon}<extra></extra>",
         "hovertext": [
          "21NB21",
          "21EK30"
         ],
         "lat": [
          60.10476,
          60.10585
         ],
         "legendgroup": "Smedjeviken BT",
         "lon": [
          24.63045,
          24.62699
         ],
         "marker": {
          "color": "#ab63fa"
         },
         "mode": "markers",
         "name": "Smedjeviken BT",
         "showlegend": true,
         "subplot": "mapbox",
         "type": "scattermapbox"
        },
        {
         "customdata": [
          [
           "Korsnäs"
          ]
         ],
         "hovertemplate": "<b>%{hovertext}</b><br><br>Site=%{customdata[0]}<br>lat=%{lat}<br>long=%{lon}<extra></extra>",
         "hovertext": [
          "21KR34"
         ],
         "lat": [
          60.25729
         ],
         "legendgroup": "Korsnäs",
         "lon": [
          25.21534
         ],
         "marker": {
          "color": "#FFA15A"
         },
         "mode": "markers",
         "name": "Korsnäs",
         "showlegend": true,
         "subplot": "mapbox",
         "type": "scattermapbox"
        },
        {
         "customdata": [
          [
           "Kaitalahti "
          ]
         ],
         "hovertemplate": "<b>%{hovertext}</b><br><br>Site=%{customdata[0]}<br>lat=%{lat}<br>long=%{lon}<extra></extra>",
         "hovertext": [
          "21KR35"
         ],
         "lat": [
          60.13733
         ],
         "legendgroup": "Kaitalahti ",
         "lon": [
          24.6935
         ],
         "marker": {
          "color": "#19d3f3"
         },
         "mode": "markers",
         "name": "Kaitalahti ",
         "showlegend": true,
         "subplot": "mapbox",
         "type": "scattermapbox"
        },
        {
         "customdata": [
          [
           "Puotila"
          ],
          [
           "Puotila"
          ],
          [
           "Puotila"
          ]
         ],
         "hovertemplate": "<b>%{hovertext}</b><br><br>Site=%{customdata[0]}<br>lat=%{lat}<br>long=%{lon}<extra></extra>",
         "hovertext": [
          "21KR37",
          "21KR38",
          "21KR40"
         ],
         "lat": [
          60.21342,
          60.21336,
          60.21362
         ],
         "legendgroup": "Puotila",
         "lon": [
          25.11416,
          25.1143,
          25.11406
         ],
         "marker": {
          "color": "#FF6692"
         },
         "mode": "markers",
         "name": "Puotila",
         "showlegend": true,
         "subplot": "mapbox",
         "type": "scattermapbox"
        },
        {
         "customdata": [
          [
           "Suomenoja "
          ]
         ],
         "hovertemplate": "<b>%{hovertext}</b><br><br>Site=%{customdata[0]}<br>lat=%{lat}<br>long=%{lon}<extra></extra>",
         "hovertext": [
          "21JJ29"
         ],
         "lat": [
          60.14892
         ],
         "legendgroup": "Suomenoja ",
         "lon": [
          24.72461
         ],
         "marker": {
          "color": "#B6E880"
         },
         "mode": "markers",
         "name": "Suomenoja ",
         "showlegend": true,
         "subplot": "mapbox",
         "type": "scattermapbox"
        },
        {
         "customdata": [
          [
           "Leposaari "
          ]
         ],
         "hovertemplate": "<b>%{hovertext}</b><br><br>Site=%{customdata[0]}<br>lat=%{lat}<br>long=%{lon}<extra></extra>",
         "hovertext": [
          "21JJ30"
         ],
         "lat": [
          60.19029
         ],
         "legendgroup": "Leposaari ",
         "lon": [
          25.00034
         ],
         "marker": {
          "color": "#FF97FF"
         },
         "mode": "markers",
         "name": "Leposaari ",
         "showlegend": true,
         "subplot": "mapbox",
         "type": "scattermapbox"
        },
        {
         "customdata": [
          [
           "Nuottalahti"
          ],
          [
           "Nuottalahti"
          ]
         ],
         "hovertemplate": "<b>%{hovertext}</b><br><br>Site=%{customdata[0]}<br>lat=%{lat}<br>long=%{lon}<extra></extra>",
         "hovertext": [
          "21JJ31",
          "21OW10"
         ],
         "lat": [
          60.14907,
          60.14923
         ],
         "legendgroup": "Nuottalahti",
         "lon": [
          24.73426,
          24.72859
         ],
         "marker": {
          "color": "#FECB52"
         },
         "mode": "markers",
         "name": "Nuottalahti",
         "showlegend": true,
         "subplot": "mapbox",
         "type": "scattermapbox"
        },
        {
         "customdata": [
          [
           "Nätholmen "
          ]
         ],
         "hovertemplate": "<b>%{hovertext}</b><br><br>Site=%{customdata[0]}<br>lat=%{lat}<br>long=%{lon}<extra></extra>",
         "hovertext": [
          "21JJ32"
         ],
         "lat": [
          60.12551
         ],
         "legendgroup": "Nätholmen ",
         "lon": [
          24.66846
         ],
         "marker": {
          "color": "#636efa"
         },
         "mode": "markers",
         "name": "Nätholmen ",
         "showlegend": true,
         "subplot": "mapbox",
         "type": "scattermapbox"
        },
        {
         "customdata": [
          [
           "Yliskylä "
          ]
         ],
         "hovertemplate": "<b>%{hovertext}</b><br><br>Site=%{customdata[0]}<br>lat=%{lat}<br>long=%{lon}<extra></extra>",
         "hovertext": [
          "21KR41"
         ],
         "lat": [
          60.18707
         ],
         "legendgroup": "Yliskylä ",
         "lon": [
          25.0533
         ],
         "marker": {
          "color": "#EF553B"
         },
         "mode": "markers",
         "name": "Yliskylä ",
         "showlegend": true,
         "subplot": "mapbox",
         "type": "scattermapbox"
        },
        {
         "customdata": [
          [
           "Leposaari"
          ],
          [
           "Leposaari"
          ],
          [
           "Leposaari"
          ],
          [
           "Leposaari"
          ],
          [
           "Leposaari"
          ]
         ],
         "hovertemplate": "<b>%{hovertext}</b><br><br>Site=%{customdata[0]}<br>lat=%{lat}<br>long=%{lon}<extra></extra>",
         "hovertext": [
          "21NB25",
          "21KR43",
          "21DT11",
          "21DT12",
          "21KR48"
         ],
         "lat": [
          60.19061,
          60.19033,
          60.19057,
          60.18967,
          60.19053
         ],
         "legendgroup": "Leposaari",
         "lon": [
          25.00398,
          25.00054,
          25.00377,
          25.00205,
          25.00379
         ],
         "marker": {
          "color": "#00cc96"
         },
         "mode": "markers",
         "name": "Leposaari",
         "showlegend": true,
         "subplot": "mapbox",
         "type": "scattermapbox"
        },
        {
         "customdata": [
          [
           "Lemislahti"
          ],
          [
           "Lemislahti"
          ]
         ],
         "hovertemplate": "<b>%{hovertext}</b><br><br>Site=%{customdata[0]}<br>lat=%{lat}<br>long=%{lon}<extra></extra>",
         "hovertext": [
          "21NB26",
          "21NB29"
         ],
         "lat": [
          60.16437,
          60.16529
         ],
         "legendgroup": "Lemislahti",
         "lon": [
          24.86788,
          24.86542
         ],
         "marker": {
          "color": "#ab63fa"
         },
         "mode": "markers",
         "name": "Lemislahti",
         "showlegend": true,
         "subplot": "mapbox",
         "type": "scattermapbox"
        },
        {
         "customdata": [
          [
           "Lemislahti "
          ]
         ],
         "hovertemplate": "<b>%{hovertext}</b><br><br>Site=%{customdata[0]}<br>lat=%{lat}<br>long=%{lon}<extra></extra>",
         "hovertext": [
          "21KR45"
         ],
         "lat": [
          60.16541
         ],
         "legendgroup": "Lemislahti ",
         "lon": [
          24.86439
         ],
         "marker": {
          "color": "#FFA15A"
         },
         "mode": "markers",
         "name": "Lemislahti ",
         "showlegend": true,
         "subplot": "mapbox",
         "type": "scattermapbox"
        },
        {
         "customdata": [
          [
           "Yliskylä"
          ]
         ],
         "hovertemplate": "<b>%{hovertext}</b><br><br>Site=%{customdata[0]}<br>lat=%{lat}<br>long=%{lon}<extra></extra>",
         "hovertext": [
          "21KR46"
         ],
         "lat": [
          60.18704
         ],
         "legendgroup": "Yliskylä",
         "lon": [
          25.05324
         ],
         "marker": {
          "color": "#19d3f3"
         },
         "mode": "markers",
         "name": "Yliskylä",
         "showlegend": true,
         "subplot": "mapbox",
         "type": "scattermapbox"
        },
        {
         "customdata": [
          [
           "Jollas"
          ]
         ],
         "hovertemplate": "<b>%{hovertext}</b><br><br>Site=%{customdata[0]}<br>lat=%{lat}<br>long=%{lon}<extra></extra>",
         "hovertext": [
          "21KR47"
         ],
         "lat": [
          60.16356
         ],
         "legendgroup": "Jollas",
         "lon": [
          25.07482
         ],
         "marker": {
          "color": "#FF6692"
         },
         "mode": "markers",
         "name": "Jollas",
         "showlegend": true,
         "subplot": "mapbox",
         "type": "scattermapbox"
        },
        {
         "customdata": [
          [
           "Bjurvik"
          ],
          [
           "Bjurvik"
          ],
          [
           "Bjurvik"
          ],
          [
           "Bjurvik"
          ]
         ],
         "hovertemplate": "<b>%{hovertext}</b><br><br>Site=%{customdata[0]}<br>lat=%{lat}<br>long=%{lon}<extra></extra>",
         "hovertext": [
          "21NB31",
          "21NB32",
          "21KR49",
          "21KR50"
         ],
         "lat": [
          60.34004,
          60.34067,
          60.33979,
          60.34053
         ],
         "legendgroup": "Bjurvik",
         "lon": [
          25.71211,
          25.71171,
          25.71288,
          25.71125
         ],
         "marker": {
          "color": "#B6E880"
         },
         "mode": "markers",
         "name": "Bjurvik",
         "showlegend": true,
         "subplot": "mapbox",
         "type": "scattermapbox"
        },
        {
         "customdata": [
          [
           "Källsund"
          ],
          [
           "Källsund"
          ]
         ],
         "hovertemplate": "<b>%{hovertext}</b><br><br>Site=%{customdata[0]}<br>lat=%{lat}<br>long=%{lon}<extra></extra>",
         "hovertext": [
          "21NB33",
          "21KR51"
         ],
         "lat": [
          60.33639,
          60.33584
         ],
         "legendgroup": "Källsund",
         "lon": [
          25.69819,
          25.69848
         ],
         "marker": {
          "color": "#FF97FF"
         },
         "mode": "markers",
         "name": "Källsund",
         "showlegend": true,
         "subplot": "mapbox",
         "type": "scattermapbox"
        },
        {
         "customdata": [
          [
           "Kråkö"
          ]
         ],
         "hovertemplate": "<b>%{hovertext}</b><br><br>Site=%{customdata[0]}<br>lat=%{lat}<br>long=%{lon}<extra></extra>",
         "hovertext": [
          "21KR52"
         ],
         "lat": [
          60.33861
         ],
         "legendgroup": "Kråkö",
         "lon": [
          25.69281
         ],
         "marker": {
          "color": "#FECB52"
         },
         "mode": "markers",
         "name": "Kråkö",
         "showlegend": true,
         "subplot": "mapbox",
         "type": "scattermapbox"
        }
       ],
       "layout": {
        "height": 600,
        "legend": {
         "title": {
          "text": "Site"
         },
         "tracegroupgap": 0
        },
        "mapbox": {
         "center": {
          "lat": 60.19423620467837,
          "lon": 24.95719555555555
         },
         "domain": {
          "x": [
           0,
           1
          ],
          "y": [
           0,
           1
          ]
         },
         "style": "open-street-map",
         "zoom": 3
        },
        "margin": {
         "b": 0,
         "l": 0,
         "r": 0,
         "t": 0
        },
        "template": {
         "data": {
          "bar": [
           {
            "error_x": {
             "color": "#2a3f5f"
            },
            "error_y": {
             "color": "#2a3f5f"
            },
            "marker": {
             "line": {
              "color": "#E5ECF6",
              "width": 0.5
             },
             "pattern": {
              "fillmode": "overlay",
              "size": 10,
              "solidity": 0.2
             }
            },
            "type": "bar"
           }
          ],
          "barpolar": [
           {
            "marker": {
             "line": {
              "color": "#E5ECF6",
              "width": 0.5
             },
             "pattern": {
              "fillmode": "overlay",
              "size": 10,
              "solidity": 0.2
             }
            },
            "type": "barpolar"
           }
          ],
          "carpet": [
           {
            "aaxis": {
             "endlinecolor": "#2a3f5f",
             "gridcolor": "white",
             "linecolor": "white",
             "minorgridcolor": "white",
             "startlinecolor": "#2a3f5f"
            },
            "baxis": {
             "endlinecolor": "#2a3f5f",
             "gridcolor": "white",
             "linecolor": "white",
             "minorgridcolor": "white",
             "startlinecolor": "#2a3f5f"
            },
            "type": "carpet"
           }
          ],
          "choropleth": [
           {
            "colorbar": {
             "outlinewidth": 0,
             "ticks": ""
            },
            "type": "choropleth"
           }
          ],
          "contour": [
           {
            "colorbar": {
             "outlinewidth": 0,
             "ticks": ""
            },
            "colorscale": [
             [
              0,
              "#0d0887"
             ],
             [
              0.1111111111111111,
              "#46039f"
             ],
             [
              0.2222222222222222,
              "#7201a8"
             ],
             [
              0.3333333333333333,
              "#9c179e"
             ],
             [
              0.4444444444444444,
              "#bd3786"
             ],
             [
              0.5555555555555556,
              "#d8576b"
             ],
             [
              0.6666666666666666,
              "#ed7953"
             ],
             [
              0.7777777777777778,
              "#fb9f3a"
             ],
             [
              0.8888888888888888,
              "#fdca26"
             ],
             [
              1,
              "#f0f921"
             ]
            ],
            "type": "contour"
           }
          ],
          "contourcarpet": [
           {
            "colorbar": {
             "outlinewidth": 0,
             "ticks": ""
            },
            "type": "contourcarpet"
           }
          ],
          "heatmap": [
           {
            "colorbar": {
             "outlinewidth": 0,
             "ticks": ""
            },
            "colorscale": [
             [
              0,
              "#0d0887"
             ],
             [
              0.1111111111111111,
              "#46039f"
             ],
             [
              0.2222222222222222,
              "#7201a8"
             ],
             [
              0.3333333333333333,
              "#9c179e"
             ],
             [
              0.4444444444444444,
              "#bd3786"
             ],
             [
              0.5555555555555556,
              "#d8576b"
             ],
             [
              0.6666666666666666,
              "#ed7953"
             ],
             [
              0.7777777777777778,
              "#fb9f3a"
             ],
             [
              0.8888888888888888,
              "#fdca26"
             ],
             [
              1,
              "#f0f921"
             ]
            ],
            "type": "heatmap"
           }
          ],
          "heatmapgl": [
           {
            "colorbar": {
             "outlinewidth": 0,
             "ticks": ""
            },
            "colorscale": [
             [
              0,
              "#0d0887"
             ],
             [
              0.1111111111111111,
              "#46039f"
             ],
             [
              0.2222222222222222,
              "#7201a8"
             ],
             [
              0.3333333333333333,
              "#9c179e"
             ],
             [
              0.4444444444444444,
              "#bd3786"
             ],
             [
              0.5555555555555556,
              "#d8576b"
             ],
             [
              0.6666666666666666,
              "#ed7953"
             ],
             [
              0.7777777777777778,
              "#fb9f3a"
             ],
             [
              0.8888888888888888,
              "#fdca26"
             ],
             [
              1,
              "#f0f921"
             ]
            ],
            "type": "heatmapgl"
           }
          ],
          "histogram": [
           {
            "marker": {
             "pattern": {
              "fillmode": "overlay",
              "size": 10,
              "solidity": 0.2
             }
            },
            "type": "histogram"
           }
          ],
          "histogram2d": [
           {
            "colorbar": {
             "outlinewidth": 0,
             "ticks": ""
            },
            "colorscale": [
             [
              0,
              "#0d0887"
             ],
             [
              0.1111111111111111,
              "#46039f"
             ],
             [
              0.2222222222222222,
              "#7201a8"
             ],
             [
              0.3333333333333333,
              "#9c179e"
             ],
             [
              0.4444444444444444,
              "#bd3786"
             ],
             [
              0.5555555555555556,
              "#d8576b"
             ],
             [
              0.6666666666666666,
              "#ed7953"
             ],
             [
              0.7777777777777778,
              "#fb9f3a"
             ],
             [
              0.8888888888888888,
              "#fdca26"
             ],
             [
              1,
              "#f0f921"
             ]
            ],
            "type": "histogram2d"
           }
          ],
          "histogram2dcontour": [
           {
            "colorbar": {
             "outlinewidth": 0,
             "ticks": ""
            },
            "colorscale": [
             [
              0,
              "#0d0887"
             ],
             [
              0.1111111111111111,
              "#46039f"
             ],
             [
              0.2222222222222222,
              "#7201a8"
             ],
             [
              0.3333333333333333,
              "#9c179e"
             ],
             [
              0.4444444444444444,
              "#bd3786"
             ],
             [
              0.5555555555555556,
              "#d8576b"
             ],
             [
              0.6666666666666666,
              "#ed7953"
             ],
             [
              0.7777777777777778,
              "#fb9f3a"
             ],
             [
              0.8888888888888888,
              "#fdca26"
             ],
             [
              1,
              "#f0f921"
             ]
            ],
            "type": "histogram2dcontour"
           }
          ],
          "mesh3d": [
           {
            "colorbar": {
             "outlinewidth": 0,
             "ticks": ""
            },
            "type": "mesh3d"
           }
          ],
          "parcoords": [
           {
            "line": {
             "colorbar": {
              "outlinewidth": 0,
              "ticks": ""
             }
            },
            "type": "parcoords"
           }
          ],
          "pie": [
           {
            "automargin": true,
            "type": "pie"
           }
          ],
          "scatter": [
           {
            "marker": {
             "colorbar": {
              "outlinewidth": 0,
              "ticks": ""
             }
            },
            "type": "scatter"
           }
          ],
          "scatter3d": [
           {
            "line": {
             "colorbar": {
              "outlinewidth": 0,
              "ticks": ""
             }
            },
            "marker": {
             "colorbar": {
              "outlinewidth": 0,
              "ticks": ""
             }
            },
            "type": "scatter3d"
           }
          ],
          "scattercarpet": [
           {
            "marker": {
             "colorbar": {
              "outlinewidth": 0,
              "ticks": ""
             }
            },
            "type": "scattercarpet"
           }
          ],
          "scattergeo": [
           {
            "marker": {
             "colorbar": {
              "outlinewidth": 0,
              "ticks": ""
             }
            },
            "type": "scattergeo"
           }
          ],
          "scattergl": [
           {
            "marker": {
             "colorbar": {
              "outlinewidth": 0,
              "ticks": ""
             }
            },
            "type": "scattergl"
           }
          ],
          "scattermapbox": [
           {
            "marker": {
             "colorbar": {
              "outlinewidth": 0,
              "ticks": ""
             }
            },
            "type": "scattermapbox"
           }
          ],
          "scatterpolar": [
           {
            "marker": {
             "colorbar": {
              "outlinewidth": 0,
              "ticks": ""
             }
            },
            "type": "scatterpolar"
           }
          ],
          "scatterpolargl": [
           {
            "marker": {
             "colorbar": {
              "outlinewidth": 0,
              "ticks": ""
             }
            },
            "type": "scatterpolargl"
           }
          ],
          "scatterternary": [
           {
            "marker": {
             "colorbar": {
              "outlinewidth": 0,
              "ticks": ""
             }
            },
            "type": "scatterternary"
           }
          ],
          "surface": [
           {
            "colorbar": {
             "outlinewidth": 0,
             "ticks": ""
            },
            "colorscale": [
             [
              0,
              "#0d0887"
             ],
             [
              0.1111111111111111,
              "#46039f"
             ],
             [
              0.2222222222222222,
              "#7201a8"
             ],
             [
              0.3333333333333333,
              "#9c179e"
             ],
             [
              0.4444444444444444,
              "#bd3786"
             ],
             [
              0.5555555555555556,
              "#d8576b"
             ],
             [
              0.6666666666666666,
              "#ed7953"
             ],
             [
              0.7777777777777778,
              "#fb9f3a"
             ],
             [
              0.8888888888888888,
              "#fdca26"
             ],
             [
              1,
              "#f0f921"
             ]
            ],
            "type": "surface"
           }
          ],
          "table": [
           {
            "cells": {
             "fill": {
              "color": "#EBF0F8"
             },
             "line": {
              "color": "white"
             }
            },
            "header": {
             "fill": {
              "color": "#C8D4E3"
             },
             "line": {
              "color": "white"
             }
            },
            "type": "table"
           }
          ]
         },
         "layout": {
          "annotationdefaults": {
           "arrowcolor": "#2a3f5f",
           "arrowhead": 0,
           "arrowwidth": 1
          },
          "autotypenumbers": "strict",
          "coloraxis": {
           "colorbar": {
            "outlinewidth": 0,
            "ticks": ""
           }
          },
          "colorscale": {
           "diverging": [
            [
             0,
             "#8e0152"
            ],
            [
             0.1,
             "#c51b7d"
            ],
            [
             0.2,
             "#de77ae"
            ],
            [
             0.3,
             "#f1b6da"
            ],
            [
             0.4,
             "#fde0ef"
            ],
            [
             0.5,
             "#f7f7f7"
            ],
            [
             0.6,
             "#e6f5d0"
            ],
            [
             0.7,
             "#b8e186"
            ],
            [
             0.8,
             "#7fbc41"
            ],
            [
             0.9,
             "#4d9221"
            ],
            [
             1,
             "#276419"
            ]
           ],
           "sequential": [
            [
             0,
             "#0d0887"
            ],
            [
             0.1111111111111111,
             "#46039f"
            ],
            [
             0.2222222222222222,
             "#7201a8"
            ],
            [
             0.3333333333333333,
             "#9c179e"
            ],
            [
             0.4444444444444444,
             "#bd3786"
            ],
            [
             0.5555555555555556,
             "#d8576b"
            ],
            [
             0.6666666666666666,
             "#ed7953"
            ],
            [
             0.7777777777777778,
             "#fb9f3a"
            ],
            [
             0.8888888888888888,
             "#fdca26"
            ],
            [
             1,
             "#f0f921"
            ]
           ],
           "sequentialminus": [
            [
             0,
             "#0d0887"
            ],
            [
             0.1111111111111111,
             "#46039f"
            ],
            [
             0.2222222222222222,
             "#7201a8"
            ],
            [
             0.3333333333333333,
             "#9c179e"
            ],
            [
             0.4444444444444444,
             "#bd3786"
            ],
            [
             0.5555555555555556,
             "#d8576b"
            ],
            [
             0.6666666666666666,
             "#ed7953"
            ],
            [
             0.7777777777777778,
             "#fb9f3a"
            ],
            [
             0.8888888888888888,
             "#fdca26"
            ],
            [
             1,
             "#f0f921"
            ]
           ]
          },
          "colorway": [
           "#636efa",
           "#EF553B",
           "#00cc96",
           "#ab63fa",
           "#FFA15A",
           "#19d3f3",
           "#FF6692",
           "#B6E880",
           "#FF97FF",
           "#FECB52"
          ],
          "font": {
           "color": "#2a3f5f"
          },
          "geo": {
           "bgcolor": "white",
           "lakecolor": "white",
           "landcolor": "#E5ECF6",
           "showlakes": true,
           "showland": true,
           "subunitcolor": "white"
          },
          "hoverlabel": {
           "align": "left"
          },
          "hovermode": "closest",
          "mapbox": {
           "style": "light"
          },
          "paper_bgcolor": "white",
          "plot_bgcolor": "#E5ECF6",
          "polar": {
           "angularaxis": {
            "gridcolor": "white",
            "linecolor": "white",
            "ticks": ""
           },
           "bgcolor": "#E5ECF6",
           "radialaxis": {
            "gridcolor": "white",
            "linecolor": "white",
            "ticks": ""
           }
          },
          "scene": {
           "xaxis": {
            "backgroundcolor": "#E5ECF6",
            "gridcolor": "white",
            "gridwidth": 2,
            "linecolor": "white",
            "showbackground": true,
            "ticks": "",
            "zerolinecolor": "white"
           },
           "yaxis": {
            "backgroundcolor": "#E5ECF6",
            "gridcolor": "white",
            "gridwidth": 2,
            "linecolor": "white",
            "showbackground": true,
            "ticks": "",
            "zerolinecolor": "white"
           },
           "zaxis": {
            "backgroundcolor": "#E5ECF6",
            "gridcolor": "white",
            "gridwidth": 2,
            "linecolor": "white",
            "showbackground": true,
            "ticks": "",
            "zerolinecolor": "white"
           }
          },
          "shapedefaults": {
           "line": {
            "color": "#2a3f5f"
           }
          },
          "ternary": {
           "aaxis": {
            "gridcolor": "white",
            "linecolor": "white",
            "ticks": ""
           },
           "baxis": {
            "gridcolor": "white",
            "linecolor": "white",
            "ticks": ""
           },
           "bgcolor": "#E5ECF6",
           "caxis": {
            "gridcolor": "white",
            "linecolor": "white",
            "ticks": ""
           }
          },
          "title": {
           "x": 0.05
          },
          "xaxis": {
           "automargin": true,
           "gridcolor": "white",
           "linecolor": "white",
           "ticks": "",
           "title": {
            "standoff": 15
           },
           "zerolinecolor": "white",
           "zerolinewidth": 2
          },
          "yaxis": {
           "automargin": true,
           "gridcolor": "white",
           "linecolor": "white",
           "ticks": "",
           "title": {
            "standoff": 15
           },
           "zerolinecolor": "white",
           "zerolinewidth": 2
          }
         }
        }
       }
      },
      "text/html": [
       "<div>                            <div id=\"060739d4-3f90-4318-8c9f-b97c5408f437\" class=\"plotly-graph-div\" style=\"height:600px; width:100%;\"></div>            <script type=\"text/javascript\">                require([\"plotly\"], function(Plotly) {                    window.PLOTLYENV=window.PLOTLYENV || {};                                    if (document.getElementById(\"060739d4-3f90-4318-8c9f-b97c5408f437\")) {                    Plotly.newPlot(                        \"060739d4-3f90-4318-8c9f-b97c5408f437\",                        [{\"customdata\":[[\"Tullisaari\"]],\"hovertemplate\":\"<b>%{hovertext}</b><br><br>Site=%{customdata[0]}<br>lat=%{lat}<br>long=%{lon}<extra></extra>\",\"hovertext\":[\"21KR1\"],\"lat\":[60.17956],\"legendgroup\":\"Tullisaari\",\"lon\":[25.03864],\"marker\":{\"color\":\"#636efa\"},\"mode\":\"markers\",\"name\":\"Tullisaari\",\"showlegend\":true,\"subplot\":\"mapbox\",\"type\":\"scattermapbox\"},{\"customdata\":[[\"F\\u00e5gelvik\"],[\"F\\u00e5gelvik\"],[\"F\\u00e5gelvik\"],[\"F\\u00e5gelvik\"]],\"hovertemplate\":\"<b>%{hovertext}</b><br><br>Site=%{customdata[0]}<br>lat=%{lat}<br>long=%{lon}<extra></extra>\",\"hovertext\":[\"21EK1\",\"21EK3\",\"21EK4\",\"21KR18\"],\"lat\":[60.20535,60.20521,60.20501,60.20514],\"legendgroup\":\"F\\u00e5gelvik\",\"lon\":[24.82969,24.82947,24.82942,24.82944],\"marker\":{\"color\":\"#EF553B\"},\"mode\":\"markers\",\"name\":\"F\\u00e5gelvik\",\"showlegend\":true,\"subplot\":\"mapbox\",\"type\":\"scattermapbox\"},{\"customdata\":[[\"Soukanlahti\"],[\"Soukanlahti\"],[\"Soukanlahti\"],[\"Soukanlahti\"],[\"Soukanlahti\"],[\"Soukanlahti\"],[\"Soukanlahti\"],[\"Soukanlahti\"],[\"Soukanlahti\"],[\"Soukanlahti\"]],\"hovertemplate\":\"<b>%{hovertext}</b><br><br>Site=%{customdata[0]}<br>lat=%{lat}<br>long=%{lon}<extra></extra>\",\"hovertext\":[\"21KR2\",\"21EK2\",\"21KR17\",\"21KR20\",\"21KR21\",\"21OW5\",\"21KR36\",\"21OW7\",\"21OW8\",\"21NB27\"],\"lat\":[60.14001,60.13844,60.13937,60.13834,60.13907,60.13896,60.13969,60.13869,60.13961,60.1372],\"legendgroup\":\"Soukanlahti\",\"lon\":[24.65347,24.64991,24.65337,24.64976,24.65085,24.65082,24.65154,24.65079,24.65145,24.6525],\"marker\":{\"color\":\"#00cc96\"},\"mode\":\"markers\",\"name\":\"Soukanlahti\",\"showlegend\":true,\"subplot\":\"mapbox\",\"type\":\"scattermapbox\"},{\"customdata\":[[\"Kodderviken\"],[\"Kodderviken\"],[\"Kodderviken\"],[\"Kodderviken\"],[\"Kodderviken\"],[\"Kodderviken\"],[\"Kodderviken\"],[\"Kodderviken\"],[\"Kodderviken\"],[\"Kodderviken\"],[\"Kodderviken\"],[\"Kodderviken\"],[\"Kodderviken\"],[\"Kodderviken\"],[\"Kodderviken\"],[\"Kodderviken\"],[\"Kodderviken\"],[\"Kodderviken\"],[\"Kodderviken\"]],\"hovertemplate\":\"<b>%{hovertext}</b><br><br>Site=%{customdata[0]}<br>lat=%{lat}<br>long=%{lon}<extra></extra>\",\"hovertext\":[\"21KR3\",\"21KR4\",\"21KR5\",\"21KR6\",\"21KR7\",\"21KR8\",\"21EK5\",\"21DT1\",\"21DT2\",\"21DT3\",\"21OW1\",\"21EK15\",\"21EK16\",\"21EK17\",\"21EK23\",\"21EK24\",\"21NB12\",\"21NB13\",\"21KR27\"],\"lat\":[60.33892,60.33988,60.34175,60.34223,60.34268,60.3424,60.3409,60.33948,60.34021,60.34153,60.3435,60.3431,60.34163,60.34321,60.34295,60.34209,60.33937,60.33897,60.34097],\"legendgroup\":\"Kodderviken\",\"lon\":[25.60586,25.60648,25.60808,25.60683,25.60613,25.59952,25.59827,25.59619,25.59709,25.60795,25.60374,25.60485,25.5996,25.6028,25.60539,25.60764,25.61004,25.60935,25.60759],\"marker\":{\"color\":\"#ab63fa\"},\"mode\":\"markers\",\"name\":\"Kodderviken\",\"showlegend\":true,\"subplot\":\"mapbox\",\"type\":\"scattermapbox\"},{\"customdata\":[[\"Kodderviken \"],[\"Kodderviken \"],[\"Kodderviken \"]],\"hovertemplate\":\"<b>%{hovertext}</b><br><br>Site=%{customdata[0]}<br>lat=%{lat}<br>long=%{lon}<extra></extra>\",\"hovertext\":[\"21KR9\",\"21KR10\",\"21KR11\"],\"lat\":[60.34291,60.34297,60.34328],\"legendgroup\":\"Kodderviken \",\"lon\":[25.60542,25.60524,25.60416],\"marker\":{\"color\":\"#FFA15A\"},\"mode\":\"markers\",\"name\":\"Kodderviken \",\"showlegend\":true,\"subplot\":\"mapbox\",\"type\":\"scattermapbox\"},{\"customdata\":[[\"Otaniemi\"],[\"Otaniemi\"],[\"Otaniemi\"],[\"Otaniemi\"],[\"Otaniemi\"],[\"Otaniemi\"],[\"Otaniemi\"],[\"Otaniemi\"],[\"Otaniemi\"],[\"Otaniemi\"],[\"Otaniemi\"],[\"Otaniemi\"],[\"Otaniemi\"],[\"Otaniemi\"],[\"Otaniemi\"],[\"Otaniemi\"],[\"Otaniemi\"]],\"hovertemplate\":\"<b>%{hovertext}</b><br><br>Site=%{customdata[0]}<br>lat=%{lat}<br>long=%{lon}<extra></extra>\",\"hovertext\":[\"21JJ1\",\"21JJ2\",\"21KR13\",\"21KR14\",\"21KR15\",\"21KR16\",\"21NB2\",\"21KR29\",\"21KR31\",\"21NB14\",\"21NB15\",\"21NB16\",\"21DT10\",\"21DT9\",\"21OW9\",\"21NB24\",\"21NB30\"],\"lat\":[60.19141,60.1921,60.19233,60.19265,60.19112,60.19137,60.19248,60.19208,60.19243,60.18791,60.18811,60.18932,60.19192,60.18949,60.19239,60.18747,60.18747],\"legendgroup\":\"Otaniemi\",\"lon\":[24.83908,24.83424,24.83427,24.83406,24.84013,24.83924,24.83341,24.83381,24.83295,24.84056,24.84145,24.84153,24.83874,24.84118,24.83511,24.83981,24.83924],\"marker\":{\"color\":\"#19d3f3\"},\"mode\":\"markers\",\"name\":\"Otaniemi\",\"showlegend\":true,\"subplot\":\"mapbox\",\"type\":\"scattermapbox\"},{\"customdata\":[[\"Suomenoja\"],[\"Suomenoja\"],[\"Suomenoja\"],[\"Suomenoja\"],[\"Suomenoja\"],[\"Suomenoja\"],[\"Suomenoja\"],[\"Suomenoja\"]],\"hovertemplate\":\"<b>%{hovertext}</b><br><br>Site=%{customdata[0]}<br>lat=%{lat}<br>long=%{lon}<extra></extra>\",\"hovertext\":[\"21JJ3\",\"21KR22\",\"21KR23\",\"21KR24\",\"21KR25\",\"21NB9\",\"21JJ20\",\"21EK26\"],\"lat\":[60.14842,60.14844,60.14866,60.14846,60.14877,60.1486,60.1492,60.14871],\"legendgroup\":\"Suomenoja\",\"lon\":[24.72132,24.72178,24.72167,24.72136,24.72243,24.72267,24.72311,24.72339],\"marker\":{\"color\":\"#FF6692\"},\"mode\":\"markers\",\"name\":\"Suomenoja\",\"showlegend\":true,\"subplot\":\"mapbox\",\"type\":\"scattermapbox\"},{\"customdata\":[[\"Kaitalahti N\"],[\"Kaitalahti N\"],[\"Kaitalahti N\"]],\"hovertemplate\":\"<b>%{hovertext}</b><br><br>Site=%{customdata[0]}<br>lat=%{lat}<br>long=%{lon}<extra></extra>\",\"hovertext\":[\"21JJ4\",\"21OW6\",\"21JJ26\"],\"lat\":[60.13908,60.13928,60.13919],\"legendgroup\":\"Kaitalahti N\",\"lon\":[24.68781,24.68651,24.68963],\"marker\":{\"color\":\"#B6E880\"},\"mode\":\"markers\",\"name\":\"Kaitalahti N\",\"showlegend\":true,\"subplot\":\"mapbox\",\"type\":\"scattermapbox\"},{\"customdata\":[[\"Vuosaari\"],[\"Vuosaari\"],[\"Vuosaari\"],[\"Vuosaari\"],[\"Vuosaari\"],[\"Vuosaari\"],[\"Vuosaari\"],[\"Vuosaari\"],[\"Vuosaari\"]],\"hovertemplate\":\"<b>%{hovertext}</b><br><br>Site=%{customdata[0]}<br>lat=%{lat}<br>long=%{lon}<extra></extra>\",\"hovertext\":[\"21EK6\",\"21JJ18\",\"21SA1\",\"21DT7\",\"21JJ23\",\"21EK27\",\"21EK28\",\"21EK29\",\"21KR44\"],\"lat\":[60.22454,60.23014,60.22772,60.22801,60.22832,60.22873,60.22889,60.22947,60.22821],\"legendgroup\":\"Vuosaari\",\"lon\":[25.18588,25.17384,25.17971,25.17867,25.17813,25.1776,25.17739,25.17633,25.17819],\"marker\":{\"color\":\"#FF97FF\"},\"mode\":\"markers\",\"name\":\"Vuosaari\",\"showlegend\":true,\"subplot\":\"mapbox\",\"type\":\"scattermapbox\"},{\"customdata\":[[\"Vikkulla\"]],\"hovertemplate\":\"<b>%{hovertext}</b><br><br>Site=%{customdata[0]}<br>lat=%{lat}<br>long=%{lon}<extra></extra>\",\"hovertext\":[\"21KR12\"],\"lat\":[60.2313],\"legendgroup\":\"Vikkulla\",\"lon\":[25.17084],\"marker\":{\"color\":\"#FECB52\"},\"mode\":\"markers\",\"name\":\"Vikkulla\",\"showlegend\":true,\"subplot\":\"mapbox\",\"type\":\"scattermapbox\"},{\"customdata\":[[\"Sperringssund\"],[\"Sperringssund\"],[\"Sperringssund\"],[\"Sperringssund\"],[\"Sperringssund\"],[\"Sperringssund\"],[\"Sperringssund\"],[\"Sperringssund\"]],\"hovertemplate\":\"<b>%{hovertext}</b><br><br>Site=%{customdata[0]}<br>lat=%{lat}<br>long=%{lon}<extra></extra>\",\"hovertext\":[\"21JJ5\",\"21EK7\",\"21JJ13\",\"21NB3\",\"21KR19\",\"21NB10\",\"21KR26\",\"21NB19\"],\"lat\":[60.06816,60.06748,60.06893,60.06676,60.06861,60.06829,60.06864,60.06829],\"legendgroup\":\"Sperringssund\",\"lon\":[24.47357,24.47333,24.4735,24.47349,24.47366,24.47351,24.47361,24.47349],\"marker\":{\"color\":\"#636efa\"},\"mode\":\"markers\",\"name\":\"Sperringssund\",\"showlegend\":true,\"subplot\":\"mapbox\",\"type\":\"scattermapbox\"},{\"customdata\":[[\"Talinranta\"],[\"Talinranta\"]],\"hovertemplate\":\"<b>%{hovertext}</b><br><br>Site=%{customdata[0]}<br>lat=%{lat}<br>long=%{lon}<extra></extra>\",\"hovertext\":[\"21JJ6\",\"21EK10\"],\"lat\":[60.20888,60.20904],\"legendgroup\":\"Talinranta\",\"lon\":[24.85055,24.85008],\"marker\":{\"color\":\"#EF553B\"},\"mode\":\"markers\",\"name\":\"Talinranta\",\"showlegend\":true,\"subplot\":\"mapbox\",\"type\":\"scattermapbox\"},{\"customdata\":[[\"Pikku-Huopalahti\"],[\"Pikku-Huopalahti\"],[\"Pikku-Huopalahti\"],[\"Pikku-Huopalahti\"],[\"Pikku-Huopalahti\"]],\"hovertemplate\":\"<b>%{hovertext}</b><br><br>Site=%{customdata[0]}<br>lat=%{lat}<br>long=%{lon}<extra></extra>\",\"hovertext\":[\"21JJ7\",\"21NB1\",\"21DT6\",\"21DT8\",\"21JJ28\"],\"lat\":[60.19863,60.19877,60.19822,60.19649,60.19923],\"legendgroup\":\"Pikku-Huopalahti\",\"lon\":[24.88954,24.88957,24.8891,24.88797,24.8897],\"marker\":{\"color\":\"#00cc96\"},\"mode\":\"markers\",\"name\":\"Pikku-Huopalahti\",\"showlegend\":true,\"subplot\":\"mapbox\",\"type\":\"scattermapbox\"},{\"customdata\":[[\"Kotilahti\"],[\"Kotilahti\"],[\"Kotilahti\"],[\"Kotilahti\"],[\"Kotilahti\"],[\"Kotilahti\"],[\"Kotilahti\"]],\"hovertemplate\":\"<b>%{hovertext}</b><br><br>Site=%{customdata[0]}<br>lat=%{lat}<br>long=%{lon}<extra></extra>\",\"hovertext\":[\"21JJ8\",\"21JJ9\",\"21JJ10\",\"21DT4\",\"21DT5\",\"21EK18\",\"21NB11\"],\"lat\":[60.09768,60.09828,60.09753,60.09746,60.09717,60.09785,60.09636],\"legendgroup\":\"Kotilahti\",\"lon\":[24.63434,24.63618,24.6338,24.63435,24.63465,24.63532,24.63452],\"marker\":{\"color\":\"#ab63fa\"},\"mode\":\"markers\",\"name\":\"Kotilahti\",\"showlegend\":true,\"subplot\":\"mapbox\",\"type\":\"scattermapbox\"},{\"customdata\":[[\"Sipoonranta\"],[\"Sipoonranta\"],[\"Sipoonranta\"],[\"Sipoonranta\"],[\"Sipoonranta\"],[\"Sipoonranta\"]],\"hovertemplate\":\"<b>%{hovertext}</b><br><br>Site=%{customdata[0]}<br>lat=%{lat}<br>long=%{lon}<extra></extra>\",\"hovertext\":[\"21EK8\",\"21EK9\",\"21EK20\",\"21EK21\",\"21KR32\",\"21EK31\"],\"lat\":[60.26025,60.26076,60.26088,60.26052,60.26082,60.26054],\"legendgroup\":\"Sipoonranta\",\"lon\":[25.23741,25.2386,25.23835,25.2441,25.2439,25.23742],\"marker\":{\"color\":\"#FFA15A\"},\"mode\":\"markers\",\"name\":\"Sipoonranta\",\"showlegend\":true,\"subplot\":\"mapbox\",\"type\":\"scattermapbox\"},{\"customdata\":[[\"Smedjeviken\"],[\"Smedjeviken\"],[\"Smedjeviken\"],[\"Smedjeviken\"],[\"Smedjeviken\"],[\"Smedjeviken\"],[\"Smedjeviken\"],[\"Smedjeviken\"],[\"Smedjeviken\"],[\"Smedjeviken\"],[\"Smedjeviken\"]],\"hovertemplate\":\"<b>%{hovertext}</b><br><br>Site=%{customdata[0]}<br>lat=%{lat}<br>long=%{lon}<extra></extra>\",\"hovertext\":[\"21EK11\",\"21EK12\",\"21JJ11\",\"21JJ12\",\"21EK14\",\"21NB4\",\"21EK19\",\"21OW2\",\"21EK25\",\"21NB20\",\"21KR33\"],\"lat\":[60.10977,60.1094,60.10794,60.10754,60.10781,60.10915,60.10762,60.10923,60.10748,60.10486,60.10894],\"legendgroup\":\"Smedjeviken\",\"lon\":[24.62526,24.625,24.62125,24.62075,24.62101,24.62544,24.61991,24.62558,24.62089,24.63028,24.62471],\"marker\":{\"color\":\"#19d3f3\"},\"mode\":\"markers\",\"name\":\"Smedjeviken\",\"showlegend\":true,\"subplot\":\"mapbox\",\"type\":\"scattermapbox\"},{\"customdata\":[[\"Storminnet\"],[\"Storminnet\"],[\"Storminnet\"]],\"hovertemplate\":\"<b>%{hovertext}</b><br><br>Site=%{customdata[0]}<br>lat=%{lat}<br>long=%{lon}<extra></extra>\",\"hovertext\":[\"21EK13\",\"21JJ19\",\"21EK22\"],\"lat\":[60.32438,60.32302,60.32452],\"legendgroup\":\"Storminnet\",\"lon\":[25.58743,25.58951,25.58767],\"marker\":{\"color\":\"#FF6692\"},\"mode\":\"markers\",\"name\":\"Storminnet\",\"showlegend\":true,\"subplot\":\"mapbox\",\"type\":\"scattermapbox\"},{\"customdata\":[[\"N\\u00e4tholmen\"],[\"N\\u00e4tholmen\"],[\"N\\u00e4tholmen\"],[\"N\\u00e4tholmen\"],[\"N\\u00e4tholmen\"]],\"hovertemplate\":\"<b>%{hovertext}</b><br><br>Site=%{customdata[0]}<br>lat=%{lat}<br>long=%{lon}<extra></extra>\",\"hovertext\":[\"21JJ14\",\"21NB6\",\"21OW4\",\"21JJ24\",\"21JJ25\"],\"lat\":[60.125671,60.1241,60.12549,60.12561,60.12532],\"legendgroup\":\"N\\u00e4tholmen\",\"lon\":[24.66926,24.66806,24.66795,24.66802,24.66947],\"marker\":{\"color\":\"#B6E880\"},\"mode\":\"markers\",\"name\":\"N\\u00e4tholmen\",\"showlegend\":true,\"subplot\":\"mapbox\",\"type\":\"scattermapbox\"},{\"customdata\":[[\"Matask\\u00e4rsviken\"],[\"Matask\\u00e4rsviken\"],[\"Matask\\u00e4rsviken\"],[\"Matask\\u00e4rsviken\"],[\"Matask\\u00e4rsviken\"]],\"hovertemplate\":\"<b>%{hovertext}</b><br><br>Site=%{customdata[0]}<br>lat=%{lat}<br>long=%{lon}<extra></extra>\",\"hovertext\":[\"21JJ15\",\"21NB8\",\"21OW3\",\"21NB17\",\"21NB28\"],\"lat\":[60.13327,60.13272,60.13289,60.13475,60.13382],\"legendgroup\":\"Matask\\u00e4rsviken\",\"lon\":[24.69718,24.69754,24.69743,24.698,24.69668],\"marker\":{\"color\":\"#FF97FF\"},\"mode\":\"markers\",\"name\":\"Matask\\u00e4rsviken\",\"showlegend\":true,\"subplot\":\"mapbox\",\"type\":\"scattermapbox\"},{\"customdata\":[[\"Kaitalahti\"],[\"Kaitalahti\"],[\"Kaitalahti\"],[\"Kaitalahti\"],[\"Kaitalahti\"],[\"Kaitalahti\"]],\"hovertemplate\":\"<b>%{hovertext}</b><br><br>Site=%{customdata[0]}<br>lat=%{lat}<br>long=%{lon}<extra></extra>\",\"hovertext\":[\"21JJ16\",\"21JJ17\",\"21JJ21\",\"21JJ22\",\"21NB18\",\"21NB22\"],\"lat\":[60.13768,60.13839,60.1381,60.13877,60.13735,60.13859],\"legendgroup\":\"Kaitalahti\",\"lon\":[24.68945,24.68705,24.68882,24.6921,24.6937,24.69362],\"marker\":{\"color\":\"#FECB52\"},\"mode\":\"markers\",\"name\":\"Kaitalahti\",\"showlegend\":true,\"subplot\":\"mapbox\",\"type\":\"scattermapbox\"},{\"customdata\":[[\"Hyljelahti\"],[\"Hyljelahti\"],[\"Hyljelahti\"]],\"hovertemplate\":\"<b>%{hovertext}</b><br><br>Site=%{customdata[0]}<br>lat=%{lat}<br>long=%{lon}<extra></extra>\",\"hovertext\":[\"21NB5\",\"21KR42\",\"21NB23\"],\"lat\":[60.14183,60.14145,60.14167],\"legendgroup\":\"Hyljelahti\",\"lon\":[24.6978,24.70577,24.69729],\"marker\":{\"color\":\"#636efa\"},\"mode\":\"markers\",\"name\":\"Hyljelahti\",\"showlegend\":true,\"subplot\":\"mapbox\",\"type\":\"scattermapbox\"},{\"customdata\":[[\"Matasaarentie\"]],\"hovertemplate\":\"<b>%{hovertext}</b><br><br>Site=%{customdata[0]}<br>lat=%{lat}<br>long=%{lon}<extra></extra>\",\"hovertext\":[\"21NB7\"],\"lat\":[60.13073],\"legendgroup\":\"Matasaarentie\",\"lon\":[24.7009],\"marker\":{\"color\":\"#EF553B\"},\"mode\":\"markers\",\"name\":\"Matasaarentie\",\"showlegend\":true,\"subplot\":\"mapbox\",\"type\":\"scattermapbox\"},{\"customdata\":[[\"Otaniemi \"],[\"Otaniemi \"],[\"Otaniemi \"],[\"Otaniemi \"]],\"hovertemplate\":\"<b>%{hovertext}</b><br><br>Site=%{customdata[0]}<br>lat=%{lat}<br>long=%{lon}<extra></extra>\",\"hovertext\":[\"21KR28\",\"21KR30\",\"21JJ27\",\"21KR39\"],\"lat\":[60.19225,60.1921,60.19332,60.1926],\"legendgroup\":\"Otaniemi \",\"lon\":[24.83335,24.8335,24.83761,24.83551],\"marker\":{\"color\":\"#00cc96\"},\"mode\":\"markers\",\"name\":\"Otaniemi \",\"showlegend\":true,\"subplot\":\"mapbox\",\"type\":\"scattermapbox\"},{\"customdata\":[[\"Smedjeviken BT\"],[\"Smedjeviken BT\"]],\"hovertemplate\":\"<b>%{hovertext}</b><br><br>Site=%{customdata[0]}<br>lat=%{lat}<br>long=%{lon}<extra></extra>\",\"hovertext\":[\"21NB21\",\"21EK30\"],\"lat\":[60.10476,60.10585],\"legendgroup\":\"Smedjeviken BT\",\"lon\":[24.63045,24.62699],\"marker\":{\"color\":\"#ab63fa\"},\"mode\":\"markers\",\"name\":\"Smedjeviken BT\",\"showlegend\":true,\"subplot\":\"mapbox\",\"type\":\"scattermapbox\"},{\"customdata\":[[\"Korsn\\u00e4s\"]],\"hovertemplate\":\"<b>%{hovertext}</b><br><br>Site=%{customdata[0]}<br>lat=%{lat}<br>long=%{lon}<extra></extra>\",\"hovertext\":[\"21KR34\"],\"lat\":[60.25729],\"legendgroup\":\"Korsn\\u00e4s\",\"lon\":[25.21534],\"marker\":{\"color\":\"#FFA15A\"},\"mode\":\"markers\",\"name\":\"Korsn\\u00e4s\",\"showlegend\":true,\"subplot\":\"mapbox\",\"type\":\"scattermapbox\"},{\"customdata\":[[\"Kaitalahti \"]],\"hovertemplate\":\"<b>%{hovertext}</b><br><br>Site=%{customdata[0]}<br>lat=%{lat}<br>long=%{lon}<extra></extra>\",\"hovertext\":[\"21KR35\"],\"lat\":[60.13733],\"legendgroup\":\"Kaitalahti \",\"lon\":[24.6935],\"marker\":{\"color\":\"#19d3f3\"},\"mode\":\"markers\",\"name\":\"Kaitalahti \",\"showlegend\":true,\"subplot\":\"mapbox\",\"type\":\"scattermapbox\"},{\"customdata\":[[\"Puotila\"],[\"Puotila\"],[\"Puotila\"]],\"hovertemplate\":\"<b>%{hovertext}</b><br><br>Site=%{customdata[0]}<br>lat=%{lat}<br>long=%{lon}<extra></extra>\",\"hovertext\":[\"21KR37\",\"21KR38\",\"21KR40\"],\"lat\":[60.21342,60.21336,60.21362],\"legendgroup\":\"Puotila\",\"lon\":[25.11416,25.1143,25.11406],\"marker\":{\"color\":\"#FF6692\"},\"mode\":\"markers\",\"name\":\"Puotila\",\"showlegend\":true,\"subplot\":\"mapbox\",\"type\":\"scattermapbox\"},{\"customdata\":[[\"Suomenoja \"]],\"hovertemplate\":\"<b>%{hovertext}</b><br><br>Site=%{customdata[0]}<br>lat=%{lat}<br>long=%{lon}<extra></extra>\",\"hovertext\":[\"21JJ29\"],\"lat\":[60.14892],\"legendgroup\":\"Suomenoja \",\"lon\":[24.72461],\"marker\":{\"color\":\"#B6E880\"},\"mode\":\"markers\",\"name\":\"Suomenoja \",\"showlegend\":true,\"subplot\":\"mapbox\",\"type\":\"scattermapbox\"},{\"customdata\":[[\"Leposaari \"]],\"hovertemplate\":\"<b>%{hovertext}</b><br><br>Site=%{customdata[0]}<br>lat=%{lat}<br>long=%{lon}<extra></extra>\",\"hovertext\":[\"21JJ30\"],\"lat\":[60.19029],\"legendgroup\":\"Leposaari \",\"lon\":[25.00034],\"marker\":{\"color\":\"#FF97FF\"},\"mode\":\"markers\",\"name\":\"Leposaari \",\"showlegend\":true,\"subplot\":\"mapbox\",\"type\":\"scattermapbox\"},{\"customdata\":[[\"Nuottalahti\"],[\"Nuottalahti\"]],\"hovertemplate\":\"<b>%{hovertext}</b><br><br>Site=%{customdata[0]}<br>lat=%{lat}<br>long=%{lon}<extra></extra>\",\"hovertext\":[\"21JJ31\",\"21OW10\"],\"lat\":[60.14907,60.14923],\"legendgroup\":\"Nuottalahti\",\"lon\":[24.73426,24.72859],\"marker\":{\"color\":\"#FECB52\"},\"mode\":\"markers\",\"name\":\"Nuottalahti\",\"showlegend\":true,\"subplot\":\"mapbox\",\"type\":\"scattermapbox\"},{\"customdata\":[[\"N\\u00e4tholmen \"]],\"hovertemplate\":\"<b>%{hovertext}</b><br><br>Site=%{customdata[0]}<br>lat=%{lat}<br>long=%{lon}<extra></extra>\",\"hovertext\":[\"21JJ32\"],\"lat\":[60.12551],\"legendgroup\":\"N\\u00e4tholmen \",\"lon\":[24.66846],\"marker\":{\"color\":\"#636efa\"},\"mode\":\"markers\",\"name\":\"N\\u00e4tholmen \",\"showlegend\":true,\"subplot\":\"mapbox\",\"type\":\"scattermapbox\"},{\"customdata\":[[\"Yliskyl\\u00e4 \"]],\"hovertemplate\":\"<b>%{hovertext}</b><br><br>Site=%{customdata[0]}<br>lat=%{lat}<br>long=%{lon}<extra></extra>\",\"hovertext\":[\"21KR41\"],\"lat\":[60.18707],\"legendgroup\":\"Yliskyl\\u00e4 \",\"lon\":[25.0533],\"marker\":{\"color\":\"#EF553B\"},\"mode\":\"markers\",\"name\":\"Yliskyl\\u00e4 \",\"showlegend\":true,\"subplot\":\"mapbox\",\"type\":\"scattermapbox\"},{\"customdata\":[[\"Leposaari\"],[\"Leposaari\"],[\"Leposaari\"],[\"Leposaari\"],[\"Leposaari\"]],\"hovertemplate\":\"<b>%{hovertext}</b><br><br>Site=%{customdata[0]}<br>lat=%{lat}<br>long=%{lon}<extra></extra>\",\"hovertext\":[\"21NB25\",\"21KR43\",\"21DT11\",\"21DT12\",\"21KR48\"],\"lat\":[60.19061,60.19033,60.19057,60.18967,60.19053],\"legendgroup\":\"Leposaari\",\"lon\":[25.00398,25.00054,25.00377,25.00205,25.00379],\"marker\":{\"color\":\"#00cc96\"},\"mode\":\"markers\",\"name\":\"Leposaari\",\"showlegend\":true,\"subplot\":\"mapbox\",\"type\":\"scattermapbox\"},{\"customdata\":[[\"Lemislahti\"],[\"Lemislahti\"]],\"hovertemplate\":\"<b>%{hovertext}</b><br><br>Site=%{customdata[0]}<br>lat=%{lat}<br>long=%{lon}<extra></extra>\",\"hovertext\":[\"21NB26\",\"21NB29\"],\"lat\":[60.16437,60.16529],\"legendgroup\":\"Lemislahti\",\"lon\":[24.86788,24.86542],\"marker\":{\"color\":\"#ab63fa\"},\"mode\":\"markers\",\"name\":\"Lemislahti\",\"showlegend\":true,\"subplot\":\"mapbox\",\"type\":\"scattermapbox\"},{\"customdata\":[[\"Lemislahti \"]],\"hovertemplate\":\"<b>%{hovertext}</b><br><br>Site=%{customdata[0]}<br>lat=%{lat}<br>long=%{lon}<extra></extra>\",\"hovertext\":[\"21KR45\"],\"lat\":[60.16541],\"legendgroup\":\"Lemislahti \",\"lon\":[24.86439],\"marker\":{\"color\":\"#FFA15A\"},\"mode\":\"markers\",\"name\":\"Lemislahti \",\"showlegend\":true,\"subplot\":\"mapbox\",\"type\":\"scattermapbox\"},{\"customdata\":[[\"Yliskyl\\u00e4\"]],\"hovertemplate\":\"<b>%{hovertext}</b><br><br>Site=%{customdata[0]}<br>lat=%{lat}<br>long=%{lon}<extra></extra>\",\"hovertext\":[\"21KR46\"],\"lat\":[60.18704],\"legendgroup\":\"Yliskyl\\u00e4\",\"lon\":[25.05324],\"marker\":{\"color\":\"#19d3f3\"},\"mode\":\"markers\",\"name\":\"Yliskyl\\u00e4\",\"showlegend\":true,\"subplot\":\"mapbox\",\"type\":\"scattermapbox\"},{\"customdata\":[[\"Jollas\"]],\"hovertemplate\":\"<b>%{hovertext}</b><br><br>Site=%{customdata[0]}<br>lat=%{lat}<br>long=%{lon}<extra></extra>\",\"hovertext\":[\"21KR47\"],\"lat\":[60.16356],\"legendgroup\":\"Jollas\",\"lon\":[25.07482],\"marker\":{\"color\":\"#FF6692\"},\"mode\":\"markers\",\"name\":\"Jollas\",\"showlegend\":true,\"subplot\":\"mapbox\",\"type\":\"scattermapbox\"},{\"customdata\":[[\"Bjurvik\"],[\"Bjurvik\"],[\"Bjurvik\"],[\"Bjurvik\"]],\"hovertemplate\":\"<b>%{hovertext}</b><br><br>Site=%{customdata[0]}<br>lat=%{lat}<br>long=%{lon}<extra></extra>\",\"hovertext\":[\"21NB31\",\"21NB32\",\"21KR49\",\"21KR50\"],\"lat\":[60.34004,60.34067,60.33979,60.34053],\"legendgroup\":\"Bjurvik\",\"lon\":[25.71211,25.71171,25.71288,25.71125],\"marker\":{\"color\":\"#B6E880\"},\"mode\":\"markers\",\"name\":\"Bjurvik\",\"showlegend\":true,\"subplot\":\"mapbox\",\"type\":\"scattermapbox\"},{\"customdata\":[[\"K\\u00e4llsund\"],[\"K\\u00e4llsund\"]],\"hovertemplate\":\"<b>%{hovertext}</b><br><br>Site=%{customdata[0]}<br>lat=%{lat}<br>long=%{lon}<extra></extra>\",\"hovertext\":[\"21NB33\",\"21KR51\"],\"lat\":[60.33639,60.33584],\"legendgroup\":\"K\\u00e4llsund\",\"lon\":[25.69819,25.69848],\"marker\":{\"color\":\"#FF97FF\"},\"mode\":\"markers\",\"name\":\"K\\u00e4llsund\",\"showlegend\":true,\"subplot\":\"mapbox\",\"type\":\"scattermapbox\"},{\"customdata\":[[\"Kr\\u00e5k\\u00f6\"]],\"hovertemplate\":\"<b>%{hovertext}</b><br><br>Site=%{customdata[0]}<br>lat=%{lat}<br>long=%{lon}<extra></extra>\",\"hovertext\":[\"21KR52\"],\"lat\":[60.33861],\"legendgroup\":\"Kr\\u00e5k\\u00f6\",\"lon\":[25.69281],\"marker\":{\"color\":\"#FECB52\"},\"mode\":\"markers\",\"name\":\"Kr\\u00e5k\\u00f6\",\"showlegend\":true,\"subplot\":\"mapbox\",\"type\":\"scattermapbox\"}],                        {\"height\":600,\"legend\":{\"title\":{\"text\":\"Site\"},\"tracegroupgap\":0},\"mapbox\":{\"center\":{\"lat\":60.19423620467837,\"lon\":24.95719555555555},\"domain\":{\"x\":[0.0,1.0],\"y\":[0.0,1.0]},\"style\":\"open-street-map\",\"zoom\":3},\"margin\":{\"b\":0,\"l\":0,\"r\":0,\"t\":0},\"template\":{\"data\":{\"bar\":[{\"error_x\":{\"color\":\"#2a3f5f\"},\"error_y\":{\"color\":\"#2a3f5f\"},\"marker\":{\"line\":{\"color\":\"#E5ECF6\",\"width\":0.5},\"pattern\":{\"fillmode\":\"overlay\",\"size\":10,\"solidity\":0.2}},\"type\":\"bar\"}],\"barpolar\":[{\"marker\":{\"line\":{\"color\":\"#E5ECF6\",\"width\":0.5},\"pattern\":{\"fillmode\":\"overlay\",\"size\":10,\"solidity\":0.2}},\"type\":\"barpolar\"}],\"carpet\":[{\"aaxis\":{\"endlinecolor\":\"#2a3f5f\",\"gridcolor\":\"white\",\"linecolor\":\"white\",\"minorgridcolor\":\"white\",\"startlinecolor\":\"#2a3f5f\"},\"baxis\":{\"endlinecolor\":\"#2a3f5f\",\"gridcolor\":\"white\",\"linecolor\":\"white\",\"minorgridcolor\":\"white\",\"startlinecolor\":\"#2a3f5f\"},\"type\":\"carpet\"}],\"choropleth\":[{\"colorbar\":{\"outlinewidth\":0,\"ticks\":\"\"},\"type\":\"choropleth\"}],\"contour\":[{\"colorbar\":{\"outlinewidth\":0,\"ticks\":\"\"},\"colorscale\":[[0.0,\"#0d0887\"],[0.1111111111111111,\"#46039f\"],[0.2222222222222222,\"#7201a8\"],[0.3333333333333333,\"#9c179e\"],[0.4444444444444444,\"#bd3786\"],[0.5555555555555556,\"#d8576b\"],[0.6666666666666666,\"#ed7953\"],[0.7777777777777778,\"#fb9f3a\"],[0.8888888888888888,\"#fdca26\"],[1.0,\"#f0f921\"]],\"type\":\"contour\"}],\"contourcarpet\":[{\"colorbar\":{\"outlinewidth\":0,\"ticks\":\"\"},\"type\":\"contourcarpet\"}],\"heatmap\":[{\"colorbar\":{\"outlinewidth\":0,\"ticks\":\"\"},\"colorscale\":[[0.0,\"#0d0887\"],[0.1111111111111111,\"#46039f\"],[0.2222222222222222,\"#7201a8\"],[0.3333333333333333,\"#9c179e\"],[0.4444444444444444,\"#bd3786\"],[0.5555555555555556,\"#d8576b\"],[0.6666666666666666,\"#ed7953\"],[0.7777777777777778,\"#fb9f3a\"],[0.8888888888888888,\"#fdca26\"],[1.0,\"#f0f921\"]],\"type\":\"heatmap\"}],\"heatmapgl\":[{\"colorbar\":{\"outlinewidth\":0,\"ticks\":\"\"},\"colorscale\":[[0.0,\"#0d0887\"],[0.1111111111111111,\"#46039f\"],[0.2222222222222222,\"#7201a8\"],[0.3333333333333333,\"#9c179e\"],[0.4444444444444444,\"#bd3786\"],[0.5555555555555556,\"#d8576b\"],[0.6666666666666666,\"#ed7953\"],[0.7777777777777778,\"#fb9f3a\"],[0.8888888888888888,\"#fdca26\"],[1.0,\"#f0f921\"]],\"type\":\"heatmapgl\"}],\"histogram\":[{\"marker\":{\"pattern\":{\"fillmode\":\"overlay\",\"size\":10,\"solidity\":0.2}},\"type\":\"histogram\"}],\"histogram2d\":[{\"colorbar\":{\"outlinewidth\":0,\"ticks\":\"\"},\"colorscale\":[[0.0,\"#0d0887\"],[0.1111111111111111,\"#46039f\"],[0.2222222222222222,\"#7201a8\"],[0.3333333333333333,\"#9c179e\"],[0.4444444444444444,\"#bd3786\"],[0.5555555555555556,\"#d8576b\"],[0.6666666666666666,\"#ed7953\"],[0.7777777777777778,\"#fb9f3a\"],[0.8888888888888888,\"#fdca26\"],[1.0,\"#f0f921\"]],\"type\":\"histogram2d\"}],\"histogram2dcontour\":[{\"colorbar\":{\"outlinewidth\":0,\"ticks\":\"\"},\"colorscale\":[[0.0,\"#0d0887\"],[0.1111111111111111,\"#46039f\"],[0.2222222222222222,\"#7201a8\"],[0.3333333333333333,\"#9c179e\"],[0.4444444444444444,\"#bd3786\"],[0.5555555555555556,\"#d8576b\"],[0.6666666666666666,\"#ed7953\"],[0.7777777777777778,\"#fb9f3a\"],[0.8888888888888888,\"#fdca26\"],[1.0,\"#f0f921\"]],\"type\":\"histogram2dcontour\"}],\"mesh3d\":[{\"colorbar\":{\"outlinewidth\":0,\"ticks\":\"\"},\"type\":\"mesh3d\"}],\"parcoords\":[{\"line\":{\"colorbar\":{\"outlinewidth\":0,\"ticks\":\"\"}},\"type\":\"parcoords\"}],\"pie\":[{\"automargin\":true,\"type\":\"pie\"}],\"scatter\":[{\"marker\":{\"colorbar\":{\"outlinewidth\":0,\"ticks\":\"\"}},\"type\":\"scatter\"}],\"scatter3d\":[{\"line\":{\"colorbar\":{\"outlinewidth\":0,\"ticks\":\"\"}},\"marker\":{\"colorbar\":{\"outlinewidth\":0,\"ticks\":\"\"}},\"type\":\"scatter3d\"}],\"scattercarpet\":[{\"marker\":{\"colorbar\":{\"outlinewidth\":0,\"ticks\":\"\"}},\"type\":\"scattercarpet\"}],\"scattergeo\":[{\"marker\":{\"colorbar\":{\"outlinewidth\":0,\"ticks\":\"\"}},\"type\":\"scattergeo\"}],\"scattergl\":[{\"marker\":{\"colorbar\":{\"outlinewidth\":0,\"ticks\":\"\"}},\"type\":\"scattergl\"}],\"scattermapbox\":[{\"marker\":{\"colorbar\":{\"outlinewidth\":0,\"ticks\":\"\"}},\"type\":\"scattermapbox\"}],\"scatterpolar\":[{\"marker\":{\"colorbar\":{\"outlinewidth\":0,\"ticks\":\"\"}},\"type\":\"scatterpolar\"}],\"scatterpolargl\":[{\"marker\":{\"colorbar\":{\"outlinewidth\":0,\"ticks\":\"\"}},\"type\":\"scatterpolargl\"}],\"scatterternary\":[{\"marker\":{\"colorbar\":{\"outlinewidth\":0,\"ticks\":\"\"}},\"type\":\"scatterternary\"}],\"surface\":[{\"colorbar\":{\"outlinewidth\":0,\"ticks\":\"\"},\"colorscale\":[[0.0,\"#0d0887\"],[0.1111111111111111,\"#46039f\"],[0.2222222222222222,\"#7201a8\"],[0.3333333333333333,\"#9c179e\"],[0.4444444444444444,\"#bd3786\"],[0.5555555555555556,\"#d8576b\"],[0.6666666666666666,\"#ed7953\"],[0.7777777777777778,\"#fb9f3a\"],[0.8888888888888888,\"#fdca26\"],[1.0,\"#f0f921\"]],\"type\":\"surface\"}],\"table\":[{\"cells\":{\"fill\":{\"color\":\"#EBF0F8\"},\"line\":{\"color\":\"white\"}},\"header\":{\"fill\":{\"color\":\"#C8D4E3\"},\"line\":{\"color\":\"white\"}},\"type\":\"table\"}]},\"layout\":{\"annotationdefaults\":{\"arrowcolor\":\"#2a3f5f\",\"arrowhead\":0,\"arrowwidth\":1},\"autotypenumbers\":\"strict\",\"coloraxis\":{\"colorbar\":{\"outlinewidth\":0,\"ticks\":\"\"}},\"colorscale\":{\"diverging\":[[0,\"#8e0152\"],[0.1,\"#c51b7d\"],[0.2,\"#de77ae\"],[0.3,\"#f1b6da\"],[0.4,\"#fde0ef\"],[0.5,\"#f7f7f7\"],[0.6,\"#e6f5d0\"],[0.7,\"#b8e186\"],[0.8,\"#7fbc41\"],[0.9,\"#4d9221\"],[1,\"#276419\"]],\"sequential\":[[0.0,\"#0d0887\"],[0.1111111111111111,\"#46039f\"],[0.2222222222222222,\"#7201a8\"],[0.3333333333333333,\"#9c179e\"],[0.4444444444444444,\"#bd3786\"],[0.5555555555555556,\"#d8576b\"],[0.6666666666666666,\"#ed7953\"],[0.7777777777777778,\"#fb9f3a\"],[0.8888888888888888,\"#fdca26\"],[1.0,\"#f0f921\"]],\"sequentialminus\":[[0.0,\"#0d0887\"],[0.1111111111111111,\"#46039f\"],[0.2222222222222222,\"#7201a8\"],[0.3333333333333333,\"#9c179e\"],[0.4444444444444444,\"#bd3786\"],[0.5555555555555556,\"#d8576b\"],[0.6666666666666666,\"#ed7953\"],[0.7777777777777778,\"#fb9f3a\"],[0.8888888888888888,\"#fdca26\"],[1.0,\"#f0f921\"]]},\"colorway\":[\"#636efa\",\"#EF553B\",\"#00cc96\",\"#ab63fa\",\"#FFA15A\",\"#19d3f3\",\"#FF6692\",\"#B6E880\",\"#FF97FF\",\"#FECB52\"],\"font\":{\"color\":\"#2a3f5f\"},\"geo\":{\"bgcolor\":\"white\",\"lakecolor\":\"white\",\"landcolor\":\"#E5ECF6\",\"showlakes\":true,\"showland\":true,\"subunitcolor\":\"white\"},\"hoverlabel\":{\"align\":\"left\"},\"hovermode\":\"closest\",\"mapbox\":{\"style\":\"light\"},\"paper_bgcolor\":\"white\",\"plot_bgcolor\":\"#E5ECF6\",\"polar\":{\"angularaxis\":{\"gridcolor\":\"white\",\"linecolor\":\"white\",\"ticks\":\"\"},\"bgcolor\":\"#E5ECF6\",\"radialaxis\":{\"gridcolor\":\"white\",\"linecolor\":\"white\",\"ticks\":\"\"}},\"scene\":{\"xaxis\":{\"backgroundcolor\":\"#E5ECF6\",\"gridcolor\":\"white\",\"gridwidth\":2,\"linecolor\":\"white\",\"showbackground\":true,\"ticks\":\"\",\"zerolinecolor\":\"white\"},\"yaxis\":{\"backgroundcolor\":\"#E5ECF6\",\"gridcolor\":\"white\",\"gridwidth\":2,\"linecolor\":\"white\",\"showbackground\":true,\"ticks\":\"\",\"zerolinecolor\":\"white\"},\"zaxis\":{\"backgroundcolor\":\"#E5ECF6\",\"gridcolor\":\"white\",\"gridwidth\":2,\"linecolor\":\"white\",\"showbackground\":true,\"ticks\":\"\",\"zerolinecolor\":\"white\"}},\"shapedefaults\":{\"line\":{\"color\":\"#2a3f5f\"}},\"ternary\":{\"aaxis\":{\"gridcolor\":\"white\",\"linecolor\":\"white\",\"ticks\":\"\"},\"baxis\":{\"gridcolor\":\"white\",\"linecolor\":\"white\",\"ticks\":\"\"},\"bgcolor\":\"#E5ECF6\",\"caxis\":{\"gridcolor\":\"white\",\"linecolor\":\"white\",\"ticks\":\"\"}},\"title\":{\"x\":0.05},\"xaxis\":{\"automargin\":true,\"gridcolor\":\"white\",\"linecolor\":\"white\",\"ticks\":\"\",\"title\":{\"standoff\":15},\"zerolinecolor\":\"white\",\"zerolinewidth\":2},\"yaxis\":{\"automargin\":true,\"gridcolor\":\"white\",\"linecolor\":\"white\",\"ticks\":\"\",\"title\":{\"standoff\":15},\"zerolinecolor\":\"white\",\"zerolinewidth\":2}}}},                        {\"responsive\": true}                    ).then(function(){\n",
       "                            \n",
       "var gd = document.getElementById('060739d4-3f90-4318-8c9f-b97c5408f437');\n",
       "var x = new MutationObserver(function (mutations, observer) {{\n",
       "        var display = window.getComputedStyle(gd).display;\n",
       "        if (!display || display === 'none') {{\n",
       "            console.log([gd, 'removed!']);\n",
       "            Plotly.purge(gd);\n",
       "            observer.disconnect();\n",
       "        }}\n",
       "}});\n",
       "\n",
       "// Listen for the removal of the full notebook cells\n",
       "var notebookContainer = gd.closest('#notebook-container');\n",
       "if (notebookContainer) {{\n",
       "    x.observe(notebookContainer, {childList: true});\n",
       "}}\n",
       "\n",
       "// Listen for the clearing of the current output cell\n",
       "var outputEl = gd.closest('.output');\n",
       "if (outputEl) {{\n",
       "    x.observe(outputEl, {childList: true});\n",
       "}}\n",
       "\n",
       "                        })                };                });            </script>        </div>"
      ]
     },
     "metadata": {},
     "output_type": "display_data"
    }
   ],
   "source": [
    "\n",
    "\n",
    "fig = px.scatter_mapbox(data[data.Year == 2021], lat=\"lat\", lon=\"long\", hover_name=\"NestID\", hover_data=[\"Site\"], color=\"Site\", zoom=3, height=600)\n",
    "fig.update_layout(mapbox_style=\"open-street-map\")\n",
    "fig.update_layout(margin={\"r\":0,\"t\":0,\"l\":0,\"b\":0})\n",
    "fig.show()"
   ]
  },
  {
   "cell_type": "code",
   "execution_count": null,
   "id": "5671f684",
   "metadata": {},
   "outputs": [],
   "source": []
  }
 ],
 "metadata": {
  "kernelspec": {
   "display_name": "Python 3",
   "language": "python",
   "name": "python3"
  },
  "language_info": {
   "codemirror_mode": {
    "name": "ipython",
    "version": 3
   },
   "file_extension": ".py",
   "mimetype": "text/x-python",
   "name": "python",
   "nbconvert_exporter": "python",
   "pygments_lexer": "ipython3",
   "version": "3.8.8"
  }
 },
 "nbformat": 4,
 "nbformat_minor": 5
}
