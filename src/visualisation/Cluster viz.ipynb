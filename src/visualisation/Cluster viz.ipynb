{
 "cells": [
  {
   "cell_type": "code",
   "execution_count": null,
   "id": "ee3e2ec1",
   "metadata": {},
   "outputs": [],
   "source": [
    "import numpy as np\n",
    "import pandas as pd\n",
    "import plotly.express as px\n",
    "import seaborn as sns\n",
    "import matplotlib.pyplot as plt"
   ]
  },
  {
   "cell_type": "code",
   "execution_count": null,
   "id": "3154d4a8",
   "metadata": {},
   "outputs": [],
   "source": [
    "dataframe_location_2019_2020 = pd.read_csv(\"../../resources/original_data/FinlandNestDatafile.csv\")\n",
    "dataframe_location_2021 = pd.read_csv(\"../../resources/original_data/Finland_nestdata2021_mod.csv\")\n",
    "dataframe_mobbing_2019_2020 = pd.read_csv(\"../../resources/original_data/FinlandMobbingDatafile.csv\")\n",
    "dataframe_mobbing_2021 = pd.read_csv(\"../../resources/original_data/Finland_ExperimentData2021_mod.csv\")\n",
    "\n",
    "# combine mobbing dataframes:\n",
    "dataframe_mobbing = pd.concat([dataframe_mobbing_2021,dataframe_mobbing_2019_2020], axis=0, ignore_index=True)\n",
    "# combine locations:\n",
    "dataframe_location_2021['Year'] = np.repeat(2021, dataframe_location_2021.shape[0])\n",
    "dataframe_location = pd.concat([dataframe_location_2019_2020,dataframe_location_2021], axis=0, ignore_index=True)\n",
    "\n",
    "dataframe_mobbing = dataframe_mobbing.drop(\n",
    "    columns=['Site', 'Year', 'lat', 'long', 'Cuckoo_perch', 'New_rebuild', 'Rebuild_original']\n",
    ")\n",
    "\n",
    "data = pd.merge(dataframe_location, dataframe_mobbing, left_on='NestID', right_on='NestID', how = 'left')"
   ]
  },
  {
   "cell_type": "code",
   "execution_count": null,
   "id": "157acd52",
   "metadata": {},
   "outputs": [],
   "source": [
    "for i in range(data.shape[0]):\n",
    "    if data['Propensity'][i] == 0:\n",
    "        data.loc[i, 'mobbing'] = 'shy'\n",
    "    elif data['Propensity'][i] == 1:\n",
    "        data.loc[i, 'mobbing'] = 'aggressive'\n",
    "    else:\n",
    "        data.loc[i, 'mobbing'] = 'no info'"
   ]
  },
  {
   "cell_type": "code",
   "execution_count": null,
   "id": "76568162",
   "metadata": {
    "scrolled": false
   },
   "outputs": [],
   "source": [
    "data"
   ]
  },
  {
   "cell_type": "code",
   "execution_count": null,
   "id": "189b69f4",
   "metadata": {},
   "outputs": [],
   "source": [
    "data[data.Year == 2021].Site.str.strip().value_counts()"
   ]
  },
  {
   "cell_type": "code",
   "execution_count": null,
   "id": "1f75af55",
   "metadata": {},
   "outputs": [],
   "source": [
    "data[data.Year == 2020].Site.str.strip().value_counts()"
   ]
  },
  {
   "cell_type": "code",
   "execution_count": null,
   "id": "d534e184",
   "metadata": {},
   "outputs": [],
   "source": [
    "data[data.Year == 2019].Site.str.strip().value_counts()"
   ]
  },
  {
   "cell_type": "code",
   "execution_count": null,
   "id": "d6bc4bad",
   "metadata": {},
   "outputs": [],
   "source": [
    "from plotly.subplots import make_subplots\n",
    "import plotly.graph_objects as go\n",
    "\n",
    "def plot_one_year(data, year, site, plot = False):\n",
    "    tmp = data[(data.Year == year) & (data.Site == site)]\n",
    "    \n",
    "    if plot:\n",
    "        fig = px.scatter_mapbox(tmp, lat=\"lat\", lon=\"long\", hover_name=\"NestID\", hover_data=[\"Site\", \"Propensity\"], \n",
    "                            height = 300, color = \"mobbing\", \n",
    "                            color_discrete_map={ 'shy': 'blue', 'aggressive': 'red', 'no info': 'grey'},\n",
    "                            width = 500, zoom = 13, title = site + ', Year: ' + str(year))\n",
    "        fig.update_layout(mapbox_style=\"open-street-map\")\n",
    "        fig.update_layout(margin={\"r\":0,\"t\":50,\"l\":0,\"b\":0})\n",
    "        fig.show()\n",
    "    \n",
    "    n_no_test = np.sum(pd.isnull(tmp.Propensity))\n",
    "    n_shy = np.sum(tmp.Propensity == 0)\n",
    "    n_aggressive = np.sum(tmp.Propensity == 1)\n",
    "    \n",
    "    return [n_no_test, n_shy, n_aggressive]\n",
    "\n",
    "def plot_all_years(data, site):\n",
    "    tmp = data[(data.Site == site)]\n",
    "    \n",
    "    fig = px.scatter_mapbox(tmp, lat=\"lat\", lon=\"long\", hover_name=\"NestID\", hover_data=[\"Site\", \"Propensity\"], \n",
    "                        height = 300, color = tmp.Year.astype(str), \n",
    "                        width = 500, zoom = 13, title = site)\n",
    "    fig.update_layout(mapbox_style=\"open-street-map\")\n",
    "    fig.update_layout(margin={\"r\":0,\"t\":50,\"l\":0,\"b\":0})\n",
    "    fig.show()"
   ]
  },
  {
   "cell_type": "code",
   "execution_count": null,
   "id": "bed6200e",
   "metadata": {},
   "outputs": [],
   "source": [
    "from matplotlib.pyplot import figure\n",
    "import plotly.express as px\n",
    "\n",
    "def create_stacked_bar_chart(data, year):\n",
    "    unique_sites = data[data.Year == year].Site.str.strip().unique()\n",
    "    a = []\n",
    "    \n",
    "    for i in range(len(unique_sites)):\n",
    "        #print([unique_sites[i]] + plot_one_year(data, year, unique_sites[i]))\n",
    "        a.append([unique_sites[i]] + plot_one_year(data, year, unique_sites[i]))\n",
    "    \n",
    "    a = pd.DataFrame(a, columns=['Site', 'No_test', 'N_shy', 'N_aggressive'])\n",
    "\n",
    "    \n",
    "    a.plot(\n",
    "        x = 'Site',\n",
    "        kind = 'barh',\n",
    "        stacked = True,\n",
    "        title = 'Stacked Bar Graph',\n",
    "        mark_right = True)"
   ]
  },
  {
   "cell_type": "code",
   "execution_count": null,
   "id": "bd34b9c3",
   "metadata": {},
   "outputs": [],
   "source": [
    "create_stacked_bar_chart(data, 2019)"
   ]
  },
  {
   "cell_type": "code",
   "execution_count": null,
   "id": "e46401b1",
   "metadata": {},
   "outputs": [],
   "source": [
    "create_stacked_bar_chart(data, 2020)"
   ]
  },
  {
   "cell_type": "code",
   "execution_count": null,
   "id": "afc63207",
   "metadata": {},
   "outputs": [],
   "source": [
    "create_stacked_bar_chart(data, 2021)"
   ]
  },
  {
   "cell_type": "code",
   "execution_count": null,
   "id": "aed342a2",
   "metadata": {},
   "outputs": [],
   "source": [
    "plot_all_years(data, 'Myrans')"
   ]
  },
  {
   "cell_type": "code",
   "execution_count": null,
   "id": "72afbe30",
   "metadata": {
    "scrolled": false
   },
   "outputs": [],
   "source": [
    "site = 'Matasaarentie'\n",
    "\n",
    "plot_one_year(data, 2019, site, True)\n",
    "plot_one_year(data, 2020, site, True)\n",
    "plot_one_year(data, 2021, site, True)\n",
    "\n",
    "plot_all_years(data, site)"
   ]
  },
  {
   "cell_type": "code",
   "execution_count": null,
   "id": "bba05e0c",
   "metadata": {},
   "outputs": [],
   "source": [
    "\n",
    "\n",
    "fig = px.scatter_mapbox(data[data.Year == 2021], lat=\"lat\", lon=\"long\", hover_name=\"NestID\", hover_data=[\"Site\"], color=\"Site\", zoom=3, height=600)\n",
    "fig.update_layout(mapbox_style=\"open-street-map\")\n",
    "fig.update_layout(margin={\"r\":0,\"t\":0,\"l\":0,\"b\":0})\n",
    "fig.show()"
   ]
  },
  {
   "cell_type": "code",
   "execution_count": null,
   "id": "5671f684",
   "metadata": {},
   "outputs": [],
   "source": []
  }
 ],
 "metadata": {
  "kernelspec": {
   "display_name": "Python 3",
   "language": "python",
   "name": "python3"
  },
  "language_info": {
   "codemirror_mode": {
    "name": "ipython",
    "version": 3
   },
   "file_extension": ".py",
   "mimetype": "text/x-python",
   "name": "python",
   "nbconvert_exporter": "python",
   "pygments_lexer": "ipython3",
   "version": "3.9.10"
  }
 },
 "nbformat": 4,
 "nbformat_minor": 5
}
