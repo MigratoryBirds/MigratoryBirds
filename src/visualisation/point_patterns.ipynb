{
 "cells": [
  {
   "cell_type": "code",
   "execution_count": null,
   "metadata": {},
   "outputs": [],
   "source": [
    "import numpy as np\n",
    "import pandas as pd\n",
    "import seaborn as sns\n",
    "import contextily\n",
    "import matplotlib.pyplot as plt\n",
    "from pointpats import centrography\n",
    "from utils.data_utils import fetch_data\n",
    "# The imports below expects that site_list.py exists in the src/visualisation/utils folder\n",
    "# Contents of the file can be asked from the authors of this project.\n",
    "from utils.sites_and_limits import sites_pattern_plotting, sites_y_x_limits"
   ]
  },
  {
   "cell_type": "code",
   "execution_count": null,
   "metadata": {},
   "outputs": [],
   "source": [
    "def fetch_data():\n",
    "  df_general = pd.read_csv(\n",
    "    '../../resources/generated_data/joined_dataset.csv', index_col='NestID'\n",
    "  )\n",
    "  df_location = pd.read_csv( \n",
    "    '../../resources/original_data/FinlandNestDatafile.csv', index_col='NestID'\n",
    "  )\n",
    "  df_location21 = pd.read_csv( \n",
    "    '../../resources/original_data/Finland_nestdata2021_mod.csv', index_col='NestID'\n",
    "  )\n",
    "  df_location21['Year'] = 2021\n",
    "  df_location = pd.concat([df_location, df_location21])\n",
    "  df_location = df_location.drop(columns=['Rebuild_original','New_rebuild', 'Cuckoo_perch',\n",
    "    'Date_nest_found'])\n",
    "  df_general = df_general.drop(columns=['Rebuild_original', 'Cuckoo_perch',\n",
    "    'Date_nest_found','Days_from_LD','Date_trial','Laydate_first_egg'])\n",
    "  R = 6378137.0\n",
    "  x_all = np.radians(df_location['long'])*R\n",
    "  y_all = np.log(np.tan(np.pi/4+np.radians(df_location['lat']/2)))*R\n",
    "  x_withD = np.radians(df_general['long'])*R\n",
    "  y_withD = np.log(np.tan(np.pi/4+np.radians(df_general['lat']/2)))*R\n",
    "  df_location['x']=x_all\n",
    "  df_location['y']=y_all\n",
    "  df_general['x']=x_withD\n",
    "  df_general['y']=y_withD\n",
    "  return df_general, df_location\n"
   ]
  },
  {
   "cell_type": "code",
   "execution_count": null,
   "metadata": {},
   "outputs": [],
   "source": [
    "def plot_jointplot(df_location):\n",
    "  joint_axes = sns.jointplot(x='long', y='lat', data=df_location, s=2.5, hue='Year', height=9,\n",
    "    palette={2019: '#003456',\n",
    "    2020: '#003458',\n",
    "    2021: '#002212'\n",
    "  })\n",
    "  contextily.add_basemap(\n",
    "      joint_axes.ax_joint,\n",
    "      crs='EPSG:4326',\n",
    "      source=contextily.providers.CartoDB.PositronNoLabels\n",
    "  )\n",
    "  plt.show()"
   ]
  },
  {
   "cell_type": "code",
   "execution_count": null,
   "metadata": {},
   "outputs": [],
   "source": [
    "def plot_kdeplot(df_location):\n",
    "  f, ax = plt.subplots(1, figsize=(20,19))\n",
    "  sns.kdeplot(\n",
    "    x=df_location['x'],\n",
    "    y=df_location['y'],\n",
    "    n_levels=50,\n",
    "    shade=True,\n",
    "    alpha=0.55,\n",
    "    cmap='viridis_r'\n",
    "    )\n",
    "\n",
    "  contextily.add_basemap(\n",
    "    ax,\n",
    "    source=contextily.providers.CartoDB.PositronNoLabels\n",
    "  )\n",
    "  plt.show()\n"
   ]
  },
  {
   "cell_type": "code",
   "execution_count": null,
   "metadata": {},
   "outputs": [],
   "source": [
    "\n",
    "df_general, df_location = fetch_data()\n",
    "plot_kdeplot(df_location)"
   ]
  },
  {
   "cell_type": "code",
   "execution_count": null,
   "metadata": {},
   "outputs": [],
   "source": [
    "plot_jointplot(df_location)"
   ]
  },
  {
   "cell_type": "code",
   "execution_count": null,
   "metadata": {},
   "outputs": [],
   "source": [
    "# One can give variables y_lim and x_lim (both are tuples) in order to get the \n",
    "# plots same sized plots for the specific site\n",
    "# The minimun and maximum from the each Site can be fetched with the following code:\n",
    "\n",
    "def create_map_plot(df_location: pd.DataFrame, df_general: pd.DataFrame,\n",
    "    year: int, y_lim = None, x_lim = None):\n",
    "  mean_center_all = centrography.mean_center(df_location[['x','y']])\n",
    "  #med_center_all = centrography.eucledian_median(df_location[['x','y']])\n",
    "  sns.set(font_scale=2)\n",
    "  joint_axes = sns.scatterplot(\n",
    "    x='x', y='y', data=df_location, color='black', s=20,\n",
    "  )\n",
    "\n",
    "  joint_axes.set_title(year, fontsize=20)\n",
    "  if y_lim and x_lim:\n",
    "    joint_axes.set(ylim=y_lim)\n",
    "    joint_axes.set(xlim=x_lim)\n",
    "  if not df_general.empty:\n",
    "    if not df_general[df_general.Propensity==1].empty:\n",
    "      joint_axes.axes.scatter(\n",
    "        x='x', y='y', data=df_general[df_general.Propensity==1],\n",
    "        color='red', marker='o', s=20, label='Aggressive'\n",
    "      )\n",
    "      mean_center_agr = centrography.mean_center( df_general[df_general.Propensity==1][['x','y']])\n",
    "      #med_center_agr = centrography.eucledian_median(df_location[df_general.Propensity==1][['x','y']])\n",
    "      joint_axes.axes.scatter(\n",
    "        *mean_center_agr, color='orangered', marker='x', s=50, label='Mean Agr'\n",
    "      )\n",
    "    \n",
    "    if not df_general[df_general.Propensity==0].empty: \n",
    "      joint_axes.axes.scatter(\n",
    "        x='x', y='y', data=df_general[df_general.Propensity==0],\n",
    "        color='blue', marker='o', s=20, label='Shy'\n",
    "      )\n",
    "      mean_center_shy = centrography.mean_center( df_general[df_general.Propensity==0][['x','y']])\n",
    "      #med_center_shy = centrography.eucledian_median(df_location[df_general.Propensity==0][['x','y']])\n",
    "      joint_axes.axes.scatter(\n",
    "        *mean_center_shy, color='indigo', marker='x', s=50, label='Mean Shy'\n",
    "      )\n",
    "\n",
    "  joint_axes.axes.scatter(\n",
    "    *mean_center_all, color='magenta', marker='x', s=40, label='Mean All'\n",
    "  )\n",
    "  joint_axes.axes.legend()\n",
    "  contextily.add_basemap(\n",
    "    joint_axes.axes,\n",
    "    source=contextily.providers.CartoDB.Positron\n",
    "  )\n",
    "  joint_axes.axes.set_axis_off()"
   ]
  },
  {
   "cell_type": "code",
   "execution_count": null,
   "metadata": {},
   "outputs": [],
   "source": [
    "def create_plot(sites: list, df_location_year: pd.DataFrame, df_general_year: pd.DataFrame,\n",
    "    year: int, y_lim: tuple, x_lim: tuple):\n",
    "  df_location_tmp = df_location_year[df_location_year.Site.str.strip().isin(sites)]\n",
    "  df_general_tmp = df_general_year[df_general_year.Site.str.strip().isin(sites)]\n",
    "  create_map_plot(df_location_tmp, df_general_tmp, year, y_lim, x_lim)"
   ]
  },
  {
   "cell_type": "code",
   "execution_count": null,
   "metadata": {},
   "outputs": [],
   "source": [
    "# Separate data into yearly dataframes\n",
    "df_location19 = df_location[df_location['Year']==2019]\n",
    "df_location20 = df_location[df_location['Year']==2020]\n",
    "df_location21 = df_location[df_location['Year']==2021]\n",
    "\n",
    "df_general19 = df_general[df_general['Year']==2019]\n",
    "df_general20 = df_general[df_general['Year']==2020] \n",
    "df_general21 = df_general[df_general['Year']==2021] "
   ]
  },
  {
   "cell_type": "code",
   "execution_count": null,
   "metadata": {},
   "outputs": [],
   "source": [
    "sites = sites_pattern_plotting()\n",
    "limits = sites_y_x_limits()"
   ]
  },
  {
   "cell_type": "code",
   "execution_count": null,
   "metadata": {},
   "outputs": [],
   "source": [
    "ylim = limits[0][0]\n",
    "xlim = limits[0][1]\n",
    "plt.figure(figsize = (20,15))\n",
    "plt.subplot(2,2,1)\n",
    "plt.suptitle(f'{sites[0][0]} 2019-2021', fontsize=30)\n",
    "create_plot(sites[0], df_location19, df_general19, 2019, ylim, xlim)\n",
    "plt.subplot(2,2,2)\n",
    "create_plot(sites[0], df_location20, df_general20, 2020, ylim, xlim)\n",
    "plt.subplot(2,2,3)\n",
    "create_plot(sites[0], df_location21, df_general21, 2021, ylim, xlim)\n",
    "plt.tight_layout() \n",
    "plt.show()"
   ]
  },
  {
   "cell_type": "code",
   "execution_count": null,
   "metadata": {},
   "outputs": [],
   "source": [
    "ylim = limits[1][0]\n",
    "xlim = limits[1][1]\n",
    "plt.figure(figsize = (20,12))\n",
    "plt.subplot(1,3,1)\n",
    "plt.suptitle(f'{sites[1][0]} 2019-2021', fontsize=30)\n",
    "create_plot(sites[1], df_location19, df_general19, 2019, ylim, xlim)\n",
    "plt.subplot(1,3,2)\n",
    "create_plot(sites[1], df_location20, df_general20, 2020, ylim, xlim)\n",
    "plt.subplot(1,3,3)\n",
    "create_plot(sites[1], df_location21, df_general21, 2021, ylim, xlim)\n",
    "plt.tight_layout() \n",
    "plt.show()"
   ]
  },
  {
   "cell_type": "code",
   "execution_count": null,
   "metadata": {},
   "outputs": [],
   "source": [
    "ylim = limits[2][0]\n",
    "xlim = limits[2][1]\n",
    "plt.figure(figsize = (20,15))\n",
    "plt.subplot(2,2,1)\n",
    "plt.suptitle(f'{sites[2][0]} 2019-2021', fontsize=30)\n",
    "create_plot(sites[2], df_location19, df_general19, 2019, ylim, xlim)\n",
    "plt.subplot(2,2,2)\n",
    "create_plot(sites[2], df_location20, df_general20, 2020, ylim, xlim)\n",
    "plt.subplot(2,2,3)\n",
    "create_plot(sites[2], df_location21, df_general21, 2021, ylim, xlim)\n",
    "plt.tight_layout() \n",
    "plt.show()"
   ]
  },
  {
   "cell_type": "code",
   "execution_count": null,
   "metadata": {},
   "outputs": [],
   "source": [
    "ylim = limits[3][0]\n",
    "xlim = limits[3][1]\n",
    "\n",
    "plt.figure(figsize = (20,10))\n",
    "plt.subplot(1,3,1)\n",
    "plt.suptitle(f'{sites[3][0]} 2019-2021', fontsize= 30)\n",
    "create_plot(sites[3], df_location19, df_general19, 2019, ylim, xlim)\n",
    "plt.subplot(1,3,2)\n",
    "create_plot(sites[3], df_location20, df_general20, 2020, ylim, xlim)\n",
    "plt.subplot(1,3,3)\n",
    "create_plot(sites[3], df_location21, df_general21, 2021, ylim, xlim)\n",
    "plt.tight_layout() \n",
    "plt.show()"
   ]
  },
  {
   "cell_type": "code",
   "execution_count": null,
   "metadata": {},
   "outputs": [],
   "source": [
    "ylim = limits[4][0]\n",
    "xlim = limits[4][1]\n",
    "title = \" and \".join(sites[4])\n",
    "plt.figure(figsize = (20,10))\n",
    "plt.subplot(1,3,1)\n",
    "plt.suptitle(f'{title} 2019-2021', fontsize=20)\n",
    "create_plot(sites[4], df_location19, df_general19,2019, ylim, xlim)\n",
    "plt.subplot(1,3,2)\n",
    "create_plot(sites[4], df_location20, df_general20, 2020, ylim, xlim)\n",
    "plt.subplot(1,3,3)\n",
    "create_plot(sites[4], df_location21, df_general21, 2021, ylim, xlim)\n",
    "plt.show()"
   ]
  },
  {
   "cell_type": "code",
   "execution_count": null,
   "metadata": {},
   "outputs": [],
   "source": [
    "ylim = limits[5][0]\n",
    "xlim = limits[5][1]\n",
    "title = \" and \".join(sites[5])\n",
    "plt.figure(figsize = (20,15))\n",
    "plt.subplot(2,2,1)\n",
    "plt.suptitle(f'{title} 2019-2021', fontsize = 30)\n",
    "create_plot([sites[5][0]], df_location19, df_general19, 2019, ylim, xlim)\n",
    "plt.subplot(2,2,2)\n",
    "create_plot(sites[5], df_location20, df_general20, 2020, ylim, xlim)\n",
    "plt.subplot(2,2,3)\n",
    "create_plot(sites[5], df_location21, df_general21, 2021, ylim, xlim)\n",
    "plt.tight_layout() \n",
    "plt.show()"
   ]
  },
  {
   "cell_type": "code",
   "execution_count": null,
   "metadata": {},
   "outputs": [],
   "source": [
    "ylim = limits[6][0]\n",
    "xlim = limits[6][1]\n",
    "title = \" and \".join(sites[6])\n",
    "plt.figure(figsize = (20,8))\n",
    "plt.subplot(2,2,1)\n",
    "plt.suptitle(f'{title} 2019-2021', fontsize=30)\n",
    "create_plot(sites[6], df_location19, df_general19, 2019, ylim, xlim)\n",
    "plt.subplot(2,2,2)\n",
    "create_plot(sites[6], df_location20, df_general20, 2020, ylim, xlim)\n",
    "plt.subplot(2,2,3)\n",
    "create_plot([sites[6][0]], df_location21, df_general21, 2021, ylim, xlim)\n",
    "plt.tight_layout()\n",
    "plt.show()"
   ]
  },
  {
   "cell_type": "code",
   "execution_count": null,
   "metadata": {},
   "outputs": [],
   "source": [
    "# Vuosaari and Vikkulla\n",
    "ylim = limits[7][0]\n",
    "xlim = limits[7][1]\n",
    "title = \" and \".join(sites[7])\n",
    "plt.figure(figsize = (15,15))\n",
    "plt.subplot(2,2,1)\n",
    "plt.suptitle(f'{title} 2019-2021', fontsize = 30)\n",
    "create_plot([sites[7][0]], df_location19, df_general19, 2019, ylim, xlim)\n",
    "plt.subplot(2,2,2)\n",
    "create_plot(sites[7], df_location20, df_general20, 2020, ylim, xlim)\n",
    "plt.subplot(2,2,3)\n",
    "create_plot(sites[7], df_location21, df_general21, 2021, ylim, xlim)\n",
    "plt.tight_layout()\n",
    "plt.show()"
   ]
  },
  {
   "cell_type": "code",
   "execution_count": null,
   "metadata": {},
   "outputs": [],
   "source": [
    "# Norra Fladet\n",
    "ylim = limits[8][0]\n",
    "xlim = limits[8][1]\n",
    "\n",
    "plt.figure(figsize = (15,10))\n",
    "plt.subplot(2,2,1)\n",
    "plt.suptitle(f'{sites[8]} 2019-2020', fontsize=30)\n",
    "create_plot(sites[8], df_location19, df_general19, 2019, ylim, xlim)\n",
    "plt.subplot(2,2,2)\n",
    "create_plot(sites[8], df_location20, df_general20, 2020, ylim, xlim)\n",
    "plt.tight_layout() \n",
    "plt.show()"
   ]
  },
  {
   "cell_type": "code",
   "execution_count": null,
   "metadata": {},
   "outputs": [],
   "source": [
    "ylim = limits[9][0]\n",
    "xlim = limits[9][1]\n",
    "title = \" and \".join(sites[9])\n",
    "\n",
    "plt.figure(figsize = (20,10))\n",
    "plt.subplot(2,2,1)\n",
    "plt.suptitle(f'{title}  2019-2021', fontsize=30)\n",
    "create_plot(sites[9], df_location19, df_general19, 2019, ylim, xlim)\n",
    "plt.subplot(2,2,2)\n",
    "create_plot(sites[9], df_location20, df_general20, 2020, ylim, xlim)\n",
    "plt.subplot(2,2,3)\n",
    "create_plot(sites[9], df_location21, df_general21, 2021, ylim, xlim)\n",
    "plt.tight_layout()\n",
    "plt.show()"
   ]
  },
  {
   "cell_type": "code",
   "execution_count": null,
   "metadata": {},
   "outputs": [],
   "source": [
    "ylim = limits[10][0]\n",
    "xlim = limits[10][1]\n",
    "title = \" and \".join(sites[10])\n",
    "\n",
    "plt.figure(figsize = (20,10))\n",
    "plt.subplot(1,3,1)\n",
    "plt.suptitle(f'{title} 2019-2021', fontsize=30)\n",
    "create_plot(sites[10], df_location19, df_general19, 2019, ylim, xlim)\n",
    "plt.subplot(1,3,2)\n",
    "create_plot(sites[10], df_location20, df_general20, 2020, ylim, xlim)\n",
    "plt.subplot(1,3,3)\n",
    "create_plot([sites[10][1]], df_location21, df_general21,2021, ylim, xlim)\n",
    "plt.tight_layout()\n",
    "plt.show()"
   ]
  },
  {
   "cell_type": "code",
   "execution_count": null,
   "metadata": {},
   "outputs": [],
   "source": [
    "ylim = limits[11][0]\n",
    "xlim = limits[11][1]\n",
    "\n",
    "plt.figure(figsize = (15,10))\n",
    "plt.subplot(1,2,1)\n",
    "plt.suptitle(f'{sites[11]} 2020-2021', fontsize=30)\n",
    "create_plot(sites[11], df_location20, df_general20, 2020, ylim, xlim)\n",
    "plt.subplot(1,2,2)\n",
    "create_plot(sites[11], df_location21, df_general21, 2021, ylim, xlim)\n",
    "plt.tight_layout() \n",
    "plt.show()"
   ]
  },
  {
   "cell_type": "code",
   "execution_count": null,
   "metadata": {},
   "outputs": [],
   "source": [
    "ylim = limits[12][0]\n",
    "xlim = limits[12][1]\n",
    "\n",
    "plt.figure(figsize = (15,3))\n",
    "plt.subplot(1,2,1)\n",
    "plt.suptitle(f'{sites[12]} 2020-2021', fontsize=30)\n",
    "create_plot(sites[12], df_location20, df_general20, 2020, ylim, xlim)\n",
    "plt.subplot(1,2,2)\n",
    "create_plot(sites[12], df_location21, df_general21, 2021, ylim, xlim)\n",
    "plt.tight_layout() \n",
    "plt.show()"
   ]
  },
  {
   "cell_type": "code",
   "execution_count": null,
   "metadata": {},
   "outputs": [],
   "source": [
    "ylim = limits[13][0]\n",
    "xlim = limits[13][1]\n",
    "\n",
    "plt.figure(figsize = (15,10))\n",
    "plt.subplot(1,2,1)\n",
    "plt.suptitle(f'{sites[13]} 2020-2021', fontsize=30)\n",
    "create_plot(sites[13], df_location20, df_general20, 2020, ylim, xlim)\n",
    "plt.subplot(1,2,2)\n",
    "create_plot(sites[13], df_location21, df_general21, 2021, ylim, xlim)\n",
    "plt.tight_layout() \n",
    "plt.show()"
   ]
  },
  {
   "cell_type": "code",
   "execution_count": null,
   "metadata": {},
   "outputs": [],
   "source": [
    "ylim = limits[14][0]\n",
    "xlim = limits[14][1]\n",
    "\n",
    "plt.figure(figsize = (15,10))\n",
    "plt.subplot(1,2,1)\n",
    "plt.suptitle(f'{sites[14]} 2020-2021', fontsize=30)\n",
    "create_plot(sites[14], df_location20, df_general20, 2020, ylim, xlim)\n",
    "plt.subplot(1,2,2)\n",
    "create_plot(sites[14], df_location21, df_general21, 2021, ylim, xlim)\n",
    "plt.tight_layout() \n",
    "plt.show()"
   ]
  },
  {
   "cell_type": "code",
   "execution_count": null,
   "metadata": {},
   "outputs": [],
   "source": [
    "ylim = limits[15][0]\n",
    "xlim = limits[15][1]\n",
    "\n",
    "plt.figure(figsize = (10,10))\n",
    "plt.subplot(1,2,1)\n",
    "plt.suptitle(f'{sites[15][0]} 2020-2021', fontsize=30)\n",
    "create_plot(sites[15], df_location20, df_general20, 2020, ylim, xlim)\n",
    "plt.subplot(1,2,2)\n",
    "create_plot(sites[15], df_location21, df_general21, 2021, ylim, xlim)\n",
    "plt.tight_layout()\n",
    "plt.show()"
   ]
  },
  {
   "cell_type": "code",
   "execution_count": null,
   "metadata": {},
   "outputs": [],
   "source": [
    "ylim = limits[16][0]\n",
    "xlim = limits[16][1]\n",
    "\n",
    "title = \" and \".join(sites[16])\n",
    "plt.figure(figsize = (14,8))\n",
    "plt.subplot(1,2,1)\n",
    "plt.suptitle(f'{title} 2020-2021', fontsize=30)\n",
    "create_plot(sites[16], df_location20, df_general20, 2020, ylim, xlim)\n",
    "plt.subplot(1,2,2)\n",
    "create_plot(sites[16], df_location21, df_general21, 2021, ylim, xlim)\n",
    "plt.tight_layout()\n",
    "plt.show()"
   ]
  },
  {
   "cell_type": "code",
   "execution_count": null,
   "metadata": {},
   "outputs": [],
   "source": [
    "ylim = limits[17][0]\n",
    "xlim = limits[17][1]\n",
    "\n",
    "plt.figure(figsize = (15,6))\n",
    "plt.subplot(1,3,1)\n",
    "plt.suptitle(f'{sites[17][0]} 2019-2021', fontsize= 30)\n",
    "create_plot(sites[17], df_location19, df_general19, 2019, ylim, xlim)\n",
    "plt.subplot(1,3,2)\n",
    "create_plot(sites[17], df_location20, df_general20, 2020, ylim, xlim)\n",
    "plt.subplot(1,3,3)\n",
    "create_plot(sites[17], df_location21, df_general21, 2021, ylim, xlim)\n",
    "plt.tight_layout() \n",
    "plt.show()"
   ]
  },
  {
   "cell_type": "code",
   "execution_count": null,
   "metadata": {},
   "outputs": [],
   "source": [
    "# Fiskarviken\n",
    "ylim = limits[18][0]\n",
    "xlim = limits[18][1]\n",
    "\n",
    "plt.figure(figsize = (8,10))\n",
    "plt.subplot(2,2,1)\n",
    "plt.suptitle(f'{sites[18][0]} 2019-2020', fontsize=30)\n",
    "create_plot(sites[18], df_location19, df_general19, 2019, ylim, xlim)\n",
    "plt.subplot(2,2,2)\n",
    "create_plot(sites[18], df_location20, df_general20, 2020, ylim, xlim)\n",
    "plt.tight_layout() \n",
    "plt.show()"
   ]
  }
 ],
 "metadata": {
  "interpreter": {
   "hash": "78e0c8253b78ea2123fd34f39776e8bd9484364bf90b76c816a27c2bf98ce59c"
  },
  "kernelspec": {
   "display_name": "Python 3.9.10 ('geo-env')",
   "language": "python",
   "name": "python3"
  },
  "language_info": {
   "codemirror_mode": {
    "name": "ipython",
    "version": 3
   },
   "file_extension": ".py",
   "mimetype": "text/x-python",
   "name": "python",
   "nbconvert_exporter": "python",
   "pygments_lexer": "ipython3",
   "version": "3.9.10"
  },
  "orig_nbformat": 4
 },
 "nbformat": 4,
 "nbformat_minor": 2
}
