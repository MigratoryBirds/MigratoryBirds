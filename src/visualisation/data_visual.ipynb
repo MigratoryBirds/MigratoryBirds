{
 "cells": [
  {
   "cell_type": "markdown",
   "metadata": {},
   "source": [
    "# Cluster Plots and Interactive Cluster Maps\n",
    "In this Jupyter Notebook first we plot figures with different clusters. Here clusters are created by distances between nests. The code can be found in the `clustering.py` script. The possible distances were set to 15, 30, 50, 100, 200 and 300 meters. "
   ]
  },
  {
   "cell_type": "code",
   "execution_count": null,
   "metadata": {},
   "outputs": [],
   "source": [
    "import pandas as pd\n",
    "import numpy as np\n",
    "import matplotlib.pyplot as plt\n",
    "import seaborn as sns\n",
    "import folium\n",
    "from folium.plugins import MarkerCluster\n",
    "from utils.data_utils import fetch_data"
   ]
  },
  {
   "cell_type": "markdown",
   "metadata": {},
   "source": [
    "Below are the functions that are used to collect propensity data in the clusters and the functions for plotting the data."
   ]
  },
  {
   "cell_type": "code",
   "execution_count": null,
   "metadata": {},
   "outputs": [],
   "source": [
    "\n",
    "def generate_cluster_info(cluster: int, year: int, general_data: pd.DataFrame, \n",
    "    nests: pd.DataFrame, cluster_size_data: pd.DataFrame, dist:int):\n",
    "    _, _, df_location_data  = fetch_data()\n",
    "    all_nests = len([nestID for nestID in nests.index.values])\n",
    "    nests_with_data = len([nestID for nestID in nests.index.values if nestID in general_data.index])\n",
    "    sites = list(set([df_location_data.loc[nestID]['Site'].strip() for nestID in nests.index.values]))\n",
    "    total_propensity = sum([general_data.loc[nestID]['Propensity']  if nestID in general_data.index else 0.2 for nestID in nests.index.values])\n",
    "    row = pd.DataFrame({'ClusterID': [f'ClusterID {cluster}'], 'Year': [year], 'Dist': [dist], 'Site': [sites], 'Nests_with_data': [nests_with_data],\n",
    "        'All_nests': [all_nests], 'Total_propensity': [total_propensity]})\n",
    "    return cluster_size_data.append(row, ignore_index=True)\n",
    "\n",
    "# Create cluster size vs propensity data\n",
    "def create_cluster_propensity(years: list, dist: int) -> pd.DataFrame:\n",
    "    cluster_size_data  = pd.DataFrame(columns=['ClusterID', 'Year', 'Dist', 'Site',\n",
    "        'Nests_with_data','All_nests','Total_angrybirds'])\n",
    "    cluster_size_data = cluster_size_data.astype({'ClusterID': str})\n",
    "    df_general_data, df_clusters, _ = fetch_data()\n",
    "    for year in years:\n",
    "        nests_current_year = df_clusters[df_clusters['Year'] == year]\n",
    "        for i in range(min(df_clusters[f'ClusterID_{dist}']),max(df_clusters[f'ClusterID_{dist}'])+1):\n",
    "            nests = nests_current_year[nests_current_year[f'ClusterID_{dist}'] == i]\n",
    "            if len(nests) > 0:\n",
    "                cluster_size_data = generate_cluster_info(i, year, df_general_data, nests, cluster_size_data, dist)\n",
    "    return cluster_size_data\n",
    "\n",
    "def create_plots_cluster_propensity(dist):\n",
    "    _, df_clusters, _ = fetch_data()\n",
    "    YEARS = df_clusters['Year'].unique()\n",
    "    cluster_size_data = create_cluster_propensity(YEARS, dist)\n",
    "    for year in YEARS:\n",
    "        df = cluster_size_data[(cluster_size_data.Dist==dist) & (cluster_size_data.Year==year)]\n",
    "        \n",
    "        sns.set_theme(style=\"whitegrid\")\n",
    "        f, ax = plt.subplots(figsize=(12, 10))\n",
    "        plt.title(f'Propensity vs Cluster Size {year}', fontsize=20)\n",
    "        sns.set_color_codes(\"pastel\")\n",
    "        sns.barplot(x='All_nests',\n",
    "            y='ClusterID', data=df,\n",
    "            label='Nest size', color='b')\n",
    "        sns.set_color_codes(\"muted\")    \n",
    "        sns.barplot(x='Total_propensity', \n",
    "            y='ClusterID', data=df,\n",
    "            label='Propensity', color='b')\n",
    "\n",
    "        # Add a legend and informative axis label\n",
    "        ax.legend(ncol=2, loc=\"lower right\", frameon=True)\n",
    "        ax.set(xlim=(0, 25), ylabel='ClusterID',\n",
    "            xlabel='')\n",
    "        for i in ax.containers:\n",
    "            ax.bar_label(i,)\n",
    "        sns.despine(left=True, bottom=True)\n",
    "        plt.show()\n",
    "\n",
    "def plot_mobbing_vs_cluster_size(dist):\n",
    "    _, df_clusters, _ = fetch_data()\n",
    "    YEARS = df_clusters['Year'].unique()\n",
    "    cluster_size_data = create_cluster_propensity(YEARS, dist)\n",
    "    sns.set_theme(style=\"whitegrid\")\n",
    "    plt.figure(figsize=(10,15))\n",
    "    plt.subplot(2,1,1)\n",
    "    plt.title(f'Propensity Compared to Cluster Size (distance {dist} m)', fontsize=20)\n",
    "    sns.stripplot(x=cluster_size_data[(cluster_size_data.Dist==dist) ]['All_nests'],\n",
    "        y=cluster_size_data[(cluster_size_data.Dist==dist)]['Total_propensity'],\n",
    "        jitter=0.3)\n",
    "    plt.ylabel('Number of Attacks (no data nests counts for 0.2))',fontsize=15)\n",
    "    plt.show()\n"
   ]
  },
  {
   "cell_type": "markdown",
   "metadata": {},
   "source": [
    "First we plot the propensity data for all cluster distances. No data nests are considered to be aggressive with 20 percent probability. There exist only a few clusters with a high number of nests. Therefore it can not be said for sure whether the cluster size affects the number of attacks. Moreover, the clusters with long distances have the clusters with higher numbers of nests. The reed warblers can learn the behaviour of the neighbour nest when the nests are approximately within 15 metres. Thus the number of propensities with bigger clusters may not give as reliable data to say anything about the behaviour. In these plots all years are present in each cluster distance plot.\n",
    "\n",
    "The last plot shows the number of nests and the propensity in the cluster for all years separately. One can change the distance between the nests and give that as a parameter for the function. The allowed distances are 15, 30, 50, 100, 200 and 300."
   ]
  },
  {
   "cell_type": "code",
   "execution_count": null,
   "metadata": {},
   "outputs": [],
   "source": [
    "for dist in [15,30,50,100,200,300]:\n",
    "  plot_mobbing_vs_cluster_size(dist)\n",
    "\n",
    "# Here you can choose the cluster distance.\n",
    "dist = 50\n",
    "create_plots_cluster_propensity(dist)"
   ]
  },
  {
   "cell_type": "markdown",
   "metadata": {},
   "source": [
    "The following function creates an interactive map for the all nests present for the chosen year. If the map is zoomed closer the clusters in the map grows smaller and the number of them increases. More information about the nest is obtained by clicking a nest. The distance between nests and therefore the nummber of existing clusters, can be given by the user. The clusterid is shown in the nest data."
   ]
  },
  {
   "cell_type": "code",
   "execution_count": null,
   "metadata": {},
   "outputs": [],
   "source": [
    "def plot_clustermap(year, dist):\n",
    "    df_general_data, df_clusters, df_location_data = fetch_data()\n",
    "# Basic cluster map with folium\n",
    "    lat_coord = (max(df_location_data['lat']) + min(df_location_data['lat']))/2\n",
    "    long_coord = (max(df_location_data['long']) + min(df_location_data['long']))/2\n",
    "    map = folium.Map(location=[lat_coord, long_coord], default_zoom_start=15, control_scale=True)\n",
    "    cluster = MarkerCluster(name=f'Nests {year}')\n",
    "    nests_current_year = df_clusters[df_clusters['Year'] == year]\n",
    "    for i in range(min(df_clusters[f'ClusterID_{dist}']),max(df_clusters[f'ClusterID_{dist}'])+1):\n",
    "        nests = nests_current_year[nests_current_year[f'ClusterID_{dist}'] == i]\n",
    "        if len(nests) > 0:\n",
    "            df_nests = df_location_data.loc[nests.index]\n",
    "            df_nests['NestID'] = df_nests.index.values\n",
    "            df_nests['Propensity'] = [df_general_data.loc[nestID]['Propensity'] if nestID in df_general_data.index else np.nan for nestID in nests.index.values]\n",
    "            df_nests.apply(\n",
    "                lambda row:\n",
    "                    folium.Marker(\n",
    "                        location=[row['lat'],row['long']],\n",
    "                        popup= [i,row['NestID'],row['Site'],row['Propensity']],\n",
    "                        tooltip='<h5>Click for more info</5>',\n",
    "                    ).add_to(cluster),\n",
    "                    axis=1)\n",
    "            cluster.add_to(map)\n",
    "    return map"
   ]
  },
  {
   "cell_type": "code",
   "execution_count": null,
   "metadata": {},
   "outputs": [],
   "source": [
    "map2019 = plot_clustermap(2019, 50)\n",
    "map2019"
   ]
  },
  {
   "cell_type": "code",
   "execution_count": null,
   "metadata": {},
   "outputs": [],
   "source": [
    "map2020 = plot_clustermap(2020, 50)\n",
    "map2020"
   ]
  },
  {
   "cell_type": "code",
   "execution_count": null,
   "metadata": {},
   "outputs": [],
   "source": [
    "map2021 = plot_clustermap(2021, 50)\n",
    "map2021"
   ]
  }
 ],
 "metadata": {
  "interpreter": {
   "hash": "78e0c8253b78ea2123fd34f39776e8bd9484364bf90b76c816a27c2bf98ce59c"
  },
  "kernelspec": {
   "display_name": "Python 3.9.10 ('geo-env')",
   "language": "python",
   "name": "python3"
  },
  "language_info": {
   "codemirror_mode": {
    "name": "ipython",
    "version": 3
   },
   "file_extension": ".py",
   "mimetype": "text/x-python",
   "name": "python",
   "nbconvert_exporter": "python",
   "pygments_lexer": "ipython3",
   "version": "3.9.10"
  },
  "orig_nbformat": 4
 },
 "nbformat": 4,
 "nbformat_minor": 2
}
