{
 "cells": [
  {
   "cell_type": "markdown",
   "id": "6af5bc3e",
   "metadata": {},
   "source": [
    "This notebook transforms maps of sites and nests into images with plain backgrounds and clusters those images into 3 classes to explore patterns the clusters of nests might share.\n",
    "\n",
    "Load libraries needed for this analysis:"
   ]
  },
  {
   "cell_type": "code",
   "execution_count": null,
   "id": "e42e6a20",
   "metadata": {},
   "outputs": [],
   "source": [
    "import numpy as np\n",
    "import pandas as pd\n",
    "import matplotlib.pyplot as plt\n",
    "import seaborn as sns\n",
    "import matplotlib\n",
    "import matplotlib.colors as mcolors\n",
    "\n",
    "# functions for K-means clustering\n",
    "import code_for_image_clustering_with_Kmeans as ic"
   ]
  },
  {
   "cell_type": "markdown",
   "id": "4f681cdf",
   "metadata": {},
   "source": [
    "Load datasets and combine them into a dataframe:"
   ]
  },
  {
   "cell_type": "code",
   "execution_count": null,
   "id": "274c94a5",
   "metadata": {},
   "outputs": [],
   "source": [
    "dataframe_location_2019_2020 = pd.read_csv(\"../../resources/original_data/FinlandNestDatafile.csv\")\n",
    "dataframe_location_2021 = pd.read_csv(\"../../resources/original_data/Finland_nestdata2021_mod.csv\")\n",
    "dataframe_mobbing_2019_2020 = pd.read_csv(\"../../resources/original_data/FinlandMobbingDatafile.csv\")\n",
    "dataframe_mobbing_2021 = pd.read_csv(\"../../resources/original_data/Finland_ExperimentData2021_mod.csv\")\n",
    "\n",
    "# combine mobbing dataframes:\n",
    "dataframe_mobbing = pd.concat([dataframe_mobbing_2021,dataframe_mobbing_2019_2020], axis=0, ignore_index=True)\n",
    "# combine locations:\n",
    "dataframe_location_2021['Year'] = np.repeat(2021, dataframe_location_2021.shape[0])\n",
    "dataframe_location = pd.concat([dataframe_location_2019_2020,dataframe_location_2021], axis=0, ignore_index=True)\n",
    "\n",
    "dataframe_mobbing = dataframe_mobbing.drop(\n",
    "    columns=['Site', 'Year', 'lat', 'long', 'Cuckoo_perch', 'New_rebuild', 'Rebuild_original']\n",
    ")\n",
    "\n",
    "data = pd.merge(dataframe_location, dataframe_mobbing, left_on='NestID', right_on='NestID', how = 'left')"
   ]
  },
  {
   "cell_type": "markdown",
   "id": "6d102946",
   "metadata": {},
   "source": [
    "Create a unique for each site by combining columns 'Site' and 'Year':"
   ]
  },
  {
   "cell_type": "code",
   "execution_count": null,
   "id": "fc51cf5c",
   "metadata": {},
   "outputs": [],
   "source": [
    "# create clusterId:\n",
    "data['Site'] = data['Site'].str.strip()\n",
    "data['clusterId'] = data.Site  + '_' + data.Year.astype(str)"
   ]
  },
  {
   "cell_type": "markdown",
   "id": "70006b07",
   "metadata": {},
   "source": [
    "Transform maps of sites and nests into images with plain backgrounds:\n",
    "\n",
    "The output images are saved into 'maps' folder."
   ]
  },
  {
   "cell_type": "code",
   "execution_count": null,
   "id": "7ebe4e33",
   "metadata": {},
   "outputs": [],
   "source": [
    "# set color palette: \n",
    "# (shy = green, aggressive = red, no-data nest = black)\n",
    "cmap, norm = mcolors.from_levels_and_colors([-1, 0.5, 1.5, 3], ['green', 'red', 'black'])\n",
    "\n",
    "\n",
    "# transform sites into images and save them into 'maps' folder\n",
    "for c_id in data.clusterId.unique():\n",
    "    tmp = data[data['clusterId'] == c_id].copy().reset_index()\n",
    "    # choose columns and replace NaN with '-1'\n",
    "    tmp = tmp[['lat', 'long', 'Propensity']].fillna(2)\n",
    "    plt.scatter(tmp.long, tmp.lat,c = tmp.Propensity, cmap=cmap, norm=norm)\n",
    "    plt.axis('off')\n",
    "    plt.savefig(\"maps/\" + c_id + \".png\", bbox_inches='tight', facecolor = 'white')\n",
    "    #plt.show()"
   ]
  },
  {
   "cell_type": "markdown",
   "id": "88da1526",
   "metadata": {},
   "source": [
    "Cluster images saved in 'maps' into 3 classes using K-means algorithm:\n",
    "\n",
    "The following parameters can be changed:\n",
    "- number_of_cluster\n",
    "- data_path: path of the folder that contains the images used in the clustering"
   ]
  },
  {
   "cell_type": "code",
   "execution_count": null,
   "id": "ead99313",
   "metadata": {},
   "outputs": [],
   "source": [
    "number_of_clusters = 3 \n",
    "data_path = \"maps\"\n",
    "\n",
    "temp = ic.image_clustering(data_path, number_of_clusters)\n",
    "temp.load_images()\n",
    "temp.clustering()"
   ]
  },
  {
   "cell_type": "markdown",
   "id": "324c75cc",
   "metadata": {},
   "source": [
    "The output classes of the clustering can be found in 'KMeans_output' folder."
   ]
  }
 ],
 "metadata": {
  "kernelspec": {
   "display_name": "Python 3 (ipykernel)",
   "language": "python",
   "name": "python3"
  },
  "language_info": {
   "codemirror_mode": {
    "name": "ipython",
    "version": 3
   },
   "file_extension": ".py",
   "mimetype": "text/x-python",
   "name": "python",
   "nbconvert_exporter": "python",
   "pygments_lexer": "ipython3",
   "version": "3.8.13"
  }
 },
 "nbformat": 4,
 "nbformat_minor": 5
}
